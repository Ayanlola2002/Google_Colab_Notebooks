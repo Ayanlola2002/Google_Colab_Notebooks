{
  "nbformat": 4,
  "nbformat_minor": 0,
  "metadata": {
    "colab": {
      "name": "Flatten a PyTorch Tensor.ipynb",
      "version": "0.3.2",
      "provenance": [],
      "collapsed_sections": [],
      "include_colab_link": true
    },
    "kernelspec": {
      "name": "python3",
      "display_name": "Python 3"
    }
  },
  "cells": [
    {
      "cell_type": "markdown",
      "metadata": {
        "id": "view-in-github",
        "colab_type": "text"
      },
      "source": [
        "<a href=\"https://colab.research.google.com/github/paulgureghian/Google_Colab_Notebooks/blob/master/Flatten_a_PyTorch_Tensor.ipynb\" target=\"_parent\"><img src=\"https://colab.research.google.com/assets/colab-badge.svg\" alt=\"Open In Colab\"/></a>"
      ]
    },
    {
      "metadata": {
        "id": "H1VR2oPWeX3r",
        "colab_type": "text"
      },
      "cell_type": "markdown",
      "source": [
        "**Created by Paul A. Gureghian on 11/22/18.** \n",
        "\n",
        "**This notbook shows how to flatten a Pytorch tensor,**\n",
        "\n",
        "**by using the PyTorch view operation.**"
      ]
    },
    {
      "metadata": {
        "id": "a698V10QePdz",
        "colab_type": "code",
        "colab": {
          "base_uri": "https://localhost:8080/",
          "height": 54
        },
        "outputId": "f8bb91d7-b7bc-42ca-b0a0-8e6a728ab1fd"
      },
      "cell_type": "code",
      "source": [
        "### install pytorch\n",
        "\n",
        "!pip3 install -U -q http://download.pytorch.org/whl/cu92/torch-0.4.1-cp36-cp36m-linux_x86_64.whl"
      ],
      "execution_count": 1,
      "outputs": [
        {
          "output_type": "stream",
          "text": [
            "tcmalloc: large alloc 1073750016 bytes == 0x57712000 @  0x7f3d34c742a4 0x591a07 0x5b5d56 0x502e9a 0x506859 0x502209 0x502f3d 0x506859 0x504c28 0x502540 0x502f3d 0x506859 0x504c28 0x502540 0x502f3d 0x506859 0x504c28 0x502540 0x502f3d 0x507641 0x502209 0x502f3d 0x506859 0x504c28 0x502540 0x502f3d 0x507641 0x504c28 0x502540 0x502f3d 0x507641\n"
          ],
          "name": "stdout"
        }
      ]
    },
    {
      "metadata": {
        "id": "1qczWEtOgi5V",
        "colab_type": "code",
        "colab": {}
      },
      "cell_type": "code",
      "source": [
        "### import torch \n",
        "\n",
        "import torch"
      ],
      "execution_count": 0,
      "outputs": []
    },
    {
      "metadata": {
        "id": "2fCd-ZMIgr4q",
        "colab_type": "code",
        "colab": {
          "base_uri": "https://localhost:8080/",
          "height": 34
        },
        "outputId": "83bbb5e2-8cc8-469c-e1b8-3cab9073974e"
      },
      "cell_type": "code",
      "source": [
        "### print torch version \n",
        "\n",
        "print(torch.__version__)"
      ],
      "execution_count": 3,
      "outputs": [
        {
          "output_type": "stream",
          "text": [
            "0.4.1\n"
          ],
          "name": "stdout"
        }
      ]
    },
    {
      "metadata": {
        "id": "EdnKvYxPg7wC",
        "colab_type": "code",
        "colab": {}
      },
      "cell_type": "code",
      "source": [
        "### create an initial pytorch tensor\n",
        "\n",
        "pt_initial_tensor_ex = torch.Tensor(\n",
        "[\n",
        "    [\n",
        "         [ 1, 2, 3, 4],\n",
        "         [ 5, 6, 7, 8]\n",
        "    ]\n",
        "    ,\n",
        "    [\n",
        "         [ 9, 10, 11, 12],\n",
        "         [13, 14, 15, 16]\n",
        "    ]\n",
        "    ,\n",
        "    [\n",
        "        [17, 18, 19, 20],\n",
        "        [21, 22, 23, 24]\n",
        "    ]\n",
        "])       "
      ],
      "execution_count": 0,
      "outputs": []
    },
    {
      "metadata": {
        "id": "3AiiGe9lkYDe",
        "colab_type": "code",
        "colab": {
          "base_uri": "https://localhost:8080/",
          "height": 34
        },
        "outputId": "2c638994-d742-49a0-986e-b4ce41e54c0f"
      },
      "cell_type": "code",
      "source": [
        "### shape of tensor \n",
        "\n",
        "print(\"shape of tensor: \", pt_initial_tensor_ex.shape) "
      ],
      "execution_count": 12,
      "outputs": [
        {
          "output_type": "stream",
          "text": [
            "shape of tensor:  torch.Size([3, 2, 4])\n"
          ],
          "name": "stdout"
        }
      ]
    },
    {
      "metadata": {
        "id": "mCHJVMeDm79M",
        "colab_type": "code",
        "colab": {
          "base_uri": "https://localhost:8080/",
          "height": 170
        },
        "outputId": "3533bf19-8a5a-4e0c-d65d-5911c94ed4a5"
      },
      "cell_type": "code",
      "source": [
        "### print the tensor \n",
        "\n",
        "print(\"pt_init_tensor_ex:\\n \", pt_initial_tensor_ex) "
      ],
      "execution_count": 17,
      "outputs": [
        {
          "output_type": "stream",
          "text": [
            "pt_init_tensor_ex:\n",
            "  tensor([[[ 1.,  2.,  3.,  4.],\n",
            "         [ 5.,  6.,  7.,  8.]],\n",
            "\n",
            "        [[ 9., 10., 11., 12.],\n",
            "         [13., 14., 15., 16.]],\n",
            "\n",
            "        [[17., 18., 19., 20.],\n",
            "         [21., 22., 23., 24.]]])\n"
          ],
          "name": "stdout"
        }
      ]
    },
    {
      "metadata": {
        "id": "T_ttJu3cn1aY",
        "colab_type": "code",
        "colab": {}
      },
      "cell_type": "code",
      "source": [
        "### flatten the tensor to a list of 24 elements \n",
        "\n",
        "pt_flattened_tensor_ex =  pt_initial_tensor_ex.view(-1) "
      ],
      "execution_count": 0,
      "outputs": []
    },
    {
      "metadata": {
        "id": "FTo52vGdrrIk",
        "colab_type": "code",
        "colab": {
          "base_uri": "https://localhost:8080/",
          "height": 34
        },
        "outputId": "438b09fc-2c23-4816-e2bb-7eaf25f34ba3"
      },
      "cell_type": "code",
      "source": [
        "### shape of flattened tensor \n",
        "\n",
        "print(\"shape of flattened tensor: \", pt_flattened_tensor_ex.shape) "
      ],
      "execution_count": 21,
      "outputs": [
        {
          "output_type": "stream",
          "text": [
            "shape of flattened tensor:  torch.Size([24])\n"
          ],
          "name": "stdout"
        }
      ]
    },
    {
      "metadata": {
        "id": "Y9kt2zWNtcXE",
        "colab_type": "code",
        "colab": {
          "base_uri": "https://localhost:8080/",
          "height": 68
        },
        "outputId": "a1ac28b1-03f2-4fe6-a81e-1706fb3bcc59"
      },
      "cell_type": "code",
      "source": [
        "### print the flattened tensor \n",
        "\n",
        "print(\"pt_flattened_tensor_ex:\\n \", pt_flattened_tensor_ex)"
      ],
      "execution_count": 22,
      "outputs": [
        {
          "output_type": "stream",
          "text": [
            "pt_flattened_tensor_ex:\n",
            "  tensor([ 1.,  2.,  3.,  4.,  5.,  6.,  7.,  8.,  9., 10., 11., 12., 13., 14.,\n",
            "        15., 16., 17., 18., 19., 20., 21., 22., 23., 24.])\n"
          ],
          "name": "stdout"
        }
      ]
    },
    {
      "metadata": {
        "id": "VqTpIf9euTzf",
        "colab_type": "code",
        "colab": {
          "base_uri": "https://localhost:8080/",
          "height": 204
        },
        "outputId": "a4db59e1-c7ac-4926-8196-0df9ae374cca"
      },
      "cell_type": "code",
      "source": [
        "### check that the original tensor did not change in place \n",
        "\n",
        "print(\"shape of init tensor: \", pt_initial_tensor_ex.shape) \n",
        "print('')\n",
        "print(\"pt_init_tensor_ex:\\n \", pt_initial_tensor_ex) "
      ],
      "execution_count": 23,
      "outputs": [
        {
          "output_type": "stream",
          "text": [
            "shape of init tensor:  torch.Size([3, 2, 4])\n",
            "\n",
            "pt_init_tensor_ex:\n",
            "  tensor([[[ 1.,  2.,  3.,  4.],\n",
            "         [ 5.,  6.,  7.,  8.]],\n",
            "\n",
            "        [[ 9., 10., 11., 12.],\n",
            "         [13., 14., 15., 16.]],\n",
            "\n",
            "        [[17., 18., 19., 20.],\n",
            "         [21., 22., 23., 24.]]])\n"
          ],
          "name": "stdout"
        }
      ]
    },
    {
      "metadata": {
        "id": "PZeEqb44vjib",
        "colab_type": "text"
      },
      "cell_type": "markdown",
      "source": [
        "**We flattened a PyTorch tensor with the PyTorch view operation and the negative one.**"
      ]
    }
  ]
}