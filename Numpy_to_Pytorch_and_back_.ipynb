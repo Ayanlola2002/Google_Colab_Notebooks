{
  "nbformat": 4,
  "nbformat_minor": 0,
  "metadata": {
    "colab": {
      "name": "Numpy to Pytorch and back .ipynb",
      "version": "0.3.2",
      "provenance": [],
      "collapsed_sections": [],
      "include_colab_link": true
    },
    "kernelspec": {
      "name": "python3",
      "display_name": "Python 3"
    }
  },
  "cells": [
    {
      "cell_type": "markdown",
      "metadata": {
        "id": "view-in-github",
        "colab_type": "text"
      },
      "source": [
        "<a href=\"https://colab.research.google.com/github/paulgureghian/Google_Colab_Notebooks/blob/master/Numpy_to_Pytorch_and_back_.ipynb\" target=\"_parent\"><img src=\"https://colab.research.google.com/assets/colab-badge.svg\" alt=\"Open In Colab\"/></a>"
      ]
    },
    {
      "metadata": {
        "id": "iAOXLq0CRdg_",
        "colab_type": "text"
      },
      "cell_type": "markdown",
      "source": [
        "**How to convert Numpy arrays to Pytorch tensors.**\n",
        "\n",
        "**And how to convert Pytorch tensors to Numpy arrays.**"
      ]
    },
    {
      "metadata": {
        "id": "12z8QpjdWc5L",
        "colab_type": "code",
        "outputId": "f81a5186-a05f-487d-d70a-0dd598f910b4",
        "colab": {
          "base_uri": "https://localhost:8080/",
          "height": 54
        }
      },
      "cell_type": "code",
      "source": [
        "### install pytorch \n",
        "!pip3 install -U -q http://download.pytorch.org/whl/cu92/torch-0.4.1-cp36-cp36m-linux_x86_64.whl"
      ],
      "execution_count": 0,
      "outputs": [
        {
          "output_type": "stream",
          "text": [
            "tcmalloc: large alloc 1073750016 bytes == 0x588e4000 @  0x7f78b9db72a4 0x591a07 0x5b5d56 0x502e9a 0x506859 0x502209 0x502f3d 0x506859 0x504c28 0x502540 0x502f3d 0x506859 0x504c28 0x502540 0x502f3d 0x506859 0x504c28 0x502540 0x502f3d 0x507641 0x502209 0x502f3d 0x506859 0x504c28 0x502540 0x502f3d 0x507641 0x504c28 0x502540 0x502f3d 0x507641\n"
          ],
          "name": "stdout"
        }
      ]
    },
    {
      "metadata": {
        "id": "cfm3Qs0CTAYg",
        "colab_type": "code",
        "colab": {}
      },
      "cell_type": "code",
      "source": [
        "### import packages\n",
        "import torch\n",
        "import numpy as np"
      ],
      "execution_count": 0,
      "outputs": []
    },
    {
      "metadata": {
        "id": "rv2UZ7pMU-a1",
        "colab_type": "code",
        "outputId": "6844c7a8-71e3-40f8-942b-c9897944d5e4",
        "colab": {
          "base_uri": "https://localhost:8080/",
          "height": 85
        }
      },
      "cell_type": "code",
      "source": [
        "### create a 4 X 3 numpy array\n",
        "a = np.random.rand(4,3)\n",
        "a"
      ],
      "execution_count": 0,
      "outputs": [
        {
          "output_type": "execute_result",
          "data": {
            "text/plain": [
              "array([[0.48118521, 0.44220094, 0.6206832 ],\n",
              "       [0.80926846, 0.54362624, 0.90551087],\n",
              "       [0.1272961 , 0.59223918, 0.54121959],\n",
              "       [0.20503115, 0.70358754, 0.12773411]])"
            ]
          },
          "metadata": {
            "tags": []
          },
          "execution_count": 3
        }
      ]
    },
    {
      "metadata": {
        "id": "TCwnoQCIV9W-",
        "colab_type": "code",
        "outputId": "bf6a8f3d-859a-4bdf-d90e-9dcd33176cec",
        "colab": {
          "base_uri": "https://localhost:8080/",
          "height": 85
        }
      },
      "cell_type": "code",
      "source": [
        "### convert numpy array to pytorch tensor\n",
        "b = torch.from_numpy(a)\n",
        "b"
      ],
      "execution_count": 0,
      "outputs": [
        {
          "output_type": "execute_result",
          "data": {
            "text/plain": [
              "tensor([[0.4812, 0.4422, 0.6207],\n",
              "        [0.8093, 0.5436, 0.9055],\n",
              "        [0.1273, 0.5922, 0.5412],\n",
              "        [0.2050, 0.7036, 0.1277]], dtype=torch.float64)"
            ]
          },
          "metadata": {
            "tags": []
          },
          "execution_count": 4
        }
      ]
    },
    {
      "metadata": {
        "id": "lyd6QGJRZDBA",
        "colab_type": "code",
        "outputId": "8610869a-781e-44e5-f333-632aecccaa6c",
        "colab": {
          "base_uri": "https://localhost:8080/",
          "height": 85
        }
      },
      "cell_type": "code",
      "source": [
        "### convert pytorch tensor to numpy array\n",
        "b.numpy()\n"
      ],
      "execution_count": 0,
      "outputs": [
        {
          "output_type": "execute_result",
          "data": {
            "text/plain": [
              "array([[0.48118521, 0.44220094, 0.6206832 ],\n",
              "       [0.80926846, 0.54362624, 0.90551087],\n",
              "       [0.1272961 , 0.59223918, 0.54121959],\n",
              "       [0.20503115, 0.70358754, 0.12773411]])"
            ]
          },
          "metadata": {
            "tags": []
          },
          "execution_count": 5
        }
      ]
    },
    {
      "metadata": {
        "id": "kFCEx8kyaJ5O",
        "colab_type": "code",
        "outputId": "35d40eb9-cf90-46e4-a2b6-cddbc12822df",
        "colab": {
          "base_uri": "https://localhost:8080/",
          "height": 85
        }
      },
      "cell_type": "code",
      "source": [
        "### multiply pytorch tensor by 2, in place\n",
        "b.mul_(2)"
      ],
      "execution_count": 0,
      "outputs": [
        {
          "output_type": "execute_result",
          "data": {
            "text/plain": [
              "tensor([[0.9624, 0.8844, 1.2414],\n",
              "        [1.6185, 1.0873, 1.8110],\n",
              "        [0.2546, 1.1845, 1.0824],\n",
              "        [0.4101, 1.4072, 0.2555]], dtype=torch.float64)"
            ]
          },
          "metadata": {
            "tags": []
          },
          "execution_count": 6
        }
      ]
    },
    {
      "metadata": {
        "id": "as8VKLCjaYv8",
        "colab_type": "code",
        "outputId": "6afb0316-0b5e-4ff4-ddca-049b4ed671e1",
        "colab": {
          "base_uri": "https://localhost:8080/",
          "height": 85
        }
      },
      "cell_type": "code",
      "source": [
        "### numpy array matches new values from pytorch tensor\n",
        "a"
      ],
      "execution_count": 0,
      "outputs": [
        {
          "output_type": "execute_result",
          "data": {
            "text/plain": [
              "array([[0.96237043, 0.88440189, 1.24136639],\n",
              "       [1.61853692, 1.08725248, 1.81102174],\n",
              "       [0.2545922 , 1.18447836, 1.08243919],\n",
              "       [0.41006229, 1.40717508, 0.25546822]])"
            ]
          },
          "metadata": {
            "tags": []
          },
          "execution_count": 7
        }
      ]
    }
  ]
}