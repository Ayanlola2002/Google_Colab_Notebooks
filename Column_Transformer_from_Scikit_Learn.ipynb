{
  "nbformat": 4,
  "nbformat_minor": 0,
  "metadata": {
    "colab": {
      "name": "Column Transformer from Scikit-Learn.ipynb",
      "version": "0.3.2",
      "provenance": [],
      "collapsed_sections": [],
      "include_colab_link": true
    },
    "kernelspec": {
      "name": "python3",
      "display_name": "Python 3"
    }
  },
  "cells": [
    {
      "cell_type": "markdown",
      "metadata": {
        "id": "view-in-github",
        "colab_type": "text"
      },
      "source": [
        "<a href=\"https://colab.research.google.com/github/paulgureghian/Google_Colab_Notebooks/blob/master/Column_Transformer_from_Scikit_Learn.ipynb\" target=\"_parent\"><img src=\"https://colab.research.google.com/assets/colab-badge.svg\" alt=\"Open In Colab\"/></a>"
      ]
    },
    {
      "metadata": {
        "id": "YRMRRLse647F",
        "colab_type": "text"
      },
      "cell_type": "markdown",
      "source": [
        "**Click \"File\" > \"Save a copy in Drive\", then press \"Runtime\" > \"Run all\", in the copy.**"
      ]
    },
    {
      "metadata": {
        "id": "jKvgR1gLLLUw",
        "colab_type": "text"
      },
      "cell_type": "markdown",
      "source": [
        "**Created by Paul A. Gureghian on 10/2/2018.**\n",
        "\n",
        "**This notebook contains a demonstration of the new Column Transformer from Scikit-Learn. ** \n",
        "\n",
        "**This function allows you to combine several feature extraction or transformation methods into a single transformer.**\n",
        "\n",
        "**The data set I am using was taken from the Analytics Vidhya loan prediction competition. The purpose of this competition is to predict wether or not a loan application will be successful based on a number of customer features. This contains both categorical and numerical variables, and is a nice simple data set to practice using the new ColumnTransformer.**"
      ]
    },
    {
      "metadata": {
        "id": "aqcfTBI5pB_I",
        "colab_type": "code",
        "colab": {}
      },
      "cell_type": "code",
      "source": [
        "### install pydrive \n",
        "!pip install -U -q Pydrive "
      ],
      "execution_count": 0,
      "outputs": []
    },
    {
      "metadata": {
        "id": "CiwFtSzVFHXp",
        "colab_type": "code",
        "colab": {}
      },
      "cell_type": "code",
      "source": [
        "### install scikit-learn==0.20.0\n",
        "!pip install -U -q scikit-learn==0.20.0"
      ],
      "execution_count": 0,
      "outputs": []
    },
    {
      "metadata": {
        "id": "rL7BZ6qiLkiw",
        "colab_type": "code",
        "colab": {}
      },
      "cell_type": "code",
      "source": [
        "### import packages \n",
        "import pandas as pd \n",
        "\n",
        "from google.colab import auth\n",
        "from pydrive.auth import GoogleAuth\n",
        "from pydrive.drive import GoogleDrive  \n",
        "from oauth2client.client import GoogleCredentials\n",
        "\n",
        "from sklearn.preprocessing import Normalizer\n",
        "from sklearn.compose import ColumnTransformer\n",
        "from sklearn.preprocessing import OneHotEncoder\n",
        "from sklearn.ensemble import RandomForestClassifier\n",
        "from sklearn.model_selection import train_test_split \n",
        "from sklearn.metrics import accuracy_score, classification_report"
      ],
      "execution_count": 0,
      "outputs": []
    },
    {
      "metadata": {
        "id": "c-1AiNfqz_S1",
        "colab_type": "code",
        "colab": {}
      },
      "cell_type": "code",
      "source": [
        "### **Click on the link, login to your google account, copy the verification code, paste the code into the box, hit enter** ###  \n",
        "\n",
        "### instantiate the pydrive client \n",
        "auth.authenticate_user()\n",
        "gauth = GoogleAuth() \n",
        "gauth.credentials = GoogleCredentials.get_application_default() \n",
        "drive = GoogleDrive(gauth)   "
      ],
      "execution_count": 0,
      "outputs": []
    },
    {
      "metadata": {
        "id": "tVoEaWriCm4j",
        "colab_type": "code",
        "outputId": "375a8a02-e302-47e9-8c09-4343358af60a",
        "colab": {
          "base_uri": "https://localhost:8080/",
          "height": 51
        }
      },
      "cell_type": "code",
      "source": [
        "### get a list of the csv files and their IDs used in this demo\n",
        "file_list = drive.ListFile({'q' : \"'1oO3S07GjwQrs_LWc1S-KXqfoM2G-Xz7w' in parents and trashed=false\"}).GetList()\n",
        "for file1 in file_list:\n",
        "    \n",
        "    print('title: %s, id: %s' % (file1['title'], file1['id']))                           "
      ],
      "execution_count": 0,
      "outputs": [
        {
          "output_type": "stream",
          "text": [
            "title: test_loan_prediction.csv, id: 1jTZfVdeHPmQMjIzywBdjB4H_mrQr4ED-\n",
            "title: train_loan_prediction.csv, id: 1QIaCv92FK89WneMhXDr0DQw2ZRK-jXB_\n"
          ],
          "name": "stdout"
        }
      ]
    },
    {
      "metadata": {
        "id": "bINFwi9_5xoN",
        "colab_type": "code",
        "outputId": "ada92b87-3102-4851-aa88-1f3ce39d8400",
        "colab": {
          "base_uri": "https://localhost:8080/",
          "height": 34
        }
      },
      "cell_type": "code",
      "source": [
        "### pull the files into Google Colab, save the files in the notebook, and set the file names\n",
        "train_downloaded = drive.CreateFile({'id' : '1QIaCv92FK89WneMhXDr0DQw2ZRK-jXB_'})\n",
        "train_downloaded.GetContentFile('train_loan_prediction.csv')\n",
        "test_downloaded = drive.CreateFile({'id' : '1jTZfVdeHPmQMjIzywBdjB4H_mrQr4ED-'})\n",
        "test_downloaded.GetContentFile('test_loan_prediction.csv')  \n",
        "\n",
        "print(\"Files successfully imported.\")  "
      ],
      "execution_count": 0,
      "outputs": [
        {
          "output_type": "stream",
          "text": [
            "Files successfully imported.\n"
          ],
          "name": "stdout"
        }
      ]
    },
    {
      "metadata": {
        "id": "DPeeP2GUN73W",
        "colab_type": "code",
        "outputId": "be480843-b290-48e6-a508-4153f320decf",
        "colab": {
          "base_uri": "https://localhost:8080/",
          "height": 765
        }
      },
      "cell_type": "code",
      "source": [
        "### read in the data to a pandas dataframe\n",
        "train =  pd.read_csv('train_loan_prediction.csv')\n",
        "test = pd.read_csv('test_loan_prediction.csv')\n",
        "\n",
        "### print the head() of both datasets\n",
        "print(\"Train set:\\n\", train.head())\n",
        "print('')\n",
        "print(\"Test set:\\n\", test.head()) \n",
        "print('')"
      ],
      "execution_count": 0,
      "outputs": [
        {
          "output_type": "stream",
          "text": [
            "Train set:\n",
            "     Loan_ID Gender Married Dependents     Education Self_Employed  \\\n",
            "0  LP001002   Male      No          0      Graduate            No   \n",
            "1  LP001003   Male     Yes          1      Graduate            No   \n",
            "2  LP001005   Male     Yes          0      Graduate           Yes   \n",
            "3  LP001006   Male     Yes          0  Not Graduate            No   \n",
            "4  LP001008   Male      No          0      Graduate            No   \n",
            "\n",
            "   ApplicantIncome  CoapplicantIncome  LoanAmount  Loan_Amount_Term  \\\n",
            "0             5849                0.0         NaN             360.0   \n",
            "1             4583             1508.0       128.0             360.0   \n",
            "2             3000                0.0        66.0             360.0   \n",
            "3             2583             2358.0       120.0             360.0   \n",
            "4             6000                0.0       141.0             360.0   \n",
            "\n",
            "   Credit_History Property_Area Loan_Status  \n",
            "0             1.0         Urban           Y  \n",
            "1             1.0         Rural           N  \n",
            "2             1.0         Urban           Y  \n",
            "3             1.0         Urban           Y  \n",
            "4             1.0         Urban           Y  \n",
            "\n",
            "Test set:\n",
            "     Loan_ID Gender Married Dependents     Education Self_Employed  \\\n",
            "0  LP001015   Male     Yes          0      Graduate            No   \n",
            "1  LP001022   Male     Yes          1      Graduate            No   \n",
            "2  LP001031   Male     Yes          2      Graduate            No   \n",
            "3  LP001035   Male     Yes          2      Graduate            No   \n",
            "4  LP001051   Male      No          0  Not Graduate            No   \n",
            "\n",
            "   ApplicantIncome  CoapplicantIncome  LoanAmount  Loan_Amount_Term  \\\n",
            "0             5720                  0       110.0             360.0   \n",
            "1             3076               1500       126.0             360.0   \n",
            "2             5000               1800       208.0             360.0   \n",
            "3             2340               2546       100.0             360.0   \n",
            "4             3276                  0        78.0             360.0   \n",
            "\n",
            "   Credit_History Property_Area  \n",
            "0             1.0         Urban  \n",
            "1             1.0         Urban  \n",
            "2             1.0         Urban  \n",
            "3             NaN         Urban  \n",
            "4             1.0         Urban  \n",
            "\n"
          ],
          "name": "stdout"
        }
      ]
    },
    {
      "metadata": {
        "id": "pOZwmi1LYdbA",
        "colab_type": "code",
        "outputId": "d52bb577-3746-4c2f-a3b9-3a81045bdc90",
        "colab": {
          "base_uri": "https://localhost:8080/",
          "height": 34
        }
      },
      "cell_type": "code",
      "source": [
        "### print the shapes\n",
        "print(train.shape, test.shape)"
      ],
      "execution_count": 0,
      "outputs": [
        {
          "output_type": "stream",
          "text": [
            "(614, 13) (367, 12)\n"
          ],
          "name": "stdout"
        }
      ]
    },
    {
      "metadata": {
        "id": "ervwOOvFZ-DT",
        "colab_type": "code",
        "outputId": "6f1f40d7-16ee-4742-cbfd-b42d85f6d7de",
        "colab": {
          "base_uri": "https://localhost:8080/",
          "height": 544
        }
      },
      "cell_type": "code",
      "source": [
        "### print the datatypes\n",
        "print(\"Train set data types:\\n\", train.dtypes)\n",
        "print('')\n",
        "print(\"Test set data types:\\n\", test.dtypes)\n",
        "print('')   "
      ],
      "execution_count": 0,
      "outputs": [
        {
          "output_type": "stream",
          "text": [
            "Train set data types:\n",
            " Loan_ID               object\n",
            "Gender                object\n",
            "Married               object\n",
            "Dependents            object\n",
            "Education             object\n",
            "Self_Employed         object\n",
            "ApplicantIncome        int64\n",
            "CoapplicantIncome    float64\n",
            "LoanAmount           float64\n",
            "Loan_Amount_Term     float64\n",
            "Credit_History       float64\n",
            "Property_Area         object\n",
            "Loan_Status           object\n",
            "dtype: object\n",
            "\n",
            "Test set data types:\n",
            " Loan_ID               object\n",
            "Gender                object\n",
            "Married               object\n",
            "Dependents            object\n",
            "Education             object\n",
            "Self_Employed         object\n",
            "ApplicantIncome        int64\n",
            "CoapplicantIncome      int64\n",
            "LoanAmount           float64\n",
            "Loan_Amount_Term     float64\n",
            "Credit_History       float64\n",
            "Property_Area         object\n",
            "dtype: object\n",
            "\n"
          ],
          "name": "stdout"
        }
      ]
    },
    {
      "metadata": {
        "id": "fxNqm9mLbdCk",
        "colab_type": "code",
        "colab": {}
      },
      "cell_type": "code",
      "source": [
        "### drop the 'Loan_ID column' \n",
        "train = train.drop(['Loan_ID'], axis =1)\n",
        "test = test.drop(['Loan_ID'], axis =1)  "
      ],
      "execution_count": 0,
      "outputs": []
    },
    {
      "metadata": {
        "id": "AIY17qXQeZfI",
        "colab_type": "code",
        "colab": {}
      },
      "cell_type": "code",
      "source": [
        "### fill any null values with common values \n",
        "train = train.apply(lambda x:x.fillna(x.value_counts().index[0]))\n",
        "test = test.apply(lambda x:x.fillna(x.value_counts().index[0])) "
      ],
      "execution_count": 0,
      "outputs": []
    },
    {
      "metadata": {
        "id": "HhFPlF1VofLV",
        "colab_type": "code",
        "outputId": "dfeab376-54cb-47ad-c9e4-2f183acb9d5c",
        "colab": {
          "base_uri": "https://localhost:8080/",
          "height": 340
        }
      },
      "cell_type": "code",
      "source": [
        "### define variables: features 'X' and target 'y' \n",
        "feature_set = train.drop(['Loan_Status'], axis =1) \n",
        "X = feature_set.columns[:len(feature_set.columns)] \n",
        "y = 'Loan_Status'\n",
        "\n",
        "print(\"Head() of feature_set:\\n\", feature_set.head(1)) \n",
        "print('')\n",
        "print(\"Column names in X:\\n\", X) \n",
        "print('') \n",
        "print(\"Column name in y:\\n\", y)\n",
        "print('') "
      ],
      "execution_count": 0,
      "outputs": [
        {
          "output_type": "stream",
          "text": [
            "Head() of feature_set:\n",
            "   Gender Married Dependents Education Self_Employed  ApplicantIncome  \\\n",
            "0   Male      No          0  Graduate            No             5849   \n",
            "\n",
            "   CoapplicantIncome  LoanAmount  Loan_Amount_Term  Credit_History  \\\n",
            "0                0.0       120.0             360.0             1.0   \n",
            "\n",
            "  Property_Area  \n",
            "0         Urban  \n",
            "\n",
            "Column names in X:\n",
            " Index(['Gender', 'Married', 'Dependents', 'Education', 'Self_Employed',\n",
            "       'ApplicantIncome', 'CoapplicantIncome', 'LoanAmount',\n",
            "       'Loan_Amount_Term', 'Credit_History', 'Property_Area'],\n",
            "      dtype='object')\n",
            "\n",
            "Column name in y:\n",
            " Loan_Status\n",
            "\n"
          ],
          "name": "stdout"
        }
      ]
    },
    {
      "metadata": {
        "id": "kskhKCb-4T12",
        "colab_type": "code",
        "outputId": "4ea766c1-3ceb-4719-e186-aa96e94f105a",
        "colab": {
          "base_uri": "https://localhost:8080/",
          "height": 2533
        }
      },
      "cell_type": "code",
      "source": [
        "### split the training data into train and test sets \n",
        "X_train, X_test, y_train, y_test = train_test_split(train[X], train[y], random_state =0) \n",
        "\n",
        "### print the values in the train and test sets \n",
        "print(\"X_train:\\n\", X_train.head(1))  \n",
        "print('')\n",
        "print(\"X_test:\\n\", X_test.head(1)) \n",
        "print('')\n",
        "print(\"y_train:\\n\", y_train) \n",
        "print('')\n",
        "print(\"y_test:\\n\", y_test)  \n",
        "print('') "
      ],
      "execution_count": 0,
      "outputs": [
        {
          "output_type": "stream",
          "text": [
            "X_train:\n",
            "    Gender Married Dependents Education Self_Employed  ApplicantIncome  \\\n",
            "46   Male     Yes          1  Graduate            No             5649   \n",
            "\n",
            "    CoapplicantIncome  LoanAmount  Loan_Amount_Term  Credit_History  \\\n",
            "46                0.0        44.0             360.0             1.0   \n",
            "\n",
            "   Property_Area  \n",
            "46         Urban  \n",
            "\n",
            "X_test:\n",
            "     Gender Married Dependents Education Self_Employed  ApplicantIncome  \\\n",
            "454   Male      No          0  Graduate           Yes             7085   \n",
            "\n",
            "     CoapplicantIncome  LoanAmount  Loan_Amount_Term  Credit_History  \\\n",
            "454                0.0        84.0             360.0             1.0   \n",
            "\n",
            "    Property_Area  \n",
            "454     Semiurban  \n",
            "\n",
            "y_train:\n",
            " 46     Y\n",
            "272    Y\n",
            "474    Y\n",
            "382    Y\n",
            "283    Y\n",
            "107    N\n",
            "205    Y\n",
            "384    N\n",
            "0      Y\n",
            "202    N\n",
            "71     Y\n",
            "170    Y\n",
            "102    Y\n",
            "407    Y\n",
            "108    N\n",
            "573    N\n",
            "613    N\n",
            "313    Y\n",
            "509    Y\n",
            "419    Y\n",
            "298    N\n",
            "492    Y\n",
            "480    Y\n",
            "26     Y\n",
            "604    Y\n",
            "332    Y\n",
            "242    Y\n",
            "515    Y\n",
            "582    Y\n",
            "225    N\n",
            "      ..\n",
            "151    Y\n",
            "244    Y\n",
            "543    Y\n",
            "544    Y\n",
            "265    Y\n",
            "288    Y\n",
            "423    N\n",
            "147    Y\n",
            "177    N\n",
            "99     Y\n",
            "448    N\n",
            "431    N\n",
            "115    Y\n",
            "72     Y\n",
            "537    Y\n",
            "174    N\n",
            "87     Y\n",
            "551    Y\n",
            "486    N\n",
            "314    N\n",
            "396    N\n",
            "600    N\n",
            "472    Y\n",
            "70     Y\n",
            "599    Y\n",
            "277    Y\n",
            "9      N\n",
            "359    Y\n",
            "192    N\n",
            "559    Y\n",
            "Name: Loan_Status, Length: 460, dtype: object\n",
            "\n",
            "y_test:\n",
            " 454    Y\n",
            "52     N\n",
            "536    Y\n",
            "469    N\n",
            "55     Y\n",
            "62     N\n",
            "539    Y\n",
            "432    Y\n",
            "367    N\n",
            "482    Y\n",
            "310    Y\n",
            "498    Y\n",
            "233    Y\n",
            "361    Y\n",
            "424    Y\n",
            "357    N\n",
            "449    N\n",
            "386    Y\n",
            "473    Y\n",
            "553    N\n",
            "48     N\n",
            "433    Y\n",
            "243    Y\n",
            "356    Y\n",
            "187    Y\n",
            "511    Y\n",
            "440    Y\n",
            "173    Y\n",
            "211    N\n",
            "548    N\n",
            "      ..\n",
            "533    N\n",
            "452    N\n",
            "355    Y\n",
            "266    Y\n",
            "118    N\n",
            "144    Y\n",
            "403    Y\n",
            "603    Y\n",
            "366    N\n",
            "568    N\n",
            "235    Y\n",
            "239    Y\n",
            "315    Y\n",
            "318    Y\n",
            "132    Y\n",
            "566    Y\n",
            "279    Y\n",
            "493    Y\n",
            "358    N\n",
            "425    Y\n",
            "592    Y\n",
            "308    N\n",
            "96     Y\n",
            "443    Y\n",
            "532    N\n",
            "399    N\n",
            "89     Y\n",
            "271    Y\n",
            "563    Y\n",
            "162    N\n",
            "Name: Loan_Status, Length: 154, dtype: object\n",
            "\n"
          ],
          "name": "stdout"
        }
      ]
    },
    {
      "metadata": {
        "id": "uT5Wj-bKGSb8",
        "colab_type": "code",
        "outputId": "171a7bc5-cf25-47fa-85ef-9c8749b834e6",
        "colab": {
          "base_uri": "https://localhost:8080/",
          "height": 139
        }
      },
      "cell_type": "code",
      "source": [
        "### instantiate the column transformer \n",
        "### transform the categorical columns with the OneHotEncoder function\n",
        "### normalize the numerical columns with the Normalizer function \n",
        "ct = ColumnTransformer(\n",
        "    [(\"dummy_col\", OneHotEncoder(categories =[['Male', 'Female'],\n",
        "                                              ['Yes', 'No'],\n",
        "                                              ['0', '1', '2', '3+'],\n",
        "                                              ['Graduate', 'Not Graduate'],\n",
        "                                              ['No', 'Yes'],\n",
        "                                              ['Semiurban', 'Urban', 'Rural']]),\n",
        "                                              [0, 1, 2, 3, 4, 10]),\n",
        "     \n",
        "     (\"norm\", Normalizer(norm ='l1'), [5, 6, 7, 8, 9])])\n",
        "\n",
        "print(ct) "
      ],
      "execution_count": 0,
      "outputs": [
        {
          "output_type": "stream",
          "text": [
            "ColumnTransformer(n_jobs=None, remainder='drop', sparse_threshold=0.3,\n",
            "         transformer_weights=None,\n",
            "         transformers=[('dummy_col', OneHotEncoder(categorical_features=None,\n",
            "       categories=[['Male', 'Female'], ['Yes', 'No'], ['0', '1', '2', '3+'], ['Graduate', 'Not Graduate'], ['No', 'Yes'], ['Semiurban', 'Urban', 'Rural']],\n",
            "       dtype=<class 'numpy.float64'>, handle_unknown='error',\n",
            "       n_values=None, sparse=True), [0, 1, 2, 3, 4, 10]), ('norm', Normalizer(copy=True, norm='l1'), [5, 6, 7, 8, 9])])\n"
          ],
          "name": "stdout"
        }
      ]
    },
    {
      "metadata": {
        "id": "Qd2V6_aQjcV3",
        "colab_type": "code",
        "outputId": "975494f5-7c2b-4278-e10a-6c5187093a23",
        "colab": {
          "base_uri": "https://localhost:8080/",
          "height": 272
        }
      },
      "cell_type": "code",
      "source": [
        "### apply the transformer to the training data \n",
        "X_train = ct.fit_transform(X_train) \n",
        "\n",
        "print(\"Output of X_train:\\n\", X_train)    \n",
        "print('') "
      ],
      "execution_count": 0,
      "outputs": [
        {
          "output_type": "stream",
          "text": [
            "Output of X_train:\n",
            " [[1.00000000e+00 0.00000000e+00 1.00000000e+00 ... 7.26792204e-03\n",
            "  5.94648167e-02 1.65180046e-04]\n",
            " [1.00000000e+00 0.00000000e+00 0.00000000e+00 ... 2.43384199e-02\n",
            "  6.95383427e-02 1.93162063e-04]\n",
            " [1.00000000e+00 0.00000000e+00 0.00000000e+00 ... 1.51359432e-02\n",
            "  3.36354293e-02 9.34317481e-05]\n",
            " ...\n",
            " [1.00000000e+00 0.00000000e+00 1.00000000e+00 ... 2.24845419e-02\n",
            "  4.04721754e-02 1.12422709e-04]\n",
            " [1.00000000e+00 0.00000000e+00 1.00000000e+00 ... 2.44125725e-02\n",
            "  5.49282881e-02 1.52578578e-04]\n",
            " [0.00000000e+00 1.00000000e+00 1.00000000e+00 ... 2.58927301e-02\n",
            "  5.12163892e-02 1.42267748e-04]]\n",
            "\n"
          ],
          "name": "stdout"
        }
      ]
    },
    {
      "metadata": {
        "id": "fNAWhEX8oKZO",
        "colab_type": "code",
        "outputId": "44b90862-8bd8-4bb8-d945-ca60bb1fc566",
        "colab": {
          "base_uri": "https://localhost:8080/",
          "height": 272
        }
      },
      "cell_type": "code",
      "source": [
        "### apply the transformer to the testing data \n",
        "X_test = ct.fit_transform(X_test) \n",
        "\n",
        "print(\"Output of X_test:\\n\", X_test) \n",
        "print('')   "
      ],
      "execution_count": 0,
      "outputs": [
        {
          "output_type": "stream",
          "text": [
            "Output of X_test:\n",
            " [[1.00000000e+00 0.00000000e+00 0.00000000e+00 ... 1.11553785e-02\n",
            "  4.78087649e-02 1.32802125e-04]\n",
            " [0.00000000e+00 1.00000000e+00 0.00000000e+00 ... 2.38145864e-02\n",
            "  7.65468850e-02 2.12630236e-04]\n",
            " [1.00000000e+00 0.00000000e+00 1.00000000e+00 ... 3.02126072e-02\n",
            "  3.35695636e-02 9.32487878e-05]\n",
            " ...\n",
            " [1.00000000e+00 0.00000000e+00 1.00000000e+00 ... 1.16808383e-02\n",
            "  3.09198660e-02 8.58885167e-05]\n",
            " [1.00000000e+00 0.00000000e+00 0.00000000e+00 ... 2.09756873e-02\n",
            "  5.72064198e-02 1.58906722e-04]\n",
            " [1.00000000e+00 0.00000000e+00 1.00000000e+00 ... 2.49484536e-02\n",
            "  7.42268041e-02 0.00000000e+00]]\n",
            "\n"
          ],
          "name": "stdout"
        }
      ]
    },
    {
      "metadata": {
        "id": "G_BYLQxRo9Bt",
        "colab_type": "code",
        "colab": {}
      },
      "cell_type": "code",
      "source": [
        "### instantiate the RandomForestClassifier model with default parameters  \n",
        "random_forest = RandomForestClassifier() "
      ],
      "execution_count": 0,
      "outputs": []
    },
    {
      "metadata": {
        "id": "Y_06z_GPqrta",
        "colab_type": "code",
        "outputId": "63b51fdd-08d9-412a-f68e-904a8d686a1a",
        "colab": {
          "base_uri": "https://localhost:8080/",
          "height": 190
        }
      },
      "cell_type": "code",
      "source": [
        "### fit the model on the training dataset \n",
        "random_forest.fit(X_train, y_train) "
      ],
      "execution_count": 0,
      "outputs": [
        {
          "output_type": "stream",
          "text": [
            "/usr/local/lib/python3.6/dist-packages/sklearn/ensemble/forest.py:248: FutureWarning: The default value of n_estimators will change from 10 in version 0.20 to 100 in 0.22.\n",
            "  \"10 in version 0.20 to 100 in 0.22.\", FutureWarning)\n"
          ],
          "name": "stderr"
        },
        {
          "output_type": "execute_result",
          "data": {
            "text/plain": [
              "RandomForestClassifier(bootstrap=True, class_weight=None, criterion='gini',\n",
              "            max_depth=None, max_features='auto', max_leaf_nodes=None,\n",
              "            min_impurity_decrease=0.0, min_impurity_split=None,\n",
              "            min_samples_leaf=1, min_samples_split=2,\n",
              "            min_weight_fraction_leaf=0.0, n_estimators=10, n_jobs=None,\n",
              "            oob_score=False, random_state=None, verbose=0,\n",
              "            warm_start=False)"
            ]
          },
          "metadata": {
            "tags": []
          },
          "execution_count": 31
        }
      ]
    },
    {
      "metadata": {
        "id": "aXE__ALIrwZb",
        "colab_type": "code",
        "outputId": "779c8bf0-81d1-490b-f2d5-e99690ff3793",
        "colab": {
          "base_uri": "https://localhost:8080/",
          "height": 204
        }
      },
      "cell_type": "code",
      "source": [
        "### make predictions from the 'X_test' test set \n",
        "y_pred = random_forest.predict(X_test)  \n",
        "\n",
        "print(\"The predictions are:\\n\", y_pred)  \n",
        "print('') "
      ],
      "execution_count": 0,
      "outputs": [
        {
          "output_type": "stream",
          "text": [
            "The predictions are:\n",
            " ['Y' 'Y' 'N' 'N' 'Y' 'N' 'Y' 'N' 'N' 'Y' 'Y' 'Y' 'Y' 'Y' 'Y' 'Y' 'N' 'Y'\n",
            " 'N' 'N' 'N' 'Y' 'Y' 'Y' 'Y' 'Y' 'Y' 'Y' 'N' 'N' 'Y' 'N' 'Y' 'N' 'Y' 'N'\n",
            " 'Y' 'Y' 'Y' 'Y' 'Y' 'N' 'Y' 'Y' 'Y' 'N' 'Y' 'Y' 'Y' 'Y' 'Y' 'N' 'Y' 'Y'\n",
            " 'Y' 'Y' 'Y' 'Y' 'Y' 'Y' 'N' 'Y' 'Y' 'N' 'Y' 'Y' 'Y' 'Y' 'Y' 'Y' 'Y' 'Y'\n",
            " 'Y' 'N' 'Y' 'Y' 'N' 'N' 'Y' 'N' 'N' 'Y' 'Y' 'Y' 'Y' 'Y' 'Y' 'N' 'Y' 'Y'\n",
            " 'Y' 'Y' 'Y' 'N' 'Y' 'N' 'Y' 'Y' 'Y' 'Y' 'Y' 'Y' 'Y' 'Y' 'Y' 'Y' 'Y' 'Y'\n",
            " 'Y' 'N' 'Y' 'N' 'Y' 'Y' 'N' 'N' 'Y' 'Y' 'Y' 'Y' 'Y' 'N' 'Y' 'Y' 'N' 'N'\n",
            " 'Y' 'Y' 'N' 'Y' 'N' 'Y' 'N' 'N' 'Y' 'Y' 'Y' 'Y' 'Y' 'Y' 'Y' 'Y' 'N' 'Y'\n",
            " 'Y' 'N' 'Y' 'N' 'N' 'N' 'Y' 'Y' 'Y' 'N']\n",
            "\n"
          ],
          "name": "stdout"
        }
      ]
    },
    {
      "metadata": {
        "id": "LvWGEkfbIOzQ",
        "colab_type": "code",
        "outputId": "e1d3064c-1896-45ad-f809-b0c717a9738d",
        "colab": {
          "base_uri": "https://localhost:8080/",
          "height": 51
        }
      },
      "cell_type": "code",
      "source": [
        "### the score of the model \n",
        "model_score = random_forest.score(X_test, y_test)\n",
        "print(\"Model score is:\\n\", model_score) "
      ],
      "execution_count": 0,
      "outputs": [
        {
          "output_type": "stream",
          "text": [
            "Model score is:\n",
            " 0.8246753246753247\n"
          ],
          "name": "stdout"
        }
      ]
    },
    {
      "metadata": {
        "id": "F_jI0HeYTtqg",
        "colab_type": "code",
        "outputId": "5b33cbbf-621f-4a10-b623-2e89ce311fd5",
        "colab": {
          "base_uri": "https://localhost:8080/",
          "height": 51
        }
      },
      "cell_type": "code",
      "source": [
        "### the accuracy score of the model\n",
        "accuracy_score = accuracy_score(y_test, y_pred)\n",
        "print(\"Accuracy Score is:\\n\", accuracy_score) "
      ],
      "execution_count": 0,
      "outputs": [
        {
          "output_type": "stream",
          "text": [
            "Accuracy Score is:\n",
            " 0.8246753246753247\n"
          ],
          "name": "stdout"
        }
      ]
    },
    {
      "metadata": {
        "id": "GbqxL4TPtdJX",
        "colab_type": "code",
        "outputId": "d3e55e07-3271-4580-dd40-0c76522dfe51",
        "colab": {
          "base_uri": "https://localhost:8080/",
          "height": 187
        }
      },
      "cell_type": "code",
      "source": [
        "### print the Classification Report \n",
        "print(\"Classification Report:\\n\", classification_report(y_test, y_pred, target_names =['Y', 'N']))    "
      ],
      "execution_count": 0,
      "outputs": [
        {
          "output_type": "stream",
          "text": [
            "Classification Report:\n",
            "               precision    recall  f1-score   support\n",
            "\n",
            "           Y       0.68      0.70      0.69        43\n",
            "           N       0.88      0.87      0.88       111\n",
            "\n",
            "   micro avg       0.82      0.82      0.82       154\n",
            "   macro avg       0.78      0.79      0.78       154\n",
            "weighted avg       0.83      0.82      0.83       154\n",
            "\n"
          ],
          "name": "stdout"
        }
      ]
    },
    {
      "metadata": {
        "id": "V1YVOXnRxs-v",
        "colab_type": "text"
      },
      "cell_type": "markdown",
      "source": [
        ""
      ]
    },
    {
      "metadata": {
        "id": "DO31cev4DmZA",
        "colab_type": "code",
        "outputId": "af5ca53f-6842-40ab-fc00-f95d47592ae7",
        "colab": {
          "base_uri": "https://localhost:8080/",
          "height": 1309
        }
      },
      "cell_type": "code",
      "source": [
        "### make predictions from the first 15 rows of the test dataset \n",
        "test_sample = test[:15] \n",
        "test_sample = ct.fit_transform(test_sample) \n",
        "\n",
        "print(\"Test Sample output:\\n\", test_sample)   "
      ],
      "execution_count": 0,
      "outputs": [
        {
          "output_type": "stream",
          "text": [
            "Test Sample output:\n",
            " [[1.00000000e+00 0.00000000e+00 1.00000000e+00 0.00000000e+00\n",
            "  1.00000000e+00 0.00000000e+00 0.00000000e+00 0.00000000e+00\n",
            "  1.00000000e+00 0.00000000e+00 1.00000000e+00 0.00000000e+00\n",
            "  0.00000000e+00 1.00000000e+00 0.00000000e+00 9.23921822e-01\n",
            "  0.00000000e+00 1.77677273e-02 5.81489259e-02 1.61524794e-04]\n",
            " [1.00000000e+00 0.00000000e+00 1.00000000e+00 0.00000000e+00\n",
            "  0.00000000e+00 1.00000000e+00 0.00000000e+00 0.00000000e+00\n",
            "  1.00000000e+00 0.00000000e+00 1.00000000e+00 0.00000000e+00\n",
            "  0.00000000e+00 1.00000000e+00 0.00000000e+00 6.07544934e-01\n",
            "  2.96267035e-01 2.48864310e-02 7.11040885e-02 1.97511357e-04]\n",
            " [1.00000000e+00 0.00000000e+00 1.00000000e+00 0.00000000e+00\n",
            "  0.00000000e+00 0.00000000e+00 1.00000000e+00 0.00000000e+00\n",
            "  1.00000000e+00 0.00000000e+00 1.00000000e+00 0.00000000e+00\n",
            "  0.00000000e+00 1.00000000e+00 0.00000000e+00 6.78518116e-01\n",
            "  2.44266522e-01 2.82263536e-02 4.88533044e-02 1.35703623e-04]\n",
            " [1.00000000e+00 0.00000000e+00 1.00000000e+00 0.00000000e+00\n",
            "  0.00000000e+00 0.00000000e+00 1.00000000e+00 0.00000000e+00\n",
            "  1.00000000e+00 0.00000000e+00 1.00000000e+00 0.00000000e+00\n",
            "  0.00000000e+00 1.00000000e+00 0.00000000e+00 4.37628577e-01\n",
            "  4.76154853e-01 1.87020759e-02 6.73274733e-02 1.87020759e-04]\n",
            " [1.00000000e+00 0.00000000e+00 0.00000000e+00 1.00000000e+00\n",
            "  1.00000000e+00 0.00000000e+00 0.00000000e+00 0.00000000e+00\n",
            "  0.00000000e+00 1.00000000e+00 1.00000000e+00 0.00000000e+00\n",
            "  0.00000000e+00 1.00000000e+00 0.00000000e+00 8.81830417e-01\n",
            "  0.00000000e+00 2.09959623e-02 9.69044415e-02 2.69179004e-04]\n",
            " [1.00000000e+00 0.00000000e+00 1.00000000e+00 0.00000000e+00\n",
            "  1.00000000e+00 0.00000000e+00 0.00000000e+00 0.00000000e+00\n",
            "  0.00000000e+00 1.00000000e+00 0.00000000e+00 1.00000000e+00\n",
            "  0.00000000e+00 1.00000000e+00 0.00000000e+00 3.54918033e-01\n",
            "  5.60983607e-01 2.49180328e-02 5.90163934e-02 1.63934426e-04]\n",
            " [0.00000000e+00 1.00000000e+00 0.00000000e+00 1.00000000e+00\n",
            "  0.00000000e+00 1.00000000e+00 0.00000000e+00 0.00000000e+00\n",
            "  0.00000000e+00 1.00000000e+00 1.00000000e+00 0.00000000e+00\n",
            "  1.00000000e+00 0.00000000e+00 0.00000000e+00 8.41269841e-01\n",
            "  0.00000000e+00 2.22978080e-02 1.36054422e-01 3.77928949e-04]\n",
            " [1.00000000e+00 0.00000000e+00 1.00000000e+00 0.00000000e+00\n",
            "  0.00000000e+00 0.00000000e+00 1.00000000e+00 0.00000000e+00\n",
            "  0.00000000e+00 1.00000000e+00 1.00000000e+00 0.00000000e+00\n",
            "  0.00000000e+00 0.00000000e+00 1.00000000e+00 8.84457612e-01\n",
            "  0.00000000e+00 3.35004558e-02 8.20419325e-02 0.00000000e+00]\n",
            " [1.00000000e+00 0.00000000e+00 1.00000000e+00 0.00000000e+00\n",
            "  0.00000000e+00 0.00000000e+00 1.00000000e+00 0.00000000e+00\n",
            "  1.00000000e+00 0.00000000e+00 1.00000000e+00 0.00000000e+00\n",
            "  0.00000000e+00 1.00000000e+00 0.00000000e+00 9.63190617e-01\n",
            "  0.00000000e+00 1.97823937e-02 1.69563374e-02 7.06514060e-05]\n",
            " [1.00000000e+00 0.00000000e+00 0.00000000e+00 1.00000000e+00\n",
            "  1.00000000e+00 0.00000000e+00 0.00000000e+00 0.00000000e+00\n",
            "  0.00000000e+00 1.00000000e+00 1.00000000e+00 0.00000000e+00\n",
            "  1.00000000e+00 0.00000000e+00 0.00000000e+00 4.54201363e-01\n",
            "  4.54201363e-01 2.32778198e-02 6.81302044e-02 1.89250568e-04]\n",
            " [1.00000000e+00 0.00000000e+00 0.00000000e+00 1.00000000e+00\n",
            "  1.00000000e+00 0.00000000e+00 0.00000000e+00 0.00000000e+00\n",
            "  0.00000000e+00 1.00000000e+00 1.00000000e+00 0.00000000e+00\n",
            "  0.00000000e+00 1.00000000e+00 0.00000000e+00 8.72670807e-01\n",
            "  0.00000000e+00 2.54093732e-02 1.01637493e-01 2.82326369e-04]\n",
            " [1.00000000e+00 0.00000000e+00 1.00000000e+00 0.00000000e+00\n",
            "  0.00000000e+00 1.00000000e+00 0.00000000e+00 0.00000000e+00\n",
            "  1.00000000e+00 0.00000000e+00 1.00000000e+00 0.00000000e+00\n",
            "  1.00000000e+00 0.00000000e+00 0.00000000e+00 5.17282197e-01\n",
            "  3.58901515e-01 3.83522727e-02 8.52272727e-02 2.36742424e-04]\n",
            " [1.00000000e+00 0.00000000e+00 0.00000000e+00 1.00000000e+00\n",
            "  0.00000000e+00 0.00000000e+00 0.00000000e+00 1.00000000e+00\n",
            "  1.00000000e+00 0.00000000e+00 1.00000000e+00 0.00000000e+00\n",
            "  0.00000000e+00 1.00000000e+00 0.00000000e+00 9.49623889e-01\n",
            "  0.00000000e+00 9.11784819e-03 4.10303168e-02 2.27946205e-04]\n",
            " [1.00000000e+00 0.00000000e+00 1.00000000e+00 0.00000000e+00\n",
            "  0.00000000e+00 0.00000000e+00 1.00000000e+00 0.00000000e+00\n",
            "  1.00000000e+00 0.00000000e+00 1.00000000e+00 0.00000000e+00\n",
            "  1.00000000e+00 0.00000000e+00 0.00000000e+00 9.58579416e-01\n",
            "  0.00000000e+00 1.30718954e-02 2.83486889e-02 0.00000000e+00]\n",
            " [0.00000000e+00 1.00000000e+00 0.00000000e+00 1.00000000e+00\n",
            "  1.00000000e+00 0.00000000e+00 0.00000000e+00 0.00000000e+00\n",
            "  1.00000000e+00 0.00000000e+00 1.00000000e+00 0.00000000e+00\n",
            "  1.00000000e+00 0.00000000e+00 0.00000000e+00 9.05843526e-01\n",
            "  0.00000000e+00 2.40729955e-02 6.98893419e-02 1.94137061e-04]]\n"
          ],
          "name": "stdout"
        }
      ]
    },
    {
      "metadata": {
        "id": "KtRegjKQhlRv",
        "colab_type": "code",
        "outputId": "f2914c54-4441-4399-efb2-d517cd2cd0c2",
        "colab": {
          "base_uri": "https://localhost:8080/",
          "height": 136
        }
      },
      "cell_type": "code",
      "source": [
        "### fit the model on the training dataset \n",
        "random_forest.fit(X_train, y_train)"
      ],
      "execution_count": 0,
      "outputs": [
        {
          "output_type": "execute_result",
          "data": {
            "text/plain": [
              "RandomForestClassifier(bootstrap=True, class_weight=None, criterion='gini',\n",
              "            max_depth=None, max_features='auto', max_leaf_nodes=None,\n",
              "            min_impurity_decrease=0.0, min_impurity_split=None,\n",
              "            min_samples_leaf=1, min_samples_split=2,\n",
              "            min_weight_fraction_leaf=0.0, n_estimators=10, n_jobs=None,\n",
              "            oob_score=False, random_state=None, verbose=0,\n",
              "            warm_start=False)"
            ]
          },
          "metadata": {
            "tags": []
          },
          "execution_count": 37
        }
      ]
    },
    {
      "metadata": {
        "id": "2xgXTIPrGqE-",
        "colab_type": "code",
        "outputId": "806a0da8-c8ff-4f6b-9dae-7fc5005b9e67",
        "colab": {
          "base_uri": "https://localhost:8080/",
          "height": 68
        }
      },
      "cell_type": "code",
      "source": [
        "### make predictions from the 'test_sample' data  \n",
        "y_pred = random_forest.predict(test_sample) \n",
        "\n",
        "print(\"The predictions are:\\n\", y_pred)  \n",
        "print('')   "
      ],
      "execution_count": 0,
      "outputs": [
        {
          "output_type": "stream",
          "text": [
            "The predictions are:\n",
            " ['Y' 'Y' 'N' 'Y' 'Y' 'N' 'Y' 'N' 'Y' 'Y' 'Y' 'N' 'N' 'N' 'Y']\n",
            "\n"
          ],
          "name": "stdout"
        }
      ]
    },
    {
      "metadata": {
        "id": "-Ft_pvH0j__y",
        "colab_type": "code",
        "outputId": "e232e27c-7022-4889-f605-60cd808da72d",
        "colab": {
          "base_uri": "https://localhost:8080/",
          "height": 51
        }
      },
      "cell_type": "code",
      "source": [
        "### the score of the model \n",
        "model_score = random_forest.score(X_test, y_test)\n",
        "print(\"Model score is:\\n\", model_score) "
      ],
      "execution_count": 0,
      "outputs": [
        {
          "output_type": "stream",
          "text": [
            "Model score is:\n",
            " 0.7987012987012987\n"
          ],
          "name": "stdout"
        }
      ]
    },
    {
      "metadata": {
        "id": "iqnwKGx4BSrd",
        "colab_type": "code",
        "outputId": "3c033066-a917-4b78-b3cc-6b318ea19a7e",
        "colab": {
          "base_uri": "https://localhost:8080/",
          "height": 34
        }
      },
      "cell_type": "code",
      "source": [
        "### end of notebook\n",
        "print(\"This is the end\") "
      ],
      "execution_count": 0,
      "outputs": [
        {
          "output_type": "stream",
          "text": [
            "This is the end\n"
          ],
          "name": "stdout"
        }
      ]
    },
    {
      "metadata": {
        "id": "nPj3JW8TezOT",
        "colab_type": "code",
        "outputId": "cf2f9479-2dda-4aed-8e71-38e1ad4353c6",
        "colab": {
          "base_uri": "https://localhost:8080/",
          "height": 2244
        }
      },
      "cell_type": "code",
      "source": [
        "!pip freeze"
      ],
      "execution_count": 0,
      "outputs": [
        {
          "output_type": "stream",
          "text": [
            "absl-py==0.5.0\n",
            "altair==2.2.2\n",
            "astor==0.7.1\n",
            "beautifulsoup4==4.6.3\n",
            "bleach==2.1.4\n",
            "cachetools==2.1.0\n",
            "certifi==2018.8.24\n",
            "chardet==3.0.4\n",
            "crcmod==1.7\n",
            "cycler==0.10.0\n",
            "cymem==1.31.2\n",
            "cytoolz==0.9.0.1\n",
            "decorator==4.3.0\n",
            "defusedxml==0.5.0\n",
            "dill==0.2.8.2\n",
            "entrypoints==0.2.3\n",
            "future==0.16.0\n",
            "gast==0.2.0\n",
            "google-api-core==1.4.1\n",
            "google-api-python-client==1.6.7\n",
            "google-auth==1.4.2\n",
            "google-auth-httplib2==0.0.3\n",
            "google-auth-oauthlib==0.2.0\n",
            "google-cloud-bigquery==1.1.0\n",
            "google-cloud-core==0.28.1\n",
            "google-cloud-language==1.0.2\n",
            "google-cloud-storage==1.8.0\n",
            "google-cloud-translate==1.3.1\n",
            "google-colab==0.0.1a1\n",
            "google-resumable-media==0.3.1\n",
            "googleapis-common-protos==1.5.3\n",
            "grpcio==1.15.0\n",
            "h5py==2.8.0\n",
            "html5lib==1.0.1\n",
            "httplib2==0.11.3\n",
            "idna==2.6\n",
            "ipykernel==4.6.1\n",
            "ipython==5.5.0\n",
            "ipython-genutils==0.2.0\n",
            "Jinja2==2.10\n",
            "joblib==0.12.5\n",
            "jsonschema==2.6.0\n",
            "jupyter-client==5.2.3\n",
            "jupyter-core==4.4.0\n",
            "Keras==2.1.6\n",
            "Keras-Applications==1.0.6\n",
            "Keras-Preprocessing==1.0.5\n",
            "Markdown==3.0.1\n",
            "MarkupSafe==1.0\n",
            "matplotlib==2.1.2\n",
            "mistune==0.8.3\n",
            "mpmath==1.0.0\n",
            "msgpack==0.5.6\n",
            "msgpack-numpy==0.4.4.1\n",
            "murmurhash==0.28.0\n",
            "nbconvert==5.4.0\n",
            "nbformat==4.4.0\n",
            "networkx==2.2\n",
            "nltk==3.2.5\n",
            "notebook==5.2.2\n",
            "numpy==1.14.6\n",
            "oauth2client==4.1.3\n",
            "oauthlib==2.1.0\n",
            "olefile==0.46\n",
            "opencv-python==3.4.3.18\n",
            "pandas==0.22.0\n",
            "pandas-gbq==0.4.1\n",
            "pandocfilters==1.4.2\n",
            "patsy==0.5.0\n",
            "pexpect==4.6.0\n",
            "pickleshare==0.7.5\n",
            "Pillow==4.0.0\n",
            "plac==0.9.6\n",
            "plotly==1.12.12\n",
            "pluggy==0.7.1\n",
            "portpicker==1.2.0\n",
            "preshed==1.0.1\n",
            "prompt-toolkit==1.0.15\n",
            "protobuf==3.6.1\n",
            "psutil==5.4.7\n",
            "ptyprocess==0.6.0\n",
            "py==1.6.0\n",
            "pyasn1==0.4.4\n",
            "pyasn1-modules==0.2.2\n",
            "PyDrive==1.3.1\n",
            "Pygments==2.1.3\n",
            "pymc3==3.5\n",
            "pyparsing==2.2.1\n",
            "pystache==0.5.4\n",
            "python-dateutil==2.5.3\n",
            "pytz==2018.5\n",
            "PyWavelets==1.0.1\n",
            "PyYAML==3.13\n",
            "pyzmq==16.0.4\n",
            "regex==2017.4.5\n",
            "requests==2.18.4\n",
            "requests-oauthlib==1.0.0\n",
            "rsa==4.0\n",
            "scikit-image==0.13.1\n",
            "scikit-learn==0.20.0\n",
            "scipy==0.19.1\n",
            "seaborn==0.7.1\n",
            "simplegeneric==0.8.1\n",
            "six==1.11.0\n",
            "spacy==2.0.12\n",
            "statsmodels==0.8.0\n",
            "sympy==1.1.1\n",
            "tensorboard==1.11.0\n",
            "tensorflow==1.11.0\n",
            "tensorflow-hub==0.1.1\n",
            "termcolor==1.1.0\n",
            "terminado==0.8.1\n",
            "testpath==0.4.1\n",
            "Theano==1.0.3\n",
            "thinc==6.10.3\n",
            "toml==0.9.6\n",
            "toolz==0.9.0\n",
            "tornado==4.5.3\n",
            "tqdm==4.26.0\n",
            "traitlets==4.3.2\n",
            "typing==3.6.6\n",
            "ujson==1.35\n",
            "uritemplate==3.0.0\n",
            "urllib3==1.22\n",
            "vega-datasets==0.5.0\n",
            "virtualenv==16.0.0\n",
            "wcwidth==0.1.7\n",
            "webencodings==0.5.1\n",
            "Werkzeug==0.14.1\n",
            "wrapt==1.10.11\n",
            "xgboost==0.7.post4\n"
          ],
          "name": "stdout"
        }
      ]
    }
  ]
}