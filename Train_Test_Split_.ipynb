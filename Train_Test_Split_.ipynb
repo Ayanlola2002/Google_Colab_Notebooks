{
  "nbformat": 4,
  "nbformat_minor": 0,
  "metadata": {
    "colab": {
      "name": "Train_Test_Split .ipynb",
      "version": "0.3.2",
      "provenance": [],
      "collapsed_sections": [],
      "include_colab_link": true
    },
    "kernelspec": {
      "display_name": "Python 3",
      "language": "python",
      "name": "python3"
    }
  },
  "cells": [
    {
      "cell_type": "markdown",
      "metadata": {
        "id": "view-in-github",
        "colab_type": "text"
      },
      "source": [
        "[View in Colaboratory](https://colab.research.google.com/github/paulgureghian/Google_Colab_Notebooks/blob/master/Train_Test_Split_.ipynb)"
      ]
    },
    {
      "metadata": {
        "id": "YRMRRLse647F",
        "colab_type": "text"
      },
      "cell_type": "markdown",
      "source": [
        "**Click \"File\" > \"Save a copy in Drive\", then press \"Runtime\" > \"Run all\", in the copy.**"
      ]
    },
    {
      "metadata": {
        "id": "uvPpx17xP4E4",
        "colab_type": "text"
      },
      "cell_type": "markdown",
      "source": [
        "**Created by Paul A. Gureghian on 9/4/2018.**\n",
        "\n",
        "**Data splitting with Scikit-Learn **\n",
        "** Using the train_test_split function for data analysis as part of a Machine Learning project.** \n",
        "\n",
        "**You should split your dataset before you begin modeling.**\n",
        "**First fit the model on the training set, then estimate your model performance with the testing set. ** "
      ]
    },
    {
      "metadata": {
        "id": "GVPV5Zs-NLoj",
        "colab_type": "code",
        "colab": {}
      },
      "cell_type": "code",
      "source": [
        "# import packages \n",
        "\n",
        "import numpy as np \n",
        "from sklearn.model_selection import KFold\n",
        "import sklearn.model_selection as model_selection \n",
        "import sklearn.cross_validation as cross_validation "
      ],
      "execution_count": 0,
      "outputs": []
    },
    {
      "metadata": {
        "id": "JVPWkRCgNLon",
        "colab_type": "code",
        "colab": {
          "base_uri": "https://localhost:8080/",
          "height": 34
        },
        "outputId": "339f74f0-1e12-4d4b-d95a-7558b3330ae4"
      },
      "cell_type": "code",
      "source": [
        "# define X for features \n",
        "\n",
        "X = list(range(10)) \n",
        "print(X) "
      ],
      "execution_count": 44,
      "outputs": [
        {
          "output_type": "stream",
          "text": [
            "[0, 1, 2, 3, 4, 5, 6, 7, 8, 9]\n"
          ],
          "name": "stdout"
        }
      ]
    },
    {
      "metadata": {
        "id": "4psmEFhBNLos",
        "colab_type": "code",
        "colab": {
          "base_uri": "https://localhost:8080/",
          "height": 34
        },
        "outputId": "2d786022-aa47-471d-ffdb-723b9183b511"
      },
      "cell_type": "code",
      "source": [
        "# define y for labels \n",
        "\n",
        "y = [x * x for x in X] \n",
        "print(y) "
      ],
      "execution_count": 45,
      "outputs": [
        {
          "output_type": "stream",
          "text": [
            "[0, 1, 4, 9, 16, 25, 36, 49, 64, 81]\n"
          ],
          "name": "stdout"
        }
      ]
    },
    {
      "metadata": {
        "id": "RWQ_fL2KNLox",
        "colab_type": "code",
        "colab": {
          "base_uri": "https://localhost:8080/",
          "height": 85
        },
        "outputId": "7bc8b0c2-988f-48ba-d9c8-ec6989bc7013"
      },
      "cell_type": "code",
      "source": [
        "# split data into two sets \n",
        "\n",
        "X_train, X_test, y_train, y_test = model_selection.train_test_split(X, y, train_size =0.75, test_size =0.25, random_state =101)\n",
        "\n",
        "print(\"X_train: \", X_train)\n",
        "print(\"y_train: \", y_train)\n",
        "print(\"X_test: \", X_test)\n",
        "print(\"y_test: \", y_test) "
      ],
      "execution_count": 46,
      "outputs": [
        {
          "output_type": "stream",
          "text": [
            "X_train:  [4, 9, 3, 5, 7, 6, 1]\n",
            "y_train:  [16, 81, 9, 25, 49, 36, 1]\n",
            "X_test:  [8, 2, 0]\n",
            "y_test:  [64, 4, 0]\n"
          ],
          "name": "stdout"
        }
      ]
    },
    {
      "metadata": {
        "id": "K09lBCaKNLo2",
        "colab_type": "code",
        "colab": {
          "base_uri": "https://localhost:8080/",
          "height": 85
        },
        "outputId": "d70249bf-c6c8-45ac-f7db-e5a27c9c526b"
      },
      "cell_type": "code",
      "source": [
        "# split data the old way \n",
        "\n",
        "X_train, X_test, y_test, y_train = cross_validation.train_test_split(X, y, train_size =0.75, test_size =0.25, random_state =101)\n",
        "\n",
        "print(\"X_train: \", X_train)\n",
        "print(\"y_train: \", y_train)\n",
        "print(\"X_test: \", X_test)\n",
        "print(\"y_train: \", y_train) "
      ],
      "execution_count": 47,
      "outputs": [
        {
          "output_type": "stream",
          "text": [
            "X_train:  [4, 9, 3, 5, 7, 6, 1]\n",
            "y_train:  [64, 4, 0]\n",
            "X_test:  [8, 2, 0]\n",
            "y_train:  [64, 4, 0]\n"
          ],
          "name": "stdout"
        }
      ]
    },
    {
      "metadata": {
        "id": "ZPK8a6QZNLo8",
        "colab_type": "code",
        "colab": {
          "base_uri": "https://localhost:8080/",
          "height": 748
        },
        "outputId": "c97f037b-6979-4a95-d559-2827f8e6e7f6"
      },
      "cell_type": "code",
      "source": [
        "# split data into n consecutive folds with the KFold() function\n",
        "\n",
        "kf = KFold(n_splits=5, shuffle =True) \n",
        "X_array = np.array(X)\n",
        "y_array = np.array(y) \n",
        "\n",
        "print(\"X_array:\", X_array)\n",
        "print(\"y_array:\", y_array) \n",
        "print('')\n",
        "\n",
        "for train_index, test_index in kf.split(X):\n",
        "    X_train, X_test = X_array[train_index], X_array[test_index]\n",
        "    y_train, y_test = y_array[train_index], y_array[test_index]\n",
        "    \n",
        "    print(\"X_train:\", X_train)\n",
        "    print('')\n",
        "    print(\"X_test:\", X_test)\n",
        "    print('')\n",
        "    print(\"y_train:\", y_train)\n",
        "    print('')\n",
        "    print(\"y_test\", y_test) \n",
        "    print('') "
      ],
      "execution_count": 48,
      "outputs": [
        {
          "output_type": "stream",
          "text": [
            "X_array: [0 1 2 3 4 5 6 7 8 9]\n",
            "y_array: [ 0  1  4  9 16 25 36 49 64 81]\n",
            "\n",
            "X_train: [0 1 2 4 5 6 7 8]\n",
            "\n",
            "X_test: [3 9]\n",
            "\n",
            "y_train: [ 0  1  4 16 25 36 49 64]\n",
            "\n",
            "y_test [ 9 81]\n",
            "\n",
            "X_train: [1 3 4 5 6 7 8 9]\n",
            "\n",
            "X_test: [0 2]\n",
            "\n",
            "y_train: [ 1  9 16 25 36 49 64 81]\n",
            "\n",
            "y_test [0 4]\n",
            "\n",
            "X_train: [0 2 3 4 6 7 8 9]\n",
            "\n",
            "X_test: [1 5]\n",
            "\n",
            "y_train: [ 0  4  9 16 36 49 64 81]\n",
            "\n",
            "y_test [ 1 25]\n",
            "\n",
            "X_train: [0 1 2 3 4 5 6 9]\n",
            "\n",
            "X_test: [7 8]\n",
            "\n",
            "y_train: [ 0  1  4  9 16 25 36 81]\n",
            "\n",
            "y_test [49 64]\n",
            "\n",
            "X_train: [0 1 2 3 5 7 8 9]\n",
            "\n",
            "X_test: [4 6]\n",
            "\n",
            "y_train: [ 0  1  4  9 25 49 64 81]\n",
            "\n",
            "y_test [16 36]\n",
            "\n"
          ],
          "name": "stdout"
        }
      ]
    },
    {
      "metadata": {
        "id": "e2Ggi0etNLpA",
        "colab_type": "code",
        "colab": {
          "base_uri": "https://localhost:8080/",
          "height": 34
        },
        "outputId": "31c66f94-f608-4778-87f5-4482d3617c57"
      },
      "cell_type": "code",
      "source": [
        "X_train"
      ],
      "execution_count": 49,
      "outputs": [
        {
          "output_type": "execute_result",
          "data": {
            "text/plain": [
              "array([0, 1, 2, 3, 5, 7, 8, 9])"
            ]
          },
          "metadata": {
            "tags": []
          },
          "execution_count": 49
        }
      ]
    },
    {
      "metadata": {
        "id": "U1UoYZrRNLpI",
        "colab_type": "code",
        "colab": {
          "base_uri": "https://localhost:8080/",
          "height": 34
        },
        "outputId": "89af7ef9-a8da-4816-bb08-bd7974cd4acf"
      },
      "cell_type": "code",
      "source": [
        "X_test"
      ],
      "execution_count": 50,
      "outputs": [
        {
          "output_type": "execute_result",
          "data": {
            "text/plain": [
              "array([4, 6])"
            ]
          },
          "metadata": {
            "tags": []
          },
          "execution_count": 50
        }
      ]
    },
    {
      "metadata": {
        "id": "HxzJNSGRNLpN",
        "colab_type": "code",
        "colab": {
          "base_uri": "https://localhost:8080/",
          "height": 34
        },
        "outputId": "36d8a9a9-9fec-4f92-ecb1-f8d4903e6b4a"
      },
      "cell_type": "code",
      "source": [
        "y_train "
      ],
      "execution_count": 51,
      "outputs": [
        {
          "output_type": "execute_result",
          "data": {
            "text/plain": [
              "array([ 0,  1,  4,  9, 25, 49, 64, 81])"
            ]
          },
          "metadata": {
            "tags": []
          },
          "execution_count": 51
        }
      ]
    },
    {
      "metadata": {
        "id": "KEt5Pl9_NLpT",
        "colab_type": "code",
        "colab": {
          "base_uri": "https://localhost:8080/",
          "height": 34
        },
        "outputId": "b872d928-ee80-43b2-d9b1-1dfbe5a73de5"
      },
      "cell_type": "code",
      "source": [
        "y_test "
      ],
      "execution_count": 52,
      "outputs": [
        {
          "output_type": "execute_result",
          "data": {
            "text/plain": [
              "array([16, 36])"
            ]
          },
          "metadata": {
            "tags": []
          },
          "execution_count": 52
        }
      ]
    }
  ]
}