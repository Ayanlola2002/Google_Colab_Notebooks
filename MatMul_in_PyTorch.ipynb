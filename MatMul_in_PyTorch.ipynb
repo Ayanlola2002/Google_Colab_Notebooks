{
  "nbformat": 4,
  "nbformat_minor": 0,
  "metadata": {
    "colab": {
      "name": "MatMul in PyTorch.ipynb",
      "version": "0.3.2",
      "provenance": [],
      "collapsed_sections": [],
      "include_colab_link": true
    },
    "kernelspec": {
      "name": "python3",
      "display_name": "Python 3"
    }
  },
  "cells": [
    {
      "cell_type": "markdown",
      "metadata": {
        "id": "view-in-github",
        "colab_type": "text"
      },
      "source": [
        "<a href=\"https://colab.research.google.com/github/paulgureghian/Google_Colab_Notebooks/blob/master/MatMul_in_PyTorch.ipynb\" target=\"_parent\"><img src=\"https://colab.research.google.com/assets/colab-badge.svg\" alt=\"Open In Colab\"/></a>"
      ]
    },
    {
      "metadata": {
        "id": "VRgKgjUOYHVm",
        "colab_type": "text"
      },
      "cell_type": "markdown",
      "source": [
        "**Created by Paul A. Gureghian on 12/7/18.**\n",
        "\n",
        "**A tutorial on using Numpy and the .dot function **\n",
        "\n",
        "**to do Matrix Multiplication.**"
      ]
    },
    {
      "metadata": {
        "id": "im84lTcJX-DH",
        "colab_type": "code",
        "colab": {}
      },
      "cell_type": "code",
      "source": [
        "import numpy as np "
      ],
      "execution_count": 0,
      "outputs": []
    },
    {
      "metadata": {
        "id": "lVp3BV3-ZPmV",
        "colab_type": "code",
        "colab": {}
      },
      "cell_type": "code",
      "source": [
        "## Create a Numpy array, generate random numbers, use .dot() \n",
        "## To compute the matrix product\n",
        "\n",
        "x = np.array([1,2])\n",
        "w = np.random.randn(3,2)\n",
        "b = 1\n",
        "\n",
        "h = w.dot(x) + 1"
      ],
      "execution_count": 0,
      "outputs": []
    },
    {
      "metadata": {
        "id": "wihZsbhEaFXy",
        "colab_type": "code",
        "colab": {
          "base_uri": "https://localhost:8080/",
          "height": 51
        },
        "outputId": "c4a72ea4-f878-452e-abcc-4293609c69c9"
      },
      "cell_type": "code",
      "source": [
        "## Print the shape of the array\n",
        "\n",
        "print(h.shape)\n",
        "print(h)"
      ],
      "execution_count": 12,
      "outputs": [
        {
          "output_type": "stream",
          "text": [
            "(3,)\n",
            "[ 0.40543545 -1.02933339 -2.018203  ]\n"
          ],
          "name": "stdout"
        }
      ]
    },
    {
      "metadata": {
        "id": "PmkEunq2cnK8",
        "colab_type": "code",
        "colab": {}
      },
      "cell_type": "code",
      "source": [
        "## Reshape the array\n",
        "\n",
        "h = h.reshape((3, 1))"
      ],
      "execution_count": 0,
      "outputs": []
    },
    {
      "metadata": {
        "id": "j_VQxD71c44s",
        "colab_type": "code",
        "colab": {
          "base_uri": "https://localhost:8080/",
          "height": 85
        },
        "outputId": "5255dadf-7497-4cd3-9dc8-ee69f548c582"
      },
      "cell_type": "code",
      "source": [
        "## Print new shape \n",
        "\n",
        "print(h.shape)\n",
        "print(h)  "
      ],
      "execution_count": 15,
      "outputs": [
        {
          "output_type": "stream",
          "text": [
            "(3, 1)\n",
            "[[ 0.40543545]\n",
            " [-1.02933339]\n",
            " [-2.018203  ]]\n"
          ],
          "name": "stdout"
        }
      ]
    },
    {
      "metadata": {
        "id": "Xapzc4K9eSC0",
        "colab_type": "code",
        "colab": {}
      },
      "cell_type": "code",
      "source": [
        "## Transpose the array \n",
        "\n",
        "h = np.transpose(h) "
      ],
      "execution_count": 0,
      "outputs": []
    },
    {
      "metadata": {
        "id": "SFXCnzcvfcsb",
        "colab_type": "code",
        "colab": {
          "base_uri": "https://localhost:8080/",
          "height": 51
        },
        "outputId": "cb065ffc-5c6e-4c66-9193-a485eaa2654e"
      },
      "cell_type": "code",
      "source": [
        "## Print the new array \n",
        "\n",
        "print(h.shape)\n",
        "print(h)"
      ],
      "execution_count": 17,
      "outputs": [
        {
          "output_type": "stream",
          "text": [
            "(1, 3)\n",
            "[[ 0.40543545 -1.02933339 -2.018203  ]]\n"
          ],
          "name": "stdout"
        }
      ]
    }
  ]
}