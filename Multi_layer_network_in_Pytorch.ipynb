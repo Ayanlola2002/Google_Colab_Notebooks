{
  "nbformat": 4,
  "nbformat_minor": 0,
  "metadata": {
    "colab": {
      "name": "Multi-layer network in Pytorch.ipynb",
      "version": "0.3.2",
      "provenance": [],
      "collapsed_sections": [],
      "include_colab_link": true
    },
    "kernelspec": {
      "name": "python3",
      "display_name": "Python 3"
    }
  },
  "cells": [
    {
      "cell_type": "markdown",
      "metadata": {
        "id": "view-in-github",
        "colab_type": "text"
      },
      "source": [
        "<a href=\"https://colab.research.google.com/github/paulgureghian/Google_Colab_Notebooks/blob/master/Multi_layer_network_in_Pytorch.ipynb\" target=\"_parent\"><img src=\"https://colab.research.google.com/assets/colab-badge.svg\" alt=\"Open In Colab\"/></a>"
      ]
    },
    {
      "metadata": {
        "id": "3P7A4oCf4Oq0",
        "colab_type": "text"
      },
      "cell_type": "markdown",
      "source": [
        "** Created by Paul A. Gureghian on 11/21/18. **\n",
        "\n",
        "** This notebook contains the code for a multi-layer neural network in Pytorch.**\n"
      ]
    },
    {
      "metadata": {
        "id": "LI-u4QIDhO45",
        "colab_type": "code",
        "outputId": "43e3f60c-8c68-414c-b06d-90fc0117699b",
        "colab": {
          "base_uri": "https://localhost:8080/",
          "height": 54
        }
      },
      "cell_type": "code",
      "source": [
        "### install pytorch and torchvision\n",
        "!pip3 install -U -q http://download.pytorch.org/whl/cu92/torch-0.4.1-cp36-cp36m-linux_x86_64.whl\n",
        "!pip3 install -U -q torchvision "
      ],
      "execution_count": 0,
      "outputs": [
        {
          "output_type": "stream",
          "text": [
            "tcmalloc: large alloc 1073750016 bytes == 0x58de8000 @  0x7f6c7a9692a4 0x591a07 0x5b5d56 0x502e9a 0x506859 0x502209 0x502f3d 0x506859 0x504c28 0x502540 0x502f3d 0x506859 0x504c28 0x502540 0x502f3d 0x506859 0x504c28 0x502540 0x502f3d 0x507641 0x502209 0x502f3d 0x506859 0x504c28 0x502540 0x502f3d 0x507641 0x504c28 0x502540 0x502f3d 0x507641\n"
          ],
          "name": "stdout"
        }
      ]
    },
    {
      "metadata": {
        "id": "53UZJaKsiDqS",
        "colab_type": "code",
        "colab": {}
      },
      "cell_type": "code",
      "source": [
        "### import packages \n",
        "import torch \n",
        "import numpy as np\n",
        "import torchvision"
      ],
      "execution_count": 0,
      "outputs": []
    },
    {
      "metadata": {
        "id": "SRbb3eJWiKLS",
        "colab_type": "code",
        "colab": {}
      },
      "cell_type": "code",
      "source": [
        "### define activation function\n",
        "def activation(x):\n",
        "    return 1 /  (1 + torch.exp(-x)) "
      ],
      "execution_count": 0,
      "outputs": []
    },
    {
      "metadata": {
        "id": "41SGFjybiRct",
        "colab_type": "code",
        "outputId": "5820190e-51ce-4847-eae7-3ec96fb6c5df",
        "colab": {
          "base_uri": "https://localhost:8080/",
          "height": 34
        }
      },
      "cell_type": "code",
      "source": [
        "### define the size of each layer in the network\n",
        "n_input = features.shape[1]\n",
        "print(\"n_input: \", n_input)\n",
        "n_hidden = 2\n",
        "n_output = 1 "
      ],
      "execution_count": 0,
      "outputs": [
        {
          "output_type": "stream",
          "text": [
            "n_input:  3\n"
          ],
          "name": "stdout"
        }
      ]
    },
    {
      "metadata": {
        "id": "F1OihpfCi_Bi",
        "colab_type": "code",
        "outputId": "e841e9ed-df85-4b6d-9fa3-c8768bda047b",
        "colab": {
          "base_uri": "https://localhost:8080/",
          "height": 153
        }
      },
      "cell_type": "code",
      "source": [
        "### generate some data\n",
        "\n",
        "###set random seed\n",
        "torch.manual_seed(7)\n",
        "\n",
        "### define 'features' with 3 random variables\n",
        "features = torch.randn((1,3))\n",
        "print(\"features: \", features)\n",
        "print('')\n",
        "\n",
        "### weights for inputs to hidden layer\n",
        "W1 = torch.randn((n_input, n_hidden)) \n",
        "print(\"W1: \", W1)\n",
        "print('')\n",
        "\n",
        "### weights for hidden layer to output layer\n",
        "W2 = torch.randn((n_hidden, n_output))\n",
        "print(\"W2: \", W2)"
      ],
      "execution_count": 0,
      "outputs": [
        {
          "output_type": "stream",
          "text": [
            "features:  tensor([[-0.1468,  0.7861,  0.9468]])\n",
            "\n",
            "W1:  tensor([[-1.1143,  1.6908],\n",
            "        [-0.8948, -0.3556],\n",
            "        [ 1.2324,  0.1382]])\n",
            "\n",
            "W2:  tensor([[-1.6822],\n",
            "        [ 0.3177]])\n"
          ],
          "name": "stdout"
        }
      ]
    },
    {
      "metadata": {
        "id": "HgEQURCWjIb3",
        "colab_type": "code",
        "outputId": "4488e15b-565b-49b3-d589-5ec43ce568bd",
        "colab": {
          "base_uri": "https://localhost:8080/",
          "height": 85
        }
      },
      "cell_type": "code",
      "source": [
        "### bias terms for hidden and output layers \n",
        "B1 = torch.randn((1, n_hidden))\n",
        "print(\"B1: \", B1)\n",
        "print(\"B1 Shape: \", B1.shape)\n",
        "print('') \n",
        "\n",
        "B2 = torch.randn((1, n_output))\n",
        "print(\"B2: \", B2)   "
      ],
      "execution_count": 0,
      "outputs": [
        {
          "output_type": "stream",
          "text": [
            "B1:  tensor([[0.1328, 0.1373]])\n",
            "B1 Shape:  torch.Size([1, 2])\n",
            "\n",
            "B2:  tensor([[0.2405]])\n"
          ],
          "name": "stdout"
        }
      ]
    },
    {
      "metadata": {
        "id": "Bw-qBxNPjRu8",
        "colab_type": "code",
        "outputId": "0d7938d0-5b49-42f9-bfea-db40142c91bf",
        "colab": {
          "base_uri": "https://localhost:8080/",
          "height": 68
        }
      },
      "cell_type": "code",
      "source": [
        "### calculate the network output \n",
        "\n",
        "### calculate the hidden layer output\n",
        "h = activation(torch.mm(features, W1) + B1)\n",
        "print(\"h: \", h) \n",
        "print('')\n",
        "\n",
        "### calculate the output layer output\n",
        "output = activation(torch.mm(h, W2) + B2) \n",
        "print(output) "
      ],
      "execution_count": 0,
      "outputs": [
        {
          "output_type": "stream",
          "text": [
            "h:  tensor([[0.6813, 0.4355]])\n",
            "\n",
            "tensor([[0.3171]])\n"
          ],
          "name": "stdout"
        }
      ]
    }
  ]
}