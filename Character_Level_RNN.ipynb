{
  "nbformat": 4,
  "nbformat_minor": 0,
  "metadata": {
    "colab": {
      "name": "Character_Level_RNN.ipynb",
      "version": "0.3.2",
      "provenance": [],
      "collapsed_sections": [],
      "include_colab_link": true
    },
    "kernelspec": {
      "name": "python3",
      "display_name": "Python 3"
    },
    "accelerator": "GPU"
  },
  "cells": [
    {
      "cell_type": "markdown",
      "metadata": {
        "id": "view-in-github",
        "colab_type": "text"
      },
      "source": [
        "<a href=\"https://colab.research.google.com/github/paulgureghian/Google_Colab_Notebooks/blob/master/Character_Level_RNN.ipynb\" target=\"_parent\"><img src=\"https://colab.research.google.com/assets/colab-badge.svg\" alt=\"Open In Colab\"/></a>"
      ]
    },
    {
      "metadata": {
        "id": "JpDLO5pTYkiq",
        "colab_type": "text"
      },
      "cell_type": "markdown",
      "source": [
        "**Created by Paul A. Gureghian on 12/17/18.**"
      ]
    },
    {
      "metadata": {
        "id": "KsrNbKaxLqGf",
        "colab_type": "text"
      },
      "cell_type": "markdown",
      "source": [
        "**Character-Level LSTM in PyTorch.**\n",
        "\n",
        "**In this notebook, I'll construct a character-level LSTM with PyTorch.**\n",
        "\n",
        "**The network will train character by character on some text, then generate new text character by character.**\n",
        "\n",
        "**As an example, I will train on Anna Karenina.**\n",
        "\n",
        "**This model will be able to generate new text based on the text from the book.**"
      ]
    },
    {
      "metadata": {
        "id": "n2lfzOBdao9B",
        "colab_type": "code",
        "outputId": "eaf60d39-7ef4-4bc1-d977-1662e510aa3a",
        "colab": {
          "base_uri": "https://localhost:8080/",
          "height": 34
        }
      },
      "cell_type": "code",
      "source": [
        "### Mount Google drive\n",
        "from google.colab import drive\n",
        "drive.mount('/content/drive')"
      ],
      "execution_count": 34,
      "outputs": [
        {
          "output_type": "stream",
          "text": [
            "Drive already mounted at /content/drive; to attempt to forcibly remount, call drive.mount(\"/content/drive\", force_remount=True).\n"
          ],
          "name": "stdout"
        }
      ]
    },
    {
      "metadata": {
        "id": "AZLPTMzafjVE",
        "colab_type": "code",
        "colab": {}
      },
      "cell_type": "code",
      "source": [
        "### Install Pillow\n",
        "!pip install -q pillow==4.1.1  "
      ],
      "execution_count": 0,
      "outputs": []
    },
    {
      "metadata": {
        "id": "fuNVVqu6bBD0",
        "colab_type": "code",
        "colab": {}
      },
      "cell_type": "code",
      "source": [
        "### Install PyTorch\n",
        "from os.path import exists\n",
        "from wheel.pep425tags import get_abbr_impl, get_impl_ver, get_abi_tag\n",
        "platform = '{}{}-{}'.format(get_abbr_impl(), get_impl_ver(), get_abi_tag())\n",
        "cuda_output = !ldconfig -p|grep cudart.so|sed -e 's/.*\\.\\([0-9]*\\)\\.\\([0-9]*\\)$/cu\\1\\2/'\n",
        "accelerator = cuda_output[0] if exists('/dev/nvidia0') else 'cpu'\n",
        "\n",
        "!pip install -q http://download.pytorch.org/whl/{accelerator}/torch-0.4.1-{platform}-linux_x86_64.whl torchvision"
      ],
      "execution_count": 0,
      "outputs": []
    },
    {
      "metadata": {
        "id": "ApTl2758LqGh",
        "colab_type": "text"
      },
      "cell_type": "markdown",
      "source": [
        "**First let's load in the required resources for data loading and model creation.**"
      ]
    },
    {
      "metadata": {
        "id": "8ssR_PBwLqGi",
        "colab_type": "code",
        "colab": {}
      },
      "cell_type": "code",
      "source": [
        "### Import packages\n",
        "import PIL\n",
        "import torch\n",
        "import numpy as np\n",
        "from torch import nn\n",
        "import torch.nn.functional as F\n",
        "import matplotlib.pyplot as plt\n",
        "import matplotlib.image as mpimg"
      ],
      "execution_count": 0,
      "outputs": []
    },
    {
      "metadata": {
        "id": "y_54taqWcfrO",
        "colab_type": "code",
        "outputId": "354b3d40-217a-41eb-97f6-b256b105d68e",
        "colab": {
          "base_uri": "https://localhost:8080/",
          "height": 351
        }
      },
      "cell_type": "code",
      "source": [
        "### Character-wise RNN network image\n",
        "character_sequence = mpimg.imread(\"/content/drive/My Drive/Images/charseq.jpeg\") \n",
        "plt.imshow(character_sequence)\n",
        "plt.grid(False)"
      ],
      "execution_count": 38,
      "outputs": [
        {
          "output_type": "display_data",
          "data": {
            "image/png": "[encoded data removed]",
            "text/plain": [
              "<matplotlib.figure.Figure at 0x7fc0271f8588>"
            ]
          },
          "metadata": {
            "tags": []
          }
        }
      ]
    },
    {
      "metadata": {
        "id": "Gx0Wf0F1LqGo",
        "colab_type": "text"
      },
      "cell_type": "markdown",
      "source": [
        "**Load in Data.**\n",
        "\n",
        "**Then, I will load the Anna Karenina text file and convert it into integers for my network to use.** "
      ]
    },
    {
      "metadata": {
        "id": "st84yFvuLqGp",
        "colab_type": "code",
        "colab": {}
      },
      "cell_type": "code",
      "source": [
        "### Open text file and read in data as `text`\n",
        "with open(\"/content/drive/My Drive/Images/anna.txt\", 'r') as f:\n",
        "    text = f.read()"
      ],
      "execution_count": 0,
      "outputs": []
    },
    {
      "metadata": {
        "id": "O8HNXxnnLqGu",
        "colab_type": "text"
      },
      "cell_type": "markdown",
      "source": [
        "**Let's check out the first 100 characters, to make sure everything is correct.**"
      ]
    },
    {
      "metadata": {
        "id": "Wc_y3PURLqGv",
        "colab_type": "code",
        "outputId": "7e27c685-7882-4f51-9d6d-765550d51bcf",
        "colab": {
          "base_uri": "https://localhost:8080/",
          "height": 34
        }
      },
      "cell_type": "code",
      "source": [
        "### Check the first 100 characters\n",
        "text[:100]"
      ],
      "execution_count": 40,
      "outputs": [
        {
          "output_type": "execute_result",
          "data": {
            "text/plain": [
              "'Chapter 1\\n\\n\\nHappy families are all alike; every unhappy family is unhappy in its own\\nway.\\n\\nEverythin'"
            ]
          },
          "metadata": {
            "tags": []
          },
          "execution_count": 40
        }
      ]
    },
    {
      "metadata": {
        "id": "owasevOZLqG3",
        "colab_type": "text"
      },
      "cell_type": "markdown",
      "source": [
        "**Tokenization.**\n",
        "\n",
        "**In the cells below, I'm creating a couple of dictionaries to convert the characters to and from integers.** \n",
        "\n",
        "**Encoding the characters as integers makes it easier to use as input in the network.**"
      ]
    },
    {
      "metadata": {
        "id": "01MDYNfgLqG5",
        "colab_type": "code",
        "colab": {}
      },
      "cell_type": "code",
      "source": [
        "### Encode the text and map each character to an integer and vice versa\n",
        "\n",
        "### Create two dictionaries:\n",
        "# 1. int2char, which maps integers to characters\n",
        "# 2. char2int, which maps characters to unique integers\n",
        "chars = tuple(set(text))\n",
        "int2char = dict(enumerate(chars))\n",
        "char2int = {ch: ii for ii, ch in int2char.items()}\n",
        "\n",
        "### Encode the text\n",
        "encoded = np.array([char2int[ch] for ch in text])"
      ],
      "execution_count": 0,
      "outputs": []
    },
    {
      "metadata": {
        "id": "WP9mohaqLqG8",
        "colab_type": "text"
      },
      "cell_type": "markdown",
      "source": [
        "**And we can see those same characters from above, encoded as integers.**"
      ]
    },
    {
      "metadata": {
        "id": "RvNkv30KLqG-",
        "colab_type": "code",
        "outputId": "2d91f521-6e96-4c70-9191-035aa241dcac",
        "colab": {
          "base_uri": "https://localhost:8080/",
          "height": 119
        }
      },
      "cell_type": "code",
      "source": [
        "### The encoded text\n",
        "encoded[:100]"
      ],
      "execution_count": 42,
      "outputs": [
        {
          "output_type": "execute_result",
          "data": {
            "text/plain": [
              "array([44, 79, 35, 61, 59,  3, 36, 26, 76, 58, 58, 58, 23, 35, 61, 61, 16,\n",
              "       26, 81, 35, 39, 75, 38, 75,  3, 18, 26, 35, 36,  3, 26, 35, 38, 38,\n",
              "       26, 35, 38, 75, 60,  3,  0, 26,  3, 57,  3, 36, 16, 26, 41, 21, 79,\n",
              "       35, 61, 61, 16, 26, 81, 35, 39, 75, 38, 16, 26, 75, 18, 26, 41, 21,\n",
              "       79, 35, 61, 61, 16, 26, 75, 21, 26, 75, 59, 18, 26, 54, 82, 21, 58,\n",
              "       82, 35, 16, 24, 58, 58, 73, 57,  3, 36, 16, 59, 79, 75, 21])"
            ]
          },
          "metadata": {
            "tags": []
          },
          "execution_count": 42
        }
      ]
    },
    {
      "metadata": {
        "id": "hZHAw3YALqHE",
        "colab_type": "text"
      },
      "cell_type": "markdown",
      "source": [
        "**Pre-processing the data.**\n",
        "\n",
        "**As you can see in my char-RNN image above, my LSTM expects an input that is one-hot encoded** \n",
        "\n",
        "**Meaning that each character is converted into an integer (via my created dictionary).** \n",
        "\n",
        "**And then converted into a column vector where only it's corresponding integer index will have the value of 1 and the rest of the vector will be filled with 0's.**\n",
        "\n",
        "**Since I am one-hot encoding the data, I will make a function to do that.**"
      ]
    },
    {
      "metadata": {
        "id": "3yV-PCVdLqHE",
        "colab_type": "code",
        "colab": {}
      },
      "cell_type": "code",
      "source": [
        "### Define a 'one_hot_encode' function\n",
        "def one_hot_encode(arr, n_labels):\n",
        "    \n",
        "    ### Initialize the the encoded array\n",
        "    one_hot = np.zeros((np.multiply(*arr.shape), n_labels), dtype=np.float32)\n",
        "    \n",
        "    ### Fill the appropriate elements with ones\n",
        "    one_hot[np.arange(one_hot.shape[0]), arr.flatten()] = 1.\n",
        "    \n",
        "    ### Finally reshape it to get back to the original array\n",
        "    one_hot = one_hot.reshape((*arr.shape, n_labels))\n",
        "    \n",
        "    return one_hot"
      ],
      "execution_count": 0,
      "outputs": []
    },
    {
      "metadata": {
        "id": "EZTB2bbqLqHI",
        "colab_type": "code",
        "outputId": "ebd200a5-efbb-4d71-866c-713a16d8cbb2",
        "colab": {
          "base_uri": "https://localhost:8080/",
          "height": 68
        }
      },
      "cell_type": "code",
      "source": [
        "### Check that the function works as expected\n",
        "test_seq = np.array([[3, 5, 1]])\n",
        "one_hot = one_hot_encode(test_seq, 8)\n",
        "\n",
        "print(one_hot)"
      ],
      "execution_count": 44,
      "outputs": [
        {
          "output_type": "stream",
          "text": [
            "[[[0. 0. 0. 1. 0. 0. 0. 0.]\n",
            "  [0. 0. 0. 0. 0. 1. 0. 0.]\n",
            "  [0. 1. 0. 0. 0. 0. 0. 0.]]]\n"
          ],
          "name": "stdout"
        }
      ]
    },
    {
      "metadata": {
        "id": "8pQ_UYziLqHO",
        "colab_type": "text"
      },
      "cell_type": "markdown",
      "source": [
        "**Making training mini-batches.**\n",
        "\n",
        "\n",
        "**In this example, I'll take the encoded characters (passed in as the `arr` parameter) and split them into multiple sequences, given by `batch_size`.**\n",
        "\n",
        "**Each of the sequences will be `seq_length` long.**\n",
        "\n",
        "**Creating Batches.**\n",
        "\n",
        "**1. The first thing we need to do is discard some of the text so we only have completely full mini-batches. **\n",
        "\n",
        "Each batch contains $N \\times M$ characters, where $N$ is the batch size (the number of sequences in a batch) and $M$ is the seq_length or number of time steps in a sequence. Then, to get the total number of batches, $K$, that we can make from the array `arr`, you divide the length of `arr` by the number of characters per batch. Once you know the number of batches, you can get the total number of characters to keep from `arr`, $N * M * K$.\n",
        "\n",
        "**2. After that, we need to split `arr` into $N$ batches. ** \n",
        "\n",
        "You can do this using `arr.reshape(size)` where `size` is a tuple containing the dimensions sizes of the reshaped array. We know we want $N$ sequences in a batch, so let's make that the size of the first dimension. For the second dimension, you can use `-1` as a placeholder in the size, it'll fill up the array with the appropriate data for you. After this, you should have an array that is $N \\times (M * K)$.\n",
        "\n",
        "**3. Now that we have this array, we can iterate through it to get our mini-batches. **\n",
        "\n",
        "The idea is each batch is a $N \\times M$ window on the $N \\times (M * K)$ array. For each subsequent batch, the window moves over by `seq_length`. We also want to create both the input and target arrays. Remember that the targets are just the inputs shifted over by one character. The way I like to do this window is use `range` to take steps of size `n_steps` from $0$ to `arr.shape[1]`, the total number of tokens in each sequence. That way, the integers you get from `range` always point to the start of a batch, and each window is `seq_length` wide.\n"
      ]
    },
    {
      "metadata": {
        "id": "oX5PtraJ7orJ",
        "colab_type": "code",
        "outputId": "d5342133-6259-49b7-deb2-fa9d6cde66a9",
        "colab": {
          "base_uri": "https://localhost:8080/",
          "height": 340
        }
      },
      "cell_type": "code",
      "source": [
        "### To train on this data, I also want to create mini-batches for training \n",
        "### I want my batches to be multiple sequences of some desired number of sequence steps \n",
        "### Considering a simple example, the batches would look like this\n",
        "sequence_batching = mpimg.imread(\"/content/drive/My Drive/Images/sequence_batching@1x.png\") \n",
        "plt.imshow(sequence_batching)\n",
        "plt.grid(False)"
      ],
      "execution_count": 45,
      "outputs": [
        {
          "output_type": "display_data",
          "data": {
            "image/png": "[encoded data removed]",
            "text/plain": [
              "<matplotlib.figure.Figure at 0x7fc024570978>"
            ]
          },
          "metadata": {
            "tags": []
          }
        }
      ]
    },
    {
      "metadata": {
        "id": "MmwRhL2aLqHP",
        "colab_type": "code",
        "colab": {}
      },
      "cell_type": "code",
      "source": [
        "### Define 'get_batches'\n",
        "def get_batches(arr, batch_size, seq_length):\n",
        "    '''Create a generator that returns batches of size\n",
        "       batch_size x seq_length from arr.\n",
        "       \n",
        "       Arguments\n",
        "       ---------\n",
        "       arr: Array you want to make batches from\n",
        "       batch_size: Batch size, the number of sequences per batch\n",
        "       seq_length: Number of encoded chars in a sequence\n",
        "    '''\n",
        "    \n",
        "    batch_size_total = batch_size * seq_length\n",
        "    ### Total number of batches we can make\n",
        "    n_batches = len(arr)//batch_size_total\n",
        "    \n",
        "    ### Keep only enough characters to make full batches\n",
        "    arr = arr[:n_batches * batch_size_total]\n",
        "    \n",
        "    ### Reshape into batch_size rows\n",
        "    arr = arr.reshape((batch_size, -1))\n",
        "    \n",
        "    ### Iterate through the array, one sequence at a time\n",
        "    for n in range(0, arr.shape[1], seq_length):\n",
        "        # The features\n",
        "        x = arr[:, n:n+seq_length]\n",
        "        # The targets, shifted by one\n",
        "        y = np.zeros_like(x)\n",
        "        try:\n",
        "            y[:, :-1], y[:, -1] = x[:, 1:], arr[:, n+seq_length]\n",
        "        except IndexError:\n",
        "            y[:, :-1], y[:, -1] = x[:, 1:], arr[:, 0]\n",
        "        yield x, y"
      ],
      "execution_count": 0,
      "outputs": []
    },
    {
      "metadata": {
        "id": "T949CoilLqHT",
        "colab_type": "text"
      },
      "cell_type": "markdown",
      "source": [
        "**Test The Implementation.**\n",
        "\n",
        "**Now I'll make some data sets so I can check out what's going on as I batch data.**\n",
        "\n",
        "**Here, as an example, I'm going to use a batch size of 8 and 50 sequence steps.**"
      ]
    },
    {
      "metadata": {
        "id": "-gABFioiLqHV",
        "colab_type": "code",
        "colab": {}
      },
      "cell_type": "code",
      "source": [
        "### Test the batching function\n",
        "batches = get_batches(encoded, 8, 50)\n",
        "x, y = next(batches)"
      ],
      "execution_count": 0,
      "outputs": []
    },
    {
      "metadata": {
        "id": "DCQRn7eVLqHa",
        "colab_type": "code",
        "outputId": "1b8f7695-6ab0-444f-c59f-fcb9f82b475d",
        "colab": {
          "base_uri": "https://localhost:8080/",
          "height": 340
        }
      },
      "cell_type": "code",
      "source": [
        "### Print out the first 10 items in a sequence\n",
        "print('x\\n', x[:10, :10])\n",
        "print('\\ny\\n', y[:10, :10])"
      ],
      "execution_count": 48,
      "outputs": [
        {
          "output_type": "stream",
          "text": [
            "x\n",
            " [[44 79 35 61 59  3 36 26 76 58]\n",
            " [18 54 21 26 59 79 35 59 26 35]\n",
            " [ 3 21 13 26 54 36 26 35 26 81]\n",
            " [18 26 59 79  3 26 70 79 75  3]\n",
            " [26 18 35 82 26 79  3 36 26 59]\n",
            " [70 41 18 18 75 54 21 26 35 21]\n",
            " [26 56 21 21 35 26 79 35 13 26]\n",
            " [50 22 38 54 21 18 60 16 24 26]]\n",
            "\n",
            "y\n",
            " [[79 35 61 59  3 36 26 76 58 58]\n",
            " [54 21 26 59 79 35 59 26 35 59]\n",
            " [21 13 26 54 36 26 35 26 81 54]\n",
            " [26 59 79  3 26 70 79 75  3 81]\n",
            " [18 35 82 26 79  3 36 26 59  3]\n",
            " [41 18 18 75 54 21 26 35 21 13]\n",
            " [56 21 21 35 26 79 35 13 26 18]\n",
            " [22 38 54 21 18 60 16 24 26 65]]\n"
          ],
          "name": "stdout"
        }
      ]
    },
    {
      "metadata": {
        "id": "FN3ZoldULqHh",
        "colab_type": "text"
      },
      "cell_type": "markdown",
      "source": [
        "**If I implemented `get_batches` correctly, the above output should look something like.** \n",
        "```\n",
        "x\n",
        " [[25  8 60 11 45 27 28 73  1  2]\n",
        " [17  7 20 73 45  8 60 45 73 60]\n",
        " [27 20 80 73  7 28 73 60 73 65]\n",
        " [17 73 45  8 27 73 66  8 46 27]\n",
        " [73 17 60 12 73  8 27 28 73 45]\n",
        " [66 64 17 17 46  7 20 73 60 20]\n",
        " [73 76 20 20 60 73  8 60 80 73]\n",
        " [47 35 43  7 20 17 24 50 37 73]]\n",
        "\n",
        "y\n",
        " [[ 8 60 11 45 27 28 73  1  2  2]\n",
        " [ 7 20 73 45  8 60 45 73 60 45]\n",
        " [20 80 73  7 28 73 60 73 65  7]\n",
        " [73 45  8 27 73 66  8 46 27 65]\n",
        " [17 60 12 73  8 27 28 73 45 27]\n",
        " [64 17 17 46  7 20 73 60 20 80]\n",
        " [76 20 20 60 73  8 60 80 73 17]\n",
        " [35 43  7 20 17 24 50 37 73 36]]\n",
        " ```\n",
        " **although the exact numbers may be different. Check to make sure the data is shifted over one step for `y`.**"
      ]
    },
    {
      "metadata": {
        "id": "xLcyEsCpLqHj",
        "colab_type": "text"
      },
      "cell_type": "markdown",
      "source": [
        "---\n",
        "**Defining the network with PyTorch.**\n",
        "\n",
        "**Below is where I will define the network.**\n",
        "\n",
        "**I will use PyTorch to define the architecture of the network.**\n",
        "\n",
        "**I start by defining the layers and operations I want.**\n",
        "\n",
        "**Then, I will define a method for the forward pass.** "
      ]
    },
    {
      "metadata": {
        "id": "O2KqTK9tIcPE",
        "colab_type": "code",
        "outputId": "504b55b4-135e-45ae-c6cc-0688c4121efe",
        "colab": {
          "base_uri": "https://localhost:8080/",
          "height": 351
        }
      },
      "cell_type": "code",
      "source": [
        "### Layers and activations of an RNN\n",
        "char_rnn = mpimg.imread(\"/content/drive/My Drive/Images/charRNN.png\") \n",
        "plt.imshow(char_rnn)\n",
        "plt.grid(False)"
      ],
      "execution_count": 49,
      "outputs": [
        {
          "output_type": "display_data",
          "data": {
            "image/png": "[encoded data removed]",
            "text/plain": [
              "<matplotlib.figure.Figure at 0x7fc0244ea160>"
            ]
          },
          "metadata": {
            "tags": []
          }
        }
      ]
    },
    {
      "metadata": {
        "id": "xAda8cBNLqHj",
        "colab_type": "text"
      },
      "cell_type": "markdown",
      "source": [
        "**Model Structure.**\n",
        "\n",
        "* Create and store the necessary dictionaries\n",
        "* Define an LSTM layer that takes as params: an input size (the number of characters), a hidden layer size `n_hidden`, a number of layers `n_layers`, a dropout probability `drop_prob`, and a batch_first boolean (True, since we are batching)\n",
        "* Define a dropout layer with `dropout_prob`\n",
        "* Define a fully-connected layer with params: input size `n_hidden` and output size (the number of characters)\n",
        "* Finally, initialize the weights "
      ]
    },
    {
      "metadata": {
        "id": "tHTbG8c2LqHl",
        "colab_type": "text"
      },
      "cell_type": "markdown",
      "source": [
        "---\n",
        "**LSTM Inputs/Outputs.**\n",
        "\n",
        "**I will  create a basic [LSTM layer](https://pytorch.org/docs/stable/nn.html#lstm) as follows.**\n",
        "\n",
        "```python\n",
        "self.lstm = nn.LSTM(input_size, n_hidden, n_layers, \n",
        "                            dropout=drop_prob, batch_first=True)\n",
        "```\n",
        "\n",
        "where `input_size` is the number of characters this cell expects to see as sequential input, and `n_hidden` is the number of units in the hidden layers in the cell. And we can add dropout by adding a dropout parameter with a specified probability; this will automatically add dropout to the inputs or outputs. Finally, in the `forward` function, we can stack up the LSTM cells into layers using `.view`. With this, you pass in a list of cells and it will send the output of one cell into the next cell.\n",
        "\n",
        "We also need to create an initial hidden state of all zeros. This is done like so\n",
        "\n",
        "```python\n",
        "self.init_hidden()\n",
        "```"
      ]
    },
    {
      "metadata": {
        "id": "kryTihuhLqHm",
        "colab_type": "code",
        "outputId": "799057ef-9e3b-4269-cee7-090b52c2c7da",
        "colab": {
          "base_uri": "https://localhost:8080/",
          "height": 34
        }
      },
      "cell_type": "code",
      "source": [
        "### Check if GPU is available\n",
        "train_on_gpu = torch.cuda.is_available()\n",
        "if(train_on_gpu):\n",
        "    print('Training on GPU!')\n",
        "else: \n",
        "    print('No GPU available, training on CPU; consider making n_epochs very small.')"
      ],
      "execution_count": 50,
      "outputs": [
        {
          "output_type": "stream",
          "text": [
            "Training on GPU!\n"
          ],
          "name": "stdout"
        }
      ]
    },
    {
      "metadata": {
        "id": "NHrMcxIiLqHs",
        "colab_type": "code",
        "colab": {}
      },
      "cell_type": "code",
      "source": [
        "class CharRNN(nn.Module):\n",
        "    \n",
        "    def __init__(self, tokens, n_hidden=256, n_layers=2,\n",
        "                               drop_prob=0.5, lr=0.001):\n",
        "        super().__init__()\n",
        "        self.drop_prob = drop_prob\n",
        "        self.n_layers = n_layers\n",
        "        self.n_hidden = n_hidden\n",
        "        self.lr = lr\n",
        "        \n",
        "        ### Creating character dictionaries\n",
        "        self.chars = tokens\n",
        "        self.int2char = dict(enumerate(self.chars))\n",
        "        self.char2int = {ch: ii for ii, ch in self.int2char.items()}\n",
        "        \n",
        "        ### Define the LSTM\n",
        "        self.lstm = nn.LSTM(len(self.chars), n_hidden, n_layers, \n",
        "                            dropout=drop_prob, batch_first=True)\n",
        "        \n",
        "        ### Define a dropout layer\n",
        "        self.dropout = nn.Dropout(drop_prob)\n",
        "        \n",
        "        ### Define the final, fully-connected output layer\n",
        "        self.fc = nn.Linear(n_hidden, len(self.chars))\n",
        "      \n",
        "    \n",
        "    def forward(self, x, hidden):\n",
        "        ''' Forward pass through the network. \n",
        "            These inputs are x, and the hidden/cell state `hidden`. '''\n",
        "                \n",
        "        ### Get the outputs and the new hidden state from the lstm\n",
        "        r_output, hidden = self.lstm(x, hidden)\n",
        "        \n",
        "        ### Pass through a dropout layer\n",
        "        out = self.dropout(r_output)\n",
        "        \n",
        "        ### Stack up LSTM outputs using view\n",
        "        ### I may need to use contiguous to reshape the output\n",
        "        out = out.contiguous().view(-1, self.n_hidden)\n",
        "        \n",
        "        ### Put x through the fully-connected layer\n",
        "        out = self.fc(out)\n",
        "        \n",
        "        ### Return the final output and the hidden state\n",
        "        return out, hidden\n",
        "    \n",
        "    \n",
        "    def init_hidden(self, batch_size):\n",
        "        ''' Initializes hidden state '''\n",
        "        ### Create two new tensors with sizes n_layers x batch_size x n_hidden,\n",
        "        ### Initialized to zero, for hidden state and cell state of LSTM\n",
        "        weight = next(self.parameters()).data\n",
        "        \n",
        "        if (train_on_gpu):\n",
        "            hidden = (weight.new(self.n_layers, batch_size, self.n_hidden).zero_().cuda(),\n",
        "                  weight.new(self.n_layers, batch_size, self.n_hidden).zero_().cuda())\n",
        "        else:\n",
        "            hidden = (weight.new(self.n_layers, batch_size, self.n_hidden).zero_(),\n",
        "                      weight.new(self.n_layers, batch_size, self.n_hidden).zero_())\n",
        "        \n",
        "        return hidden"
      ],
      "execution_count": 0,
      "outputs": []
    },
    {
      "metadata": {
        "id": "kE5741mKLqHz",
        "colab_type": "text"
      },
      "cell_type": "markdown",
      "source": [
        "## Time to train\n",
        "\n",
        "The train function gives me the ability to set the number of epochs, the learning rate, and other parameters.\n",
        "\n",
        "Below I am using an Adam optimizer and cross entropy loss since I am looking at character class scores as output. I calculate the loss and perform backpropagation, as usual.\n",
        "\n",
        "A couple of details about training: \n",
        ">* Within the batch loop, I detach the hidden state from its history; this time setting it equal to a new *tuple* variable because an LSTM has a hidden state that is a tuple of the hidden and cell states.\n",
        "* I use [`clip_grad_norm_`](https://pytorch.org/docs/stable/_modules/torch/nn/utils/clip_grad.html) to help prevent exploding gradients."
      ]
    },
    {
      "metadata": {
        "id": "CXxPLk2JLqH2",
        "colab_type": "code",
        "colab": {}
      },
      "cell_type": "code",
      "source": [
        "def train(net, data, epochs=10, batch_size=10, seq_length=50, lr=0.001, clip=5, val_frac=0.1, print_every=10):\n",
        "    ''' Training a network \n",
        "    \n",
        "        Arguments\n",
        "        ---------\n",
        "        \n",
        "        net: CharRNN network\n",
        "        data: text data to train the network\n",
        "        epochs: Number of epochs to train\n",
        "        batch_size: Number of mini-sequences per mini-batch, aka batch size\n",
        "        seq_length: Number of character steps per mini-batch\n",
        "        lr: learning rate\n",
        "        clip: gradient clipping\n",
        "        val_frac: Fraction of data to hold out for validation\n",
        "        print_every: Number of steps for printing training and validation loss\n",
        "    \n",
        "    '''\n",
        "    net.train()\n",
        "    \n",
        "    opt = torch.optim.Adam(net.parameters(), lr=lr)\n",
        "    criterion = nn.CrossEntropyLoss()\n",
        "    \n",
        "    ### Create training and validation data\n",
        "    val_idx = int(len(data)*(1-val_frac))\n",
        "    data, val_data = data[:val_idx], data[val_idx:]\n",
        "    \n",
        "    if(train_on_gpu):\n",
        "        net.cuda()\n",
        "    \n",
        "    counter = 0\n",
        "    n_chars = len(net.chars)\n",
        "    for e in range(epochs):\n",
        "        ### Initialize hidden state\n",
        "        h = net.init_hidden(batch_size)\n",
        "        \n",
        "        for x, y in get_batches(data, batch_size, seq_length):\n",
        "            counter += 1\n",
        "            \n",
        "            ### One-hot encode the data and make them Torch tensors\n",
        "            x = one_hot_encode(x, n_chars)\n",
        "            inputs, targets = torch.from_numpy(x), torch.from_numpy(y)\n",
        "            \n",
        "            if(train_on_gpu):\n",
        "                inputs, targets = inputs.cuda(), targets.cuda()\n",
        "\n",
        "            ### Creating new variables for the hidden state, otherwise\n",
        "            ### the code would backprop through the entire training history\n",
        "            h = tuple([each.data for each in h])\n",
        "\n",
        "            ### Zero accumulated gradients\n",
        "            net.zero_grad()\n",
        "            \n",
        "            ### Get the output from the model\n",
        "            output, h = net(inputs, h)\n",
        "            \n",
        "            ### Calculate the loss and perform backprop\n",
        "            loss = criterion(output, targets.view(batch_size*seq_length))\n",
        "            loss.backward()\n",
        "            \n",
        "            ### `clip_grad_norm` helps prevent the exploding gradient problem in RNNs / LSTMs.\n",
        "            nn.utils.clip_grad_norm_(net.parameters(), clip)\n",
        "            opt.step()\n",
        "            \n",
        "            ### Loss stats\n",
        "            if counter % print_every == 0:\n",
        "                ### Get validation loss\n",
        "                val_h = net.init_hidden(batch_size)\n",
        "                val_losses = []\n",
        "                net.eval()\n",
        "                for x, y in get_batches(val_data, batch_size, seq_length):\n",
        "                    \n",
        "                    ### One-hot encode our data and make them Torch tensors\n",
        "                    x = one_hot_encode(x, n_chars)\n",
        "                    x, y = torch.from_numpy(x), torch.from_numpy(y)\n",
        "                    \n",
        "                    ### Creating new variables for the hidden state, otherwise\n",
        "                    ### the code would backprop through the entire training history\n",
        "                    val_h = tuple([each.data for each in val_h])\n",
        "                    \n",
        "                    inputs, targets = x, y\n",
        "                    if(train_on_gpu):\n",
        "                        inputs, targets = inputs.cuda(), targets.cuda()\n",
        "\n",
        "                    output, val_h = net(inputs, val_h)\n",
        "                    val_loss = criterion(output, targets.view(batch_size*seq_length))\n",
        "                \n",
        "                    val_losses.append(val_loss.item())\n",
        "                \n",
        "                net.train() # reset to train mode after iterating through validation data\n",
        "                \n",
        "                print(\"Epoch: {}/{}...\".format(e+1, epochs),\n",
        "                      \"Step: {}...\".format(counter),\n",
        "                      \"Loss: {:.4f}...\".format(loss.item()),\n",
        "                      \"Val Loss: {:.4f}\".format(np.mean(val_losses)))"
      ],
      "execution_count": 0,
      "outputs": []
    },
    {
      "metadata": {
        "id": "8C12-e1bLqH8",
        "colab_type": "text"
      },
      "cell_type": "markdown",
      "source": [
        "**Instantiating the model.**\n",
        "\n",
        "**Now I can actually train the network.** \n",
        "\n",
        "**First I'll create the network itself, with some given hyperparameters.**\n",
        "\n",
        "**Then, define the mini-batches sizes, and start training.** "
      ]
    },
    {
      "metadata": {
        "id": "YWbJOzPVLqH-",
        "colab_type": "code",
        "outputId": "8f78e461-c20c-45f9-e0b6-68d5a8be1dd5",
        "colab": {
          "base_uri": "https://localhost:8080/",
          "height": 102
        }
      },
      "cell_type": "code",
      "source": [
        "### Define and print the net\n",
        "n_hidden=512\n",
        "n_layers=2\n",
        "\n",
        "net = CharRNN(chars, n_hidden, n_layers)\n",
        "print(net)"
      ],
      "execution_count": 53,
      "outputs": [
        {
          "output_type": "stream",
          "text": [
            "CharRNN(\n",
            "  (lstm): LSTM(83, 512, num_layers=2, batch_first=True, dropout=0.5)\n",
            "  (dropout): Dropout(p=0.5)\n",
            "  (fc): Linear(in_features=512, out_features=83, bias=True)\n",
            ")\n"
          ],
          "name": "stdout"
        }
      ]
    },
    {
      "metadata": {
        "scrolled": true,
        "id": "qiWsQo1PLqIE",
        "colab_type": "code",
        "outputId": "2bff143c-c294-4629-c616-60aff90a012d",
        "colab": {
          "base_uri": "https://localhost:8080/",
          "height": 238
        }
      },
      "cell_type": "code",
      "source": [
        "### Define mini_batches\n",
        "batch_size = 128\n",
        "seq_length = 100\n",
        "n_epochs = 1 \n",
        "\n",
        "### Train the model\n",
        "train(net, encoded, epochs=n_epochs, batch_size=batch_size, seq_length=seq_length, lr=0.001, print_every=10)"
      ],
      "execution_count": 54,
      "outputs": [
        {
          "output_type": "stream",
          "text": [
            "Epoch: 1/1... Step: 10... Loss: 3.2603... Val Loss: 3.2075\n",
            "Epoch: 1/1... Step: 20... Loss: 3.1482... Val Loss: 3.1394\n",
            "Epoch: 1/1... Step: 30... Loss: 3.1430... Val Loss: 3.1238\n",
            "Epoch: 1/1... Step: 40... Loss: 3.1145... Val Loss: 3.1191\n",
            "Epoch: 1/1... Step: 50... Loss: 3.1409... Val Loss: 3.1172\n",
            "Epoch: 1/1... Step: 60... Loss: 3.1181... Val Loss: 3.1150\n",
            "Epoch: 1/1... Step: 70... Loss: 3.1090... Val Loss: 3.1130\n",
            "Epoch: 1/1... Step: 80... Loss: 3.1180... Val Loss: 3.1062\n",
            "Epoch: 1/1... Step: 90... Loss: 3.1096... Val Loss: 3.0909\n",
            "Epoch: 1/1... Step: 100... Loss: 3.0697... Val Loss: 3.0561\n",
            "Epoch: 1/1... Step: 110... Loss: 3.0181... Val Loss: 2.9963\n",
            "Epoch: 1/1... Step: 120... Loss: 2.8986... Val Loss: 2.8820\n",
            "Epoch: 1/1... Step: 130... Loss: 2.8250... Val Loss: 2.7899\n"
          ],
          "name": "stdout"
        }
      ]
    },
    {
      "metadata": {
        "id": "fkTUtv0VLqII",
        "colab_type": "text"
      },
      "cell_type": "markdown",
      "source": [
        "**Getting the best model.**\n",
        "\n",
        "**To set the hyperparameters to get the best performance, I'll want to watch the training and validation losses.**\n",
        "\n",
        "**If the training loss is much lower than the validation loss, the model is overfitting.** \n",
        "\n",
        "**Increase regularization (more dropout) or use a smaller network.** \n",
        "\n",
        "**If the training and validation losses are close, the model is underfitting so I can increase the size of the network.**"
      ]
    },
    {
      "metadata": {
        "id": "Q73-XhyALqIK",
        "colab_type": "text"
      },
      "cell_type": "markdown",
      "source": [
        "## Hyperparameters\n",
        "\n",
        "Here are the hyperparameters for the network.\n",
        "\n",
        "In defining the model:\n",
        "* `n_hidden` - The number of units in the hidden layers.\n",
        "* `n_layers` - Number of hidden LSTM layers to use.\n",
        "\n",
        "We assume that dropout probability and learning rate will be kept at the default, in this example.\n",
        "\n",
        "And in training:\n",
        "* `batch_size` - Number of sequences running through the network in one pass.\n",
        "* `seq_length` - Number of characters in the sequence the network is trained on. Larger is better typically, the network will learn more long range dependencies. But it takes longer to train. 100 is typically a good number here.\n",
        "* `lr` - Learning rate for training\n",
        "\n",
        "> ## Tips and Tricks\n",
        "\n",
        ">### Monitoring Validation Loss vs. Training Loss\n",
        ">If you're somewhat new to Machine Learning or Neural Networks it can take a bit of expertise to get good models. The most important quantity to keep track of is the difference between your training loss (printed during training) and the validation loss (printed once in a while when the RNN is run on the validation data (by default every 1000 iterations)). In particular:\n",
        "\n",
        "> - If your training loss is much lower than validation loss then this means the network might be **overfitting**. Solutions to this are to decrease your network size, or to increase dropout. For example you could try dropout of 0.5 and so on.\n",
        "> - If your training/validation loss are about equal then your model is **underfitting**. Increase the size of your model (either number of layers or the raw number of neurons per layer)\n",
        "\n",
        "> ### Approximate number of parameters\n",
        "\n",
        "> The two most important parameters that control the model are `n_hidden` and `n_layers`. I would advise that you always use `n_layers` of either 2/3. The `n_hidden` can be adjusted based on how much data you have. The two important quantities to keep track of here are:\n",
        "\n",
        "> - The number of parameters in your model. This is printed when you start training.\n",
        "> - The size of your dataset. 1MB file is approximately 1 million characters.\n",
        "\n",
        ">These two should be about the same order of magnitude. It's a little tricky to tell. Here are some examples:\n",
        "\n",
        "> - I have a 100MB dataset and I'm using the default parameter settings (which currently print 150K parameters). My data size is significantly larger (100 mil >> 0.15 mil), so I expect to heavily underfit. I am thinking I can comfortably afford to make `n_hidden` larger.\n",
        "> - I have a 10MB dataset and running a 10 million parameter model. I'm slightly nervous and I'm carefully monitoring my validation loss. If it's larger than my training loss then I may want to try to increase dropout a bit and see if that helps the validation loss.\n",
        "\n",
        "> ### Best models strategy\n",
        "\n",
        ">The winning strategy to obtaining very good models (if you have the compute time) is to always err on making the network larger (as large as you're willing to wait for it to compute) and then try different dropout values (between 0,1). Whatever model has the best validation performance (the loss, written in the checkpoint filename, low is good) is the one you should use in the end.\n",
        "\n",
        ">It is very common in deep learning to run many different models with many different hyperparameter settings, and in the end take whatever checkpoint gave the best validation performance.\n",
        "\n",
        ">By the way, the size of your training and validation splits are also parameters. Make sure you have a decent amount of data in your validation set or otherwise the validation performance will be noisy and not very informative."
      ]
    },
    {
      "metadata": {
        "id": "6L3UJmj8LqIK",
        "colab_type": "text"
      },
      "cell_type": "markdown",
      "source": [
        "## Checkpoint\n",
        "\n",
        "**After training, I'll save the model so I can load it again later if I need too.** \n",
        "\n",
        "**Here I'm saving the parameters needed to create the same architecture, the hidden layer hyperparameters and the text characters.**"
      ]
    },
    {
      "metadata": {
        "id": "xr6L9bJOLqIP",
        "colab_type": "code",
        "colab": {}
      },
      "cell_type": "code",
      "source": [
        "### Change the name, for saving multiple files\n",
        "model_name = 'rnn_20_epoch.net'\n",
        "\n",
        "checkpoint = {'n_hidden': net.n_hidden,\n",
        "              'n_layers': net.n_layers,\n",
        "              'state_dict': net.state_dict(),\n",
        "              'tokens': net.chars}\n",
        "\n",
        "with open(model_name, 'wb') as f:\n",
        "    torch.save(checkpoint, f)"
      ],
      "execution_count": 0,
      "outputs": []
    },
    {
      "metadata": {
        "id": "KU10gQNJLqIT",
        "colab_type": "text"
      },
      "cell_type": "markdown",
      "source": [
        "---\n",
        "## Making Predictions\n",
        "\n",
        "Now that the model is trained, we'll want to sample from it and make predictions about next characters! To sample, we pass in a character and have the network predict the next character. Then we take that character, pass it back in, and get another predicted character. Just keep doing this and you'll generate a bunch of text!\n",
        "\n",
        "### A note on the `predict`  function\n",
        "\n",
        "The output of our RNN is from a fully-connected layer and it outputs a **distribution of next-character scores**.\n",
        "\n",
        "> To actually get the next character, we apply a softmax function, which gives us a *probability* distribution that we can then sample to predict the next character.\n",
        "\n",
        "### Top K sampling\n",
        "\n",
        "Our predictions come from a categorical probability distribution over all the possible characters. We can make the sample text and make it more reasonable to handle (with less variables) by only considering some $K$ most probable characters. This will prevent the network from giving us completely absurd characters while allowing it to introduce some noise and randomness into the sampled text. Read more about [topk, here](https://pytorch.org/docs/stable/torch.html#torch.topk).\n"
      ]
    },
    {
      "metadata": {
        "id": "XFrQvVQZLqIT",
        "colab_type": "code",
        "colab": {}
      },
      "cell_type": "code",
      "source": [
        "def predict(net, char, h=None, top_k=None):\n",
        "        ''' Given a character, predict the next character.\n",
        "            Returns the predicted character and the hidden state.\n",
        "        '''\n",
        "        \n",
        "        # tensor inputs\n",
        "        x = np.array([[net.char2int[char]]])\n",
        "        x = one_hot_encode(x, len(net.chars))\n",
        "        inputs = torch.from_numpy(x)\n",
        "        \n",
        "        if(train_on_gpu):\n",
        "            inputs = inputs.cuda()\n",
        "        \n",
        "        # detach hidden state from history\n",
        "        h = tuple([each.data for each in h])\n",
        "        # get the output of the model\n",
        "        out, h = net(inputs, h)\n",
        "\n",
        "        # get the character probabilities\n",
        "        p = F.softmax(out, dim=1).data\n",
        "        if(train_on_gpu):\n",
        "            p = p.cpu() # move to cpu\n",
        "        \n",
        "        # get top characters\n",
        "        if top_k is None:\n",
        "            top_ch = np.arange(len(net.chars))\n",
        "        else:\n",
        "            p, top_ch = p.topk(top_k)\n",
        "            top_ch = top_ch.numpy().squeeze()\n",
        "        \n",
        "        # select the likely next character with some element of randomness\n",
        "        p = p.numpy().squeeze()\n",
        "        char = np.random.choice(top_ch, p=p/p.sum())\n",
        "        \n",
        "        # return the encoded value of the predicted char and the hidden state\n",
        "        return net.int2char[char], h"
      ],
      "execution_count": 0,
      "outputs": []
    },
    {
      "metadata": {
        "id": "Mh6jZ9mmLqIX",
        "colab_type": "text"
      },
      "cell_type": "markdown",
      "source": [
        "### Priming and generating text \n",
        "\n",
        "Typically you'll want to prime the network so you can build up a hidden state. Otherwise the network will start out generating characters at random. In general the first bunch of characters will be a little rough since it hasn't built up a long history of characters to predict from."
      ]
    },
    {
      "metadata": {
        "id": "WzbNu_GYLqIX",
        "colab_type": "code",
        "colab": {}
      },
      "cell_type": "code",
      "source": [
        "def sample(net, size, prime='The', top_k=None):\n",
        "        \n",
        "    if(train_on_gpu):\n",
        "        net.cuda()\n",
        "    else:\n",
        "        net.cpu()\n",
        "    \n",
        "    net.eval() # eval mode\n",
        "    \n",
        "    # First off, run through the prime characters\n",
        "    chars = [ch for ch in prime]\n",
        "    h = net.init_hidden(1)\n",
        "    for ch in prime:\n",
        "        char, h = predict(net, ch, h, top_k=top_k)\n",
        "\n",
        "    chars.append(char)\n",
        "    \n",
        "    # Now pass in the previous character and get a new one\n",
        "    for ii in range(size):\n",
        "        char, h = predict(net, chars[-1], h, top_k=top_k)\n",
        "        chars.append(char)\n",
        "\n",
        "    return ''.join(chars)"
      ],
      "execution_count": 0,
      "outputs": []
    },
    {
      "metadata": {
        "id": "Nvv9w871LqIc",
        "colab_type": "code",
        "colab": {
          "base_uri": "https://localhost:8080/",
          "height": 88
        },
        "outputId": "2dbf13c2-6338-4360-aa31-bcf32c9a5896"
      },
      "cell_type": "code",
      "source": [
        "print(sample(net, 1000, prime='Anna', top_k=5))"
      ],
      "execution_count": 58,
      "outputs": [
        {
          "output_type": "stream",
          "text": [
            "Annan  aed tare he e ee tired\n",
            " he tirt had har tie asta a aad ant hare aed an tar aon aa sied ia  atthes tees ho  ho thes ittat oan  aet oed an etestes ot etitt har hhe etang ae het to  hhi thon  he  hit tirethod at eed annt arind ton tond tart ae hher io  ao  oir the had hh shon he thard hanten torttis tond oat teredd an ha thir thhe  hhi ta attar iod thodss hin torteses oe thes an atirens\n",
            " horens onn ho  hi te artits her eadset oedd tin at and horss ata ethat tote tint inns hh ass atan as the  ied at hat hhe sit te ee tan thetsin ha soest hen ha te entestit an  har thare ha  aon ann  anredtas aa a aet on ae  he the tartta hantthhe  oong atatin hhi sens atis on iostir ee aes ae ans ie end en tar ther hotit oa hhe then ied an ian  hhe ton thins he hate at ont an ha tee ata  in eters hhrrist on tae hiti hor on the  ha  earet on and itte tho te ae tares oan ae  at he aadst are tha hirtare oe hartan aos on e etat hot onn  oond, ie  aot on atit hid tan etins ior enti ae ae ther ans annte thes a\n"
          ],
          "name": "stdout"
        }
      ]
    },
    {
      "metadata": {
        "id": "zRboYuR2LqIf",
        "colab_type": "text"
      },
      "cell_type": "markdown",
      "source": [
        "## Loading a checkpoint"
      ]
    },
    {
      "metadata": {
        "id": "QQyZzOk7LqIg",
        "colab_type": "code",
        "colab": {}
      },
      "cell_type": "code",
      "source": [
        "### Here we have loaded in a model that trained over 20 epochs `rnn_20_epoch.net`\n",
        "with open('rnn_20_epoch.net', 'rb') as f:\n",
        "    checkpoint = torch.load(f)\n",
        "    \n",
        "loaded = CharRNN(checkpoint['tokens'], n_hidden=checkpoint['n_hidden'], n_layers=checkpoint['n_layers'])\n",
        "loaded.load_state_dict(checkpoint['state_dict'])"
      ],
      "execution_count": 0,
      "outputs": []
    },
    {
      "metadata": {
        "id": "SSFDBKMvLqIl",
        "colab_type": "code",
        "colab": {
          "base_uri": "https://localhost:8080/",
          "height": 139
        },
        "outputId": "0150eb80-4270-4267-d439-cb1ef3cdf6eb"
      },
      "cell_type": "code",
      "source": [
        "### Sample using a loaded model\n",
        "print(sample(loaded, 2000, top_k=5, prime=\"And Levin said\"))"
      ],
      "execution_count": 60,
      "outputs": [
        {
          "output_type": "stream",
          "text": [
            "And Levin said  eose hod io an hh tetthad hens aad hhr hed tons ae een had hhedse oente eesend ta thod tho shatiss tar ea and it end tis atthe tees hhed ian tand, on to ennd ann tee aod eteretthe aa  hat onte hh sate thhrri no et arint at ete iong aesed hhe an thet ta  hot an tot tae the tin thi tonn  ao  east aen at hentetes\n",
            "sotes inndd her at oo  iars ins tors aa  oa ten ten hhed an aa  oeneg ta a ta enn te ast hed tar he te aret iod hi  eeritestin atsirn ont ar hots ao  hond oer oos ae e hor ethed tho thon  herti hirtin tho  han tor etenn at ant hh es tan tha toe hod aot eend an tan anse on iti tan he hod aans hat ho  eas oer annte at hhrrendd hin aa sathon atarin hant oot the ate ees an hond ao toet he atit herenn heret aod thar hed ote tat ant hort oen attin ha esit ei  ar eis ao tand atethen\n",
            "nat he aod iots oed thi etan  ae an in he tho  ae an ho  hit ot tie hat hand thin terind he hhe anttan toes hh  aor his thin the  en aidd aod hett an hed thed tonn ao hh  on toe hor hir ho tha tit aes an it oe end ind tanse ae har ie  aed toristhed oo  an ho  ee ten arte at ie thi tor oan han hods her oetter teren ao  aed iat hi te hhrtti  oote hod eo ta tin toe  oo ethang ooss ansi tindt tons io  eee tored ae ae hor oat eed,thhs aad an tere hhetit hot oe tho e eed taet herthens, hhe tons hed oed ante he toe thord oe ae thod aed ann tore an and toring ha ha tha  aa hote tond\n",
            "\n",
            "hhing tha e ens an hin an ein ated ha tor tore he aa terttan an at arend io ens aos ie aed an he hate an ete ha tet and had it ae tho toe  aed hid antta he hir oa tin hhr ee tir aa  ea e etes hid eesend ant eresedd hir and thit hod an te hiret the aet at han enn hetet hh shongs tons toe  ha  hon tee  oed the  hir thes,stes oos tho sho ha es the tha se eat oe tari  har anse tho  aes hengt tant aed hhe en ete end atanss tise ia tor on arr oo the  hort on at ans oot ars oet ho  horte ons, ont hid hodstas tettirs hher hirtetistite  eet tha terte eo tor hin hhe  ann and iat tie he ha esind hir ee to  on iod inn ethor\n",
            "nth\n"
          ],
          "name": "stdout"
        }
      ]
    }
  ]
}