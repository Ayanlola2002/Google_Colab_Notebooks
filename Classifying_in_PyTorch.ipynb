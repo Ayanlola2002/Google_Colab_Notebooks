{
  "nbformat": 4,
  "nbformat_minor": 0,
  "metadata": {
    "colab": {
      "name": "Classifying in PyTorch.ipynb",
      "version": "0.3.2",
      "provenance": [],
      "collapsed_sections": [],
      "include_colab_link": true
    },
    "kernelspec": {
      "name": "python3",
      "display_name": "Python 3"
    },
    "accelerator": "GPU"
  },
  "cells": [
    {
      "cell_type": "markdown",
      "metadata": {
        "id": "view-in-github",
        "colab_type": "text"
      },
      "source": [
        "<a href=\"https://colab.research.google.com/github/paulgureghian/Google_Colab_Notebooks/blob/master/Classifying_in_PyTorch.ipynb\" target=\"_parent\"><img src=\"https://colab.research.google.com/assets/colab-badge.svg\" alt=\"Open In Colab\"/></a>"
      ]
    },
    {
      "metadata": {
        "id": "cidAfIfyQhxW",
        "colab_type": "text"
      },
      "cell_type": "markdown",
      "source": [
        "**Created by Paul A. Gureghian on 11/26/18.**\n",
        "\n",
        "**This notebook uses the 'Fashion-MNIST' dataset and**\n",
        "\n",
        "**PyTorch to classify clothing images.**"
      ]
    },
    {
      "metadata": {
        "id": "6RB1wEQ-fBfO",
        "colab_type": "code",
        "colab": {}
      },
      "cell_type": "code",
      "source": [
        "### Install CUDA driver\n",
        "# http://pytorch.org/\n",
        "from os.path import exists\n",
        "from wheel.pep425tags import get_abbr_impl, get_impl_ver, get_abi_tag\n",
        "platform = '{}{}-{}'.format(get_abbr_impl(), get_impl_ver(), get_abi_tag())\n",
        "cuda_output = !ldconfig -p|grep cudart.so|sed -e 's/.*\\.\\([0-9]*\\)\\.\\([0-9]*\\)$/cu\\1\\2/'\n",
        "accelerator = cuda_output[0] if exists('/dev/nvidia0') else 'cpu'\n",
        "\n",
        "!pip install -q http://download.pytorch.org/whl/{accelerator}/torch-0.4.1-{platform}-linux_x86_64.whl torchvision"
      ],
      "execution_count": 0,
      "outputs": []
    },
    {
      "metadata": {
        "id": "KJuMsne_OtF8",
        "colab_type": "code",
        "outputId": "13f75e25-6789-459d-81aa-8f3da209e009",
        "colab": {
          "base_uri": "https://localhost:8080/",
          "height": 54
        }
      },
      "cell_type": "code",
      "source": [
        "### Install PyTorch and Torchvision \n",
        "!pip3 install -U -q torchvision \n",
        "!pip3 install -U -q http://download.pytorch.org/whl/cu92/torch-0.4.1-cp36-cp36m-linux_x86_64.whl"
      ],
      "execution_count": 18,
      "outputs": [
        {
          "output_type": "stream",
          "text": [
            "tcmalloc: large alloc 1073750016 bytes == 0x58646000 @  0x7ff6fce332a4 0x591a07 0x5b5d56 0x502e9a 0x506859 0x502209 0x502f3d 0x506859 0x504c28 0x502540 0x502f3d 0x506859 0x504c28 0x502540 0x502f3d 0x506859 0x504c28 0x502540 0x502f3d 0x507641 0x502209 0x502f3d 0x506859 0x504c28 0x502540 0x502f3d 0x507641 0x504c28 0x502540 0x502f3d 0x507641\n"
          ],
          "name": "stdout"
        }
      ]
    },
    {
      "metadata": {
        "id": "WdBmbcW2SJjV",
        "colab_type": "code",
        "colab": {}
      },
      "cell_type": "code",
      "source": [
        "### Import packages\n",
        "import torch\n",
        "import numpy as np\n",
        "from torch import nn, optim\n",
        "import torch.nn.functional as F\n",
        "import matplotlib.pyplot as plt\n",
        "from torchvision import  datasets, transforms"
      ],
      "execution_count": 0,
      "outputs": []
    },
    {
      "metadata": {
        "id": "-2aw7-4jSbbC",
        "colab_type": "code",
        "colab": {}
      },
      "cell_type": "code",
      "source": [
        "### Define a transform to normalize the data\n",
        "transform = transforms.Compose([transforms.ToTensor(), transforms.Normalize((0.5,0.5,0.5),(0.5,0.5,0.5))])"
      ],
      "execution_count": 0,
      "outputs": []
    },
    {
      "metadata": {
        "id": "lqNZnf25TNyD",
        "colab_type": "code",
        "colab": {}
      },
      "cell_type": "code",
      "source": [
        "### Download and load the training data\n",
        "trainset = datasets.FashionMNIST('~/.pytorch/F_MNIST_data/', download=True, train=True, transform=transform)\n",
        "trainloader = torch.utils.data.DataLoader(trainset, batch_size=64, shuffle=True)"
      ],
      "execution_count": 0,
      "outputs": []
    },
    {
      "metadata": {
        "id": "uBlgYPcPWOtc",
        "colab_type": "code",
        "colab": {}
      },
      "cell_type": "code",
      "source": [
        "### ### Download and load the testing data\n",
        "testset = datasets.FashionMNIST('~/.pytorch/F_MNIST_data/', download=True, train=False, transform=transform)\n",
        "testloader = torch.utils.data.DataLoader(testset, batch_size=64, shuffle=True)"
      ],
      "execution_count": 0,
      "outputs": []
    },
    {
      "metadata": {
        "id": "5apSQxIRBnLT",
        "colab_type": "code",
        "colab": {}
      },
      "cell_type": "code",
      "source": [
        "### Define a function to view an image and its predicted class\n",
        "def view_classify(img, ps, version=\"MNIST\"):\n",
        "    ''' Function for viewing an image and it's predicted classes.\n",
        "    '''\n",
        "    ps = ps.data.numpy().squeeze()\n",
        "\n",
        "    fig, (ax1, ax2) = plt.subplots(figsize=(6,9), ncols=2)\n",
        "    ax1.imshow(img.resize_(1, 28, 28).numpy().squeeze())\n",
        "    ax1.axis('off')\n",
        "    ax2.barh(np.arange(10), ps)\n",
        "    ax2.set_aspect(0.1)\n",
        "    ax2.set_yticks(np.arange(10))\n",
        "    if version == \"MNIST\":\n",
        "        ax2.set_yticklabels(np.arange(10))\n",
        "    elif version == \"Fashion\":\n",
        "        ax2.set_yticklabels(['T-shirt/top',\n",
        "                            'Trouser',\n",
        "                            'Pullover',\n",
        "                            'Dress',\n",
        "                            'Coat',\n",
        "                            'Sandal',\n",
        "                            'Shirt',\n",
        "                            'Sneaker',\n",
        "                            'Bag',\n",
        "                            'Ankle Boot'], size='small');\n",
        "    ax2.set_title('Class Probability')\n",
        "    ax2.set_xlim(0, 1.1)\n",
        "\n",
        "    plt.tight_layout()"
      ],
      "execution_count": 0,
      "outputs": []
    },
    {
      "metadata": {
        "id": "GrmNJOaNaHGT",
        "colab_type": "code",
        "colab": {}
      },
      "cell_type": "code",
      "source": [
        "### Define a function to view the images\n",
        "def imshow(image, ax=None, title=None, normalize=True):\n",
        "    \"\"\"Imshow for Tensor.\"\"\"\n",
        "    if ax is None:\n",
        "        fig, ax = plt.subplots()\n",
        "    image = image.numpy().transpose((1, 2, 0))\n",
        "\n",
        "    if normalize:\n",
        "        mean = np.array([0.485, 0.456, 0.406])\n",
        "        std = np.array([0.229, 0.224, 0.225])\n",
        "        image = std * image + mean\n",
        "        image = np.clip(image, 0, 1)\n",
        "\n",
        "    ax.imshow(image)\n",
        "    ax.spines['top'].set_visible(False)\n",
        "    ax.spines['right'].set_visible(False)\n",
        "    ax.spines['left'].set_visible(False)\n",
        "    ax.spines['bottom'].set_visible(False)\n",
        "    ax.tick_params(axis='both', length=0)\n",
        "    ax.set_xticklabels('')\n",
        "    ax.set_yticklabels('')\n",
        "\n",
        "    return ax"
      ],
      "execution_count": 0,
      "outputs": []
    },
    {
      "metadata": {
        "id": "i7wYUF78W6ha",
        "colab_type": "code",
        "outputId": "6453eceb-994b-463d-8996-55f0ceba0713",
        "colab": {
          "base_uri": "https://localhost:8080/",
          "height": 330
        }
      },
      "cell_type": "code",
      "source": [
        "### View one of the images \n",
        "images, label = next(iter(trainloader))\n",
        "imshow(images[0,:]);"
      ],
      "execution_count": 25,
      "outputs": [
        {
          "output_type": "display_data",
          "data": {
            "image/png": "[encoded data removed]",
            "text/plain": [
              "<matplotlib.figure.Figure at 0x7f049977b208>"
            ]
          },
          "metadata": {
            "tags": []
          }
        }
      ]
    },
    {
      "metadata": {
        "id": "heghJ8qubLOZ",
        "colab_type": "text"
      },
      "cell_type": "markdown",
      "source": [
        "**Build the network.**\n",
        "\n",
        "**Here I will define the network with an input-layer with 784 inputs,**\n",
        "\n",
        "**Two hidden-layers and an output-layer with 10 outputs.**\n",
        "\n",
        "**I will use Relu activation functions for the layers.**\n",
        "\n"
      ]
    },
    {
      "metadata": {
        "id": "CWPKKAPzcbbJ",
        "colab_type": "code",
        "colab": {}
      },
      "cell_type": "code",
      "source": [
        "### Define the network architecture\n",
        "class Classifier(nn.Module):\n",
        "    def __init__(self):\n",
        "      super().__init__()\n",
        "      self.input_layer = nn.Linear(784, 256)\n",
        "      self.hidden_layer1 = nn.Linear(256, 128)\n",
        "      self.hidden_layer2 = nn.Linear(128, 64)\n",
        "      self.output_layer = nn.Linear(64, 10)\n",
        "      \n",
        "    def forward(self, x):\n",
        "      x = x.view(x.shape[0], -1)\n",
        "      x = F.relu(self.input_layer(x))\n",
        "      x = F.relu(self.hidden_layer1(x))\n",
        "      x = F.relu(self.hidden_layer2(x))\n",
        "      x = F.log_softmax(self.output_layer(x), dim=1)\n",
        "      \n",
        "      return x    "
      ],
      "execution_count": 0,
      "outputs": []
    },
    {
      "metadata": {
        "id": "mk3W2QUFoOFf",
        "colab_type": "text"
      },
      "cell_type": "markdown",
      "source": [
        "**Train the network.**\n",
        "\n",
        "**First I will create the network, then train it.**\n",
        "\n",
        "**I will define the Loss(), and an optimizer.**\n",
        "\n",
        "**Finally I will make a forward pass through the network,**\n",
        "\n",
        "**Calculate the loss, backward pass through the network, update the weights.**"
      ]
    },
    {
      "metadata": {
        "id": "mj3atSipmRZo",
        "colab_type": "code",
        "colab": {}
      },
      "cell_type": "code",
      "source": [
        "### Create the network \n",
        "model = Classifier()\n",
        "criterion = nn.NLLLoss()\n",
        "optimizer = optim.SGD(model.parameters(), lr =0.005)"
      ],
      "execution_count": 0,
      "outputs": []
    },
    {
      "metadata": {
        "id": "w17y-YNA98CJ",
        "colab_type": "code",
        "outputId": "5b3dc5d0-3904-4510-8b43-b0e1fb2e5526",
        "colab": {
          "base_uri": "https://localhost:8080/",
          "height": 272
        }
      },
      "cell_type": "code",
      "source": [
        "### Train the network \n",
        "epochs = 15\n",
        "for e in range(epochs):\n",
        "  running_loss = 0\n",
        "  for images, labels in trainloader:\n",
        "    log_ps = model(images)\n",
        "    loss = criterion(log_ps, labels)\n",
        "    \n",
        "    optimizer.zero_grad()\n",
        "    loss.backward()\n",
        "    optimizer.step()\n",
        "    \n",
        "    running_loss += loss.item()\n",
        "  else:\n",
        "    print(f\"Training loss: {running_loss/len(trainloader)}\")"
      ],
      "execution_count": 28,
      "outputs": [
        {
          "output_type": "stream",
          "text": [
            "Training loss: 1.8333844058295048\n",
            "Training loss: 0.8434536845318036\n",
            "Training loss: 0.6531219607286616\n",
            "Training loss: 0.5832457157022664\n",
            "Training loss: 0.5385643497967263\n",
            "Training loss: 0.5047243087212923\n",
            "Training loss: 0.4797959850668145\n",
            "Training loss: 0.4600293350213372\n",
            "Training loss: 0.4443845237368968\n",
            "Training loss: 0.4315923212497219\n",
            "Training loss: 0.42052745676116904\n",
            "Training loss: 0.41093025798164706\n",
            "Training loss: 0.40114462188184896\n",
            "Training loss: 0.3929881645259318\n",
            "Training loss: 0.3859777594330723\n"
          ],
          "name": "stdout"
        }
      ]
    },
    {
      "metadata": {
        "id": "RsX8Tr0eBM1B",
        "colab_type": "code",
        "outputId": "ea28b4ac-eca4-482e-b76d-1d7a001c92c0",
        "colab": {
          "base_uri": "https://localhost:8080/",
          "height": 323
        }
      },
      "cell_type": "code",
      "source": [
        "### View an image and its predicted class\n",
        "dataiter = iter(testloader)\n",
        "imags, labels = dataiter.next()\n",
        "img = images[1]\n",
        "\n",
        "### Calculate class probabilities for the image\n",
        "ps = torch.exp(model(img)) \n",
        "print(\"Shape of the class probabilities: \", ps.shape)\n",
        "print('')\n",
        "print(ps)\n",
        "print('')\n",
        "\n",
        "### Plot the image and its probabilities\n",
        "view_classify(img, ps, version='Fashion') "
      ],
      "execution_count": 31,
      "outputs": [
        {
          "output_type": "stream",
          "text": [
            "Shape of the class probabilities:  torch.Size([1, 10])\n",
            "\n",
            "tensor([[8.7041e-09, 9.5376e-09, 3.2007e-10, 5.3036e-08, 1.3025e-10, 1.1979e-03,\n",
            "         1.9769e-09, 4.2098e-04, 1.9965e-07, 9.9838e-01]],\n",
            "       grad_fn=<ExpBackward>)\n",
            "\n"
          ],
          "name": "stdout"
        },
        {
          "output_type": "display_data",
          "data": {
            "image/png": "[encoded data removed]",
            "text/plain": [
              "<matplotlib.figure.Figure at 0x7f049b059978>"
            ]
          },
          "metadata": {
            "tags": []
          }
        }
      ]
    },
    {
      "metadata": {
        "id": "TpLa_SDZh9Ti",
        "colab_type": "text"
      },
      "cell_type": "markdown",
      "source": [
        "**In this section I will use the test set to measure the model's prediction accuracy.**\n",
        "\n",
        "**The goal is to see how the model reacts to unseen data and its ability to generalize.**"
      ]
    },
    {
      "metadata": {
        "id": "GWcerq_lh64F",
        "colab_type": "code",
        "colab": {}
      },
      "cell_type": "code",
      "source": [
        "### Do a forward pass with one batch from the test set.\n"
      ],
      "execution_count": 0,
      "outputs": []
    }
  ]
}