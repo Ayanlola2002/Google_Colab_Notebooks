{
  "nbformat": 4,
  "nbformat_minor": 0,
  "metadata": {
    "colab": {
      "name": "Classifying in PyTorch.ipynb",
      "version": "0.3.2",
      "provenance": [],
      "collapsed_sections": [],
      "include_colab_link": true
    },
    "kernelspec": {
      "name": "python3",
      "display_name": "Python 3"
    },
    "accelerator": "GPU"
  },
  "cells": [
    {
      "cell_type": "markdown",
      "metadata": {
        "id": "view-in-github",
        "colab_type": "text"
      },
      "source": [
        "<a href=\"https://colab.research.google.com/github/paulgureghian/Google_Colab_Notebooks/blob/master/Classifying_in_PyTorch.ipynb\" target=\"_parent\"><img src=\"https://colab.research.google.com/assets/colab-badge.svg\" alt=\"Open In Colab\"/></a>"
      ]
    },
    {
      "metadata": {
        "id": "cidAfIfyQhxW",
        "colab_type": "text"
      },
      "cell_type": "markdown",
      "source": [
        "**Created by Paul A. Gureghian on 11/26/18.**\n",
        "\n",
        "**This notebook uses the 'Fashion-MNIST' dataset and**\n",
        "\n",
        "**PyTorch to classify clothing images.**"
      ]
    },
    {
      "metadata": {
        "id": "6RB1wEQ-fBfO",
        "colab_type": "code",
        "colab": {}
      },
      "cell_type": "code",
      "source": [
        "### Install CUDA driver\n",
        "# http://pytorch.org/\n",
        "from os.path import exists\n",
        "from wheel.pep425tags import get_abbr_impl, get_impl_ver, get_abi_tag\n",
        "platform = '{}{}-{}'.format(get_abbr_impl(), get_impl_ver(), get_abi_tag())\n",
        "cuda_output = !ldconfig -p|grep cudart.so|sed -e 's/.*\\.\\([0-9]*\\)\\.\\([0-9]*\\)$/cu\\1\\2/'\n",
        "accelerator = cuda_output[0] if exists('/dev/nvidia0') else 'cpu'\n",
        "\n",
        "!pip install -q http://download.pytorch.org/whl/{accelerator}/torch-0.4.1-{platform}-linux_x86_64.whl torchvision"
      ],
      "execution_count": 0,
      "outputs": []
    },
    {
      "metadata": {
        "id": "KJuMsne_OtF8",
        "colab_type": "code",
        "outputId": "af3cf985-45df-4fa0-b54b-e2456679f0e1",
        "colab": {
          "base_uri": "https://localhost:8080/",
          "height": 54
        }
      },
      "cell_type": "code",
      "source": [
        "### Install PyTorch and Torchvision \n",
        "!pip3 install -U -q torchvision \n",
        "!pip3 install -U -q http://download.pytorch.org/whl/cu92/torch-0.4.1-cp36-cp36m-linux_x86_64.whl"
      ],
      "execution_count": 66,
      "outputs": [
        {
          "output_type": "stream",
          "text": [
            "tcmalloc: large alloc 1073750016 bytes == 0x59010000 @  0x7f47d70eb2a4 0x591a07 0x5b5d56 0x502e9a 0x506859 0x502209 0x502f3d 0x506859 0x504c28 0x502540 0x502f3d 0x506859 0x504c28 0x502540 0x502f3d 0x506859 0x504c28 0x502540 0x502f3d 0x507641 0x502209 0x502f3d 0x506859 0x504c28 0x502540 0x502f3d 0x507641 0x504c28 0x502540 0x502f3d 0x507641\n"
          ],
          "name": "stdout"
        }
      ]
    },
    {
      "metadata": {
        "id": "WdBmbcW2SJjV",
        "colab_type": "code",
        "colab": {}
      },
      "cell_type": "code",
      "source": [
        "### Import packages\n",
        "import torch\n",
        "import numpy as np\n",
        "from torch import nn, optim\n",
        "import torch.nn.functional as F\n",
        "import matplotlib.pyplot as plt\n",
        "from torchvision import  datasets, transforms"
      ],
      "execution_count": 0,
      "outputs": []
    },
    {
      "metadata": {
        "id": "-2aw7-4jSbbC",
        "colab_type": "code",
        "colab": {}
      },
      "cell_type": "code",
      "source": [
        "### Define a transform to normalize the data\n",
        "transform = transforms.Compose([transforms.ToTensor(), transforms.Normalize((0.5,0.5,0.5),(0.5,0.5,0.5))])"
      ],
      "execution_count": 0,
      "outputs": []
    },
    {
      "metadata": {
        "id": "lqNZnf25TNyD",
        "colab_type": "code",
        "colab": {}
      },
      "cell_type": "code",
      "source": [
        "### Download and load the training data\n",
        "trainset = datasets.FashionMNIST('~/.pytorch/F_MNIST_data/', download=True, train=True, transform=transform)\n",
        "trainloader = torch.utils.data.DataLoader(trainset, batch_size=64, shuffle=True)"
      ],
      "execution_count": 0,
      "outputs": []
    },
    {
      "metadata": {
        "id": "uBlgYPcPWOtc",
        "colab_type": "code",
        "colab": {}
      },
      "cell_type": "code",
      "source": [
        "### ### Download and load the testing data\n",
        "testset = datasets.FashionMNIST('~/.pytorch/F_MNIST_data/', download=True, train=False, transform=transform)\n",
        "testloader = torch.utils.data.DataLoader(testset, batch_size=64, shuffle=True)"
      ],
      "execution_count": 0,
      "outputs": []
    },
    {
      "metadata": {
        "id": "5apSQxIRBnLT",
        "colab_type": "code",
        "colab": {}
      },
      "cell_type": "code",
      "source": [
        "### Define a function to view an image and its predicted class\n",
        "def view_classify(img, ps, version=\"MNIST\"):\n",
        "    ''' Function for viewing an image and it's predicted classes.\n",
        "    '''\n",
        "    ps = ps.data.numpy().squeeze()\n",
        "\n",
        "    fig, (ax1, ax2) = plt.subplots(figsize=(6,9), ncols=2)\n",
        "    ax1.imshow(img.resize_(1, 28, 28).numpy().squeeze())\n",
        "    ax1.axis('off')\n",
        "    ax2.barh(np.arange(10), ps)\n",
        "    ax2.set_aspect(0.1)\n",
        "    ax2.set_yticks(np.arange(10))\n",
        "    if version == \"MNIST\":\n",
        "        ax2.set_yticklabels(np.arange(10))\n",
        "    elif version == \"Fashion\":\n",
        "        ax2.set_yticklabels(['T-shirt/top',\n",
        "                            'Trouser',\n",
        "                            'Pullover',\n",
        "                            'Dress',\n",
        "                            'Coat',\n",
        "                            'Sandal',\n",
        "                            'Shirt',\n",
        "                            'Sneaker',\n",
        "                            'Bag',\n",
        "                            'Ankle Boot'], size='small');\n",
        "    ax2.set_title('Class Probability')\n",
        "    ax2.set_xlim(0, 1.1)\n",
        "\n",
        "    plt.tight_layout()"
      ],
      "execution_count": 0,
      "outputs": []
    },
    {
      "metadata": {
        "id": "GrmNJOaNaHGT",
        "colab_type": "code",
        "colab": {}
      },
      "cell_type": "code",
      "source": [
        "### Define a function to view the images\n",
        "def imshow(image, ax=None, title=None, normalize=True):\n",
        "    \"\"\"Imshow for Tensor.\"\"\"\n",
        "    if ax is None:\n",
        "        fig, ax = plt.subplots()\n",
        "    image = image.numpy().transpose((1, 2, 0))\n",
        "\n",
        "    if normalize:\n",
        "        mean = np.array([0.485, 0.456, 0.406])\n",
        "        std = np.array([0.229, 0.224, 0.225])\n",
        "        image = std * image + mean\n",
        "        image = np.clip(image, 0, 1)\n",
        "\n",
        "    ax.imshow(image)\n",
        "    ax.spines['top'].set_visible(False)\n",
        "    ax.spines['right'].set_visible(False)\n",
        "    ax.spines['left'].set_visible(False)\n",
        "    ax.spines['bottom'].set_visible(False)\n",
        "    ax.tick_params(axis='both', length=0)\n",
        "    ax.set_xticklabels('')\n",
        "    ax.set_yticklabels('')\n",
        "\n",
        "    return ax"
      ],
      "execution_count": 0,
      "outputs": []
    },
    {
      "metadata": {
        "id": "i7wYUF78W6ha",
        "colab_type": "code",
        "outputId": "a0e9da06-751a-4459-abcf-89508506a96f",
        "colab": {
          "base_uri": "https://localhost:8080/",
          "height": 330
        }
      },
      "cell_type": "code",
      "source": [
        "### View one of the images \n",
        "images, label = next(iter(trainloader))\n",
        "imshow(images[0,:]);"
      ],
      "execution_count": 73,
      "outputs": [
        {
          "output_type": "display_data",
          "data": {
            "image/png": "[encoded data removed]",
            "text/plain": [
              "<matplotlib.figure.Figure at 0x7f049afe6c50>"
            ]
          },
          "metadata": {
            "tags": []
          }
        }
      ]
    },
    {
      "metadata": {
        "id": "heghJ8qubLOZ",
        "colab_type": "text"
      },
      "cell_type": "markdown",
      "source": [
        "**Build the network.**\n",
        "\n",
        "**Here I will define the network with an input-layer with 784 inputs,**\n",
        "\n",
        "**Two hidden-layers and an output-layer with 10 outputs.**\n",
        "\n",
        "**I will use Relu activation functions for the layers.**\n",
        "\n"
      ]
    },
    {
      "metadata": {
        "id": "CWPKKAPzcbbJ",
        "colab_type": "code",
        "colab": {}
      },
      "cell_type": "code",
      "source": [
        "### Define the network architecture\n",
        "class Classifier(nn.Module):\n",
        "    def __init__(self):\n",
        "      super().__init__()\n",
        "      self.input_layer = nn.Linear(784, 256)\n",
        "      self.hidden_layer1 = nn.Linear(256, 128)\n",
        "      self.hidden_layer2 = nn.Linear(128, 64)\n",
        "      self.output_layer = nn.Linear(64, 10)\n",
        "      \n",
        "    def forward(self, x):\n",
        "      x = x.view(x.shape[0], -1)\n",
        "      x = F.relu(self.input_layer(x))\n",
        "      x = F.relu(self.hidden_layer1(x))\n",
        "      x = F.relu(self.hidden_layer2(x))\n",
        "      x = F.log_softmax(self.output_layer(x), dim=1)\n",
        "      \n",
        "      return x    "
      ],
      "execution_count": 0,
      "outputs": []
    },
    {
      "metadata": {
        "id": "mk3W2QUFoOFf",
        "colab_type": "text"
      },
      "cell_type": "markdown",
      "source": [
        "**Train and validate the network.**\n",
        "\n"
      ]
    },
    {
      "metadata": {
        "id": "w17y-YNA98CJ",
        "colab_type": "code",
        "outputId": "b8a9dfef-dd44-460a-882d-7e15d2d4f65a",
        "colab": {
          "base_uri": "https://localhost:8080/",
          "height": 272
        }
      },
      "cell_type": "code",
      "source": [
        "### Create the network, loss, and optimizer\n",
        "model = Classifier()\n",
        "\n",
        "### Define hyperparameters and metrics\n",
        "steps = 30\n",
        "epochs = 15\n",
        "criterion = nn.NLLLoss()\n",
        "optimizer = optim.SGD(model.parameters(), lr =0.005)\n",
        "train_losses, test_losses = [], [] \n",
        "\n",
        "### Train the network \n",
        "for e in range(epochs):\n",
        "    running_loss = 0\n",
        "    for images, labels in trainloader:\n",
        "    \n",
        "        optimizer.zero_grad()\n",
        "    \n",
        "        log_ps = model(images)\n",
        "        loss = criterion(log_ps, labels)\n",
        "        loss.backward()\n",
        "        optimizer.step()\n",
        "    \n",
        "        running_loss += loss.item()\n",
        "\n",
        "### Validate the network\n",
        "    else:\n",
        "        test_loss = 0\n",
        "        accuracy = 0\n",
        "        \n",
        "        with torch.no_grad():\n",
        "            for images, labels in testloader:\n",
        "                log_ps = model(images)\n",
        "                test_loss += criterion(log_ps, labels)\n",
        "      \n",
        "                ps = torch.exp(log_ps)\n",
        "                top_p, top_class = ps.topk(1, dim=1)\n",
        "                equals = top_class == labels.view(*top_class.shape)\n",
        "                accuracy += torch.mean(equals.type(torch.FloatTensor))\n",
        "      \n",
        "        train_losses.append(running_loss/len(trainloader))\n",
        "        test_losses.append(test_loss/len(testloader))\n",
        "  \n",
        "        print(\"Epoch: {}/{}.. \".format(e+1, epochs),  \n",
        "              \"Training loss: {:.3f}.. \".format(running_loss/len(trainloader)),\n",
        "              \"Test_loss: {:.3f}.. \".format(test_loss/len(testloader)),\n",
        "              \"Accuracy: {:.3f}.. \".format(accuracy/len(testloader)))   "
      ],
      "execution_count": 81,
      "outputs": [
        {
          "output_type": "stream",
          "text": [
            "Epoch: 1/15..  Training loss: 1.866..  Test_loss: 1.165..  Accuracy: 0.600.. \n",
            "Epoch: 2/15..  Training loss: 0.881..  Test_loss: 0.764..  Accuracy: 0.713.. \n",
            "Epoch: 3/15..  Training loss: 0.674..  Test_loss: 0.642..  Accuracy: 0.754.. \n",
            "Epoch: 4/15..  Training loss: 0.592..  Test_loss: 0.597..  Accuracy: 0.784.. \n",
            "Epoch: 5/15..  Training loss: 0.542..  Test_loss: 0.563..  Accuracy: 0.794.. \n",
            "Epoch: 6/15..  Training loss: 0.508..  Test_loss: 0.525..  Accuracy: 0.810.. \n",
            "Epoch: 7/15..  Training loss: 0.484..  Test_loss: 0.524..  Accuracy: 0.807.. \n",
            "Epoch: 8/15..  Training loss: 0.466..  Test_loss: 0.502..  Accuracy: 0.818.. \n",
            "Epoch: 9/15..  Training loss: 0.452..  Test_loss: 0.476..  Accuracy: 0.828.. \n",
            "Epoch: 10/15..  Training loss: 0.438..  Test_loss: 0.467..  Accuracy: 0.832.. \n",
            "Epoch: 11/15..  Training loss: 0.427..  Test_loss: 0.453..  Accuracy: 0.838.. \n",
            "Epoch: 12/15..  Training loss: 0.416..  Test_loss: 0.462..  Accuracy: 0.835.. \n",
            "Epoch: 13/15..  Training loss: 0.406..  Test_loss: 0.441..  Accuracy: 0.843.. \n",
            "Epoch: 14/15..  Training loss: 0.397..  Test_loss: 0.439..  Accuracy: 0.843.. \n",
            "Epoch: 15/15..  Training loss: 0.389..  Test_loss: 0.429..  Accuracy: 0.844.. \n"
          ],
          "name": "stdout"
        }
      ]
    },
    {
      "metadata": {
        "id": "RsX8Tr0eBM1B",
        "colab_type": "code",
        "outputId": "d73fef00-e653-4e01-b5ab-c3d0d41b265a",
        "colab": {
          "base_uri": "https://localhost:8080/",
          "height": 323
        }
      },
      "cell_type": "code",
      "source": [
        "### View an image and its predicted class\n",
        "dataiter = iter(testloader)\n",
        "images, labels = dataiter.next()\n",
        "img = images[0]\n",
        "#img = images\n",
        "\n",
        "### Calculate class probabilities for the image\n",
        "ps = torch.exp(model(img)) \n",
        "print(\"Shape of the class probabilities: \", ps.shape)\n",
        "print('')\n",
        "print(ps)\n",
        "print('')\n",
        "\n",
        "### Plot the image and its probabilities\n",
        "view_classify(img, ps, version='Fashion') "
      ],
      "execution_count": 77,
      "outputs": [
        {
          "output_type": "stream",
          "text": [
            "Shape of the class probabilities:  torch.Size([1, 10])\n",
            "\n",
            "tensor([[3.1229e-04, 1.8230e-03, 4.1154e-02, 6.4014e-03, 9.4524e-01, 4.8988e-08,\n",
            "         4.3407e-03, 9.6845e-11, 7.2512e-04, 1.8539e-10]],\n",
            "       grad_fn=<ExpBackward>)\n",
            "\n"
          ],
          "name": "stdout"
        },
        {
          "output_type": "display_data",
          "data": {
            "image/png": "[encoded data removed]",
            "text/plain": [
              "<matplotlib.figure.Figure at 0x7f04997bbf98>"
            ]
          },
          "metadata": {
            "tags": []
          }
        }
      ]
    }
  ]
}