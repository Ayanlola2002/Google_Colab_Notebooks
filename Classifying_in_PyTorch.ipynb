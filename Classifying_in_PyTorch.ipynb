{
  "nbformat": 4,
  "nbformat_minor": 0,
  "metadata": {
    "colab": {
      "name": "Classifying in PyTorch.ipynb",
      "version": "0.3.2",
      "provenance": [],
      "collapsed_sections": [],
      "include_colab_link": true
    },
    "kernelspec": {
      "name": "python3",
      "display_name": "Python 3"
    },
    "accelerator": "GPU"
  },
  "cells": [
    {
      "cell_type": "markdown",
      "metadata": {
        "id": "view-in-github",
        "colab_type": "text"
      },
      "source": [
        "<a href=\"https://colab.research.google.com/github/paulgureghian/Google_Colab_Notebooks/blob/master/Classifying_in_PyTorch.ipynb\" target=\"_parent\"><img src=\"https://colab.research.google.com/assets/colab-badge.svg\" alt=\"Open In Colab\"/></a>"
      ]
    },
    {
      "metadata": {
        "id": "cidAfIfyQhxW",
        "colab_type": "text"
      },
      "cell_type": "markdown",
      "source": [
        "**Created by Paul A. Gureghian on 11/26/18.**\n",
        "\n",
        "**This notebook uses the 'Fashion-MNIST' dataset and**\n",
        "\n",
        "**PyTorch to classify clothing images.**"
      ]
    },
    {
      "metadata": {
        "id": "6RB1wEQ-fBfO",
        "colab_type": "code",
        "colab": {}
      },
      "cell_type": "code",
      "source": [
        "### Install CUDA driver\n",
        "# http://pytorch.org/\n",
        "from os.path import exists\n",
        "from wheel.pep425tags import get_abbr_impl, get_impl_ver, get_abi_tag\n",
        "platform = '{}{}-{}'.format(get_abbr_impl(), get_impl_ver(), get_abi_tag())\n",
        "cuda_output = !ldconfig -p|grep cudart.so|sed -e 's/.*\\.\\([0-9]*\\)\\.\\([0-9]*\\)$/cu\\1\\2/'\n",
        "accelerator = cuda_output[0] if exists('/dev/nvidia0') else 'cpu'\n",
        "\n",
        "!pip install -q http://download.pytorch.org/whl/{accelerator}/torch-0.4.1-{platform}-linux_x86_64.whl torchvision"
      ],
      "execution_count": 0,
      "outputs": []
    },
    {
      "metadata": {
        "id": "KJuMsne_OtF8",
        "colab_type": "code",
        "outputId": "731ec067-36a5-4f4b-813a-405e5c363e4f",
        "colab": {
          "base_uri": "https://localhost:8080/",
          "height": 54
        }
      },
      "cell_type": "code",
      "source": [
        "### Install PyTorch and Torchvision \n",
        "!pip3 install -U -q torchvision \n",
        "!pip3 install -U -q http://download.pytorch.org/whl/cu92/torch-0.4.1-cp36-cp36m-linux_x86_64.whl"
      ],
      "execution_count": 93,
      "outputs": [
        {
          "output_type": "stream",
          "text": [
            "tcmalloc: large alloc 1073750016 bytes == 0x5741a000 @  0x7f24d4f5e2a4 0x591a07 0x5b5d56 0x502e9a 0x506859 0x502209 0x502f3d 0x506859 0x504c28 0x502540 0x502f3d 0x506859 0x504c28 0x502540 0x502f3d 0x506859 0x504c28 0x502540 0x502f3d 0x507641 0x502209 0x502f3d 0x506859 0x504c28 0x502540 0x502f3d 0x507641 0x504c28 0x502540 0x502f3d 0x507641\n"
          ],
          "name": "stdout"
        }
      ]
    },
    {
      "metadata": {
        "id": "WdBmbcW2SJjV",
        "colab_type": "code",
        "colab": {}
      },
      "cell_type": "code",
      "source": [
        "### Import packages\n",
        "import torch\n",
        "import numpy as np\n",
        "from torch import nn, optim\n",
        "import torch.nn.functional as F\n",
        "import matplotlib.pyplot as plt\n",
        "from torchvision import  datasets, transforms"
      ],
      "execution_count": 0,
      "outputs": []
    },
    {
      "metadata": {
        "id": "-2aw7-4jSbbC",
        "colab_type": "code",
        "colab": {}
      },
      "cell_type": "code",
      "source": [
        "### Define a transform to normalize the data\n",
        "transform = transforms.Compose([transforms.ToTensor(), transforms.Normalize((0.5,0.5,0.5),(0.5,0.5,0.5))])"
      ],
      "execution_count": 0,
      "outputs": []
    },
    {
      "metadata": {
        "id": "lqNZnf25TNyD",
        "colab_type": "code",
        "colab": {}
      },
      "cell_type": "code",
      "source": [
        "### Download and load the training data\n",
        "trainset = datasets.FashionMNIST('~/.pytorch/F_MNIST_data/', download=True, train=True, transform=transform)\n",
        "trainloader = torch.utils.data.DataLoader(trainset, batch_size=64, shuffle=True)"
      ],
      "execution_count": 0,
      "outputs": []
    },
    {
      "metadata": {
        "id": "uBlgYPcPWOtc",
        "colab_type": "code",
        "colab": {}
      },
      "cell_type": "code",
      "source": [
        "### ### Download and load the testing data\n",
        "testset = datasets.FashionMNIST('~/.pytorch/F_MNIST_data/', download=True, train=False, transform=transform)\n",
        "testloader = torch.utils.data.DataLoader(testset, batch_size=64, shuffle=True)"
      ],
      "execution_count": 0,
      "outputs": []
    },
    {
      "metadata": {
        "id": "5apSQxIRBnLT",
        "colab_type": "code",
        "colab": {}
      },
      "cell_type": "code",
      "source": [
        "### Define a function to view an image and its predicted class\n",
        "def view_classify(img, ps, version=\"MNIST\"):\n",
        "    ''' Function for viewing an image and it's predicted classes.\n",
        "    '''\n",
        "    ps = ps.data.numpy().squeeze()\n",
        "\n",
        "    fig, (ax1, ax2) = plt.subplots(figsize=(6,9), ncols=2)\n",
        "    ax1.imshow(img.resize_(1, 28, 28).numpy().squeeze())\n",
        "    ax1.axis('off')\n",
        "    ax2.barh(np.arange(10), ps)\n",
        "    ax2.set_aspect(0.1)\n",
        "    ax2.set_yticks(np.arange(10))\n",
        "    if version == \"MNIST\":\n",
        "        ax2.set_yticklabels(np.arange(10))\n",
        "    elif version == \"Fashion\":\n",
        "        ax2.set_yticklabels(['T-shirt/top',\n",
        "                            'Trouser',\n",
        "                            'Pullover',\n",
        "                            'Dress',\n",
        "                            'Coat',\n",
        "                            'Sandal',\n",
        "                            'Shirt',\n",
        "                            'Sneaker',\n",
        "                            'Bag',\n",
        "                            'Ankle Boot'], size='small');\n",
        "    ax2.set_title('Class Probability')\n",
        "    ax2.set_xlim(0, 1.1)\n",
        "\n",
        "    plt.tight_layout()"
      ],
      "execution_count": 0,
      "outputs": []
    },
    {
      "metadata": {
        "id": "GrmNJOaNaHGT",
        "colab_type": "code",
        "colab": {}
      },
      "cell_type": "code",
      "source": [
        "### Define a function to view the images\n",
        "def imshow(image, ax=None, title=None, normalize=True):\n",
        "    \"\"\"Imshow for Tensor.\"\"\"\n",
        "    if ax is None:\n",
        "        fig, ax = plt.subplots()\n",
        "    image = image.numpy().transpose((1, 2, 0))\n",
        "\n",
        "    if normalize:\n",
        "        mean = np.array([0.485, 0.456, 0.406])\n",
        "        std = np.array([0.229, 0.224, 0.225])\n",
        "        image = std * image + mean\n",
        "        image = np.clip(image, 0, 1)\n",
        "\n",
        "    ax.imshow(image)\n",
        "    ax.spines['top'].set_visible(False)\n",
        "    ax.spines['right'].set_visible(False)\n",
        "    ax.spines['left'].set_visible(False)\n",
        "    ax.spines['bottom'].set_visible(False)\n",
        "    ax.tick_params(axis='both', length=0)\n",
        "    ax.set_xticklabels('')\n",
        "    ax.set_yticklabels('')\n",
        "\n",
        "    return ax"
      ],
      "execution_count": 0,
      "outputs": []
    },
    {
      "metadata": {
        "id": "i7wYUF78W6ha",
        "colab_type": "code",
        "outputId": "fe000737-1596-46f0-d31f-f9f72630d0e8",
        "colab": {
          "base_uri": "https://localhost:8080/",
          "height": 330
        }
      },
      "cell_type": "code",
      "source": [
        "### View one of the images \n",
        "images, label = next(iter(trainloader))\n",
        "imshow(images[0,:]);"
      ],
      "execution_count": 100,
      "outputs": [
        {
          "output_type": "display_data",
          "data": {
            "image/png": "[encoded data removed]",
            "text/plain": [
              "<matplotlib.figure.Figure at 0x7f0499521a58>"
            ]
          },
          "metadata": {
            "tags": []
          }
        }
      ]
    },
    {
      "metadata": {
        "id": "heghJ8qubLOZ",
        "colab_type": "text"
      },
      "cell_type": "markdown",
      "source": [
        "**Build the network.**\n",
        "\n",
        "**Here I will define the network with an input-layer with 784 inputs,**\n",
        "\n",
        "**Two hidden-layers and an output-layer with 10 outputs.**\n",
        "\n",
        "**I will use Relu activation functions for the layers.**\n",
        "\n"
      ]
    },
    {
      "metadata": {
        "id": "CWPKKAPzcbbJ",
        "colab_type": "code",
        "colab": {}
      },
      "cell_type": "code",
      "source": [
        "### Define the network architecture\n",
        "class Classifier(nn.Module):\n",
        "    def __init__(self):\n",
        "      super().__init__()\n",
        "      self.input_layer = nn.Linear(784, 256)\n",
        "      self.hidden_layer1 = nn.Linear(256, 128)\n",
        "      self.hidden_layer2 = nn.Linear(128, 64)\n",
        "      self.output_layer = nn.Linear(64, 10)\n",
        "      # Dropout module\n",
        "      self.dropout = nn.Dropout(p=0.2)\n",
        "      \n",
        "    def forward(self, x):\n",
        "      x = x.view(x.shape[0], -1)\n",
        "      x = self.dropout(F.relu(self.input_layer(x)))\n",
        "      x = self.dropout(F.relu(self.hidden_layer1(x)))\n",
        "      x = self.dropout(F.relu(self.hidden_layer2(x)))\n",
        "      x = F.log_softmax(self.output_layer(x), dim=1)\n",
        "      \n",
        "      return x    "
      ],
      "execution_count": 0,
      "outputs": []
    },
    {
      "metadata": {
        "id": "mk3W2QUFoOFf",
        "colab_type": "text"
      },
      "cell_type": "markdown",
      "source": [
        "**Train and validate the network.**\n",
        "\n"
      ]
    },
    {
      "metadata": {
        "id": "w17y-YNA98CJ",
        "colab_type": "code",
        "outputId": "09a89ace-b150-476f-d798-b680e0ad6216",
        "colab": {
          "base_uri": "https://localhost:8080/",
          "height": 527
        }
      },
      "cell_type": "code",
      "source": [
        "### Create the network, loss, and optimizer\n",
        "model = Classifier()\n",
        "\n",
        "### Define hyperparameters and metrics\n",
        "steps = 0\n",
        "epochs = 30\n",
        "criterion = nn.NLLLoss()\n",
        "optimizer = optim.Adam(model.parameters(), lr =0.005)\n",
        "train_losses, test_losses = [], [] \n",
        "\n",
        "### Train the network \n",
        "for e in range(epochs):\n",
        "    running_loss = 0\n",
        "    for images, labels in trainloader:\n",
        "    \n",
        "        optimizer.zero_grad()\n",
        "    \n",
        "        log_ps = model(images)\n",
        "        loss = criterion(log_ps, labels)\n",
        "        loss.backward()\n",
        "        optimizer.step()\n",
        "    \n",
        "        running_loss += loss.item()\n",
        "\n",
        "### Validate the network\n",
        "    else:\n",
        "        test_loss = 0\n",
        "        accuracy = 0\n",
        "        \n",
        "        with torch.no_grad():\n",
        "            model.eval()\n",
        "            for images, labels in testloader:\n",
        "                log_ps = model(images)\n",
        "                test_loss += criterion(log_ps, labels)\n",
        "      \n",
        "                ps = torch.exp(log_ps)\n",
        "                top_p, top_class = ps.topk(1, dim=1)\n",
        "                equals = top_class == labels.view(*top_class.shape)\n",
        "                accuracy += torch.mean(equals.type(torch.FloatTensor))\n",
        "      \n",
        "        model.train()\n",
        "        \n",
        "        train_losses.append(running_loss/len(trainloader))\n",
        "        test_losses.append(test_loss/len(testloader))\n",
        "  \n",
        "        print(\"Epoch: {}/{}.. \".format(e+1, epochs),  \n",
        "              \"Training loss: {:.3f}.. \".format(train_losses[-1]),\n",
        "              \"Test_loss: {:.3f}.. \".format(test_losses[-1]),\n",
        "              \"Accuracy: {:.3f}.. \".format(accuracy/len(testloader)))   "
      ],
      "execution_count": 102,
      "outputs": [
        {
          "output_type": "stream",
          "text": [
            "Epoch: 1/30..  Training loss: 0.641..  Test_loss: 0.522..  Accuracy: 0.818.. \n",
            "Epoch: 2/30..  Training loss: 0.550..  Test_loss: 0.513..  Accuracy: 0.821.. \n",
            "Epoch: 3/30..  Training loss: 0.517..  Test_loss: 0.491..  Accuracy: 0.821.. \n",
            "Epoch: 4/30..  Training loss: 0.509..  Test_loss: 0.452..  Accuracy: 0.844.. \n",
            "Epoch: 5/30..  Training loss: 0.502..  Test_loss: 0.433..  Accuracy: 0.844.. \n",
            "Epoch: 6/30..  Training loss: 0.491..  Test_loss: 0.484..  Accuracy: 0.830.. \n",
            "Epoch: 7/30..  Training loss: 0.487..  Test_loss: 0.461..  Accuracy: 0.838.. \n",
            "Epoch: 8/30..  Training loss: 0.483..  Test_loss: 0.433..  Accuracy: 0.850.. \n",
            "Epoch: 9/30..  Training loss: 0.485..  Test_loss: 0.441..  Accuracy: 0.849.. \n",
            "Epoch: 10/30..  Training loss: 0.475..  Test_loss: 0.438..  Accuracy: 0.848.. \n",
            "Epoch: 11/30..  Training loss: 0.475..  Test_loss: 0.451..  Accuracy: 0.848.. \n",
            "Epoch: 12/30..  Training loss: 0.476..  Test_loss: 0.456..  Accuracy: 0.846.. \n",
            "Epoch: 13/30..  Training loss: 0.467..  Test_loss: 0.428..  Accuracy: 0.853.. \n",
            "Epoch: 14/30..  Training loss: 0.489..  Test_loss: 0.453..  Accuracy: 0.846.. \n",
            "Epoch: 15/30..  Training loss: 0.474..  Test_loss: 0.442..  Accuracy: 0.850.. \n",
            "Epoch: 16/30..  Training loss: 0.462..  Test_loss: 0.436..  Accuracy: 0.848.. \n",
            "Epoch: 17/30..  Training loss: 0.462..  Test_loss: 0.437..  Accuracy: 0.853.. \n",
            "Epoch: 18/30..  Training loss: 0.463..  Test_loss: 0.451..  Accuracy: 0.853.. \n",
            "Epoch: 19/30..  Training loss: 0.463..  Test_loss: 0.437..  Accuracy: 0.853.. \n",
            "Epoch: 20/30..  Training loss: 0.479..  Test_loss: 0.465..  Accuracy: 0.847.. \n",
            "Epoch: 21/30..  Training loss: 0.455..  Test_loss: 0.428..  Accuracy: 0.858.. \n",
            "Epoch: 22/30..  Training loss: 0.457..  Test_loss: 0.442..  Accuracy: 0.857.. \n",
            "Epoch: 23/30..  Training loss: 0.446..  Test_loss: 0.452..  Accuracy: 0.848.. \n",
            "Epoch: 24/30..  Training loss: 0.459..  Test_loss: 0.420..  Accuracy: 0.858.. \n",
            "Epoch: 25/30..  Training loss: 0.455..  Test_loss: 0.446..  Accuracy: 0.854.. \n",
            "Epoch: 26/30..  Training loss: 0.454..  Test_loss: 0.440..  Accuracy: 0.856.. \n",
            "Epoch: 27/30..  Training loss: 0.463..  Test_loss: 0.441..  Accuracy: 0.855.. \n",
            "Epoch: 28/30..  Training loss: 0.451..  Test_loss: 0.425..  Accuracy: 0.860.. \n",
            "Epoch: 29/30..  Training loss: 0.435..  Test_loss: 0.439..  Accuracy: 0.858.. \n",
            "Epoch: 30/30..  Training loss: 0.454..  Test_loss: 0.454..  Accuracy: 0.847.. \n"
          ],
          "name": "stdout"
        }
      ]
    },
    {
      "metadata": {
        "id": "yYtG5B6ek066",
        "colab_type": "code",
        "colab": {
          "base_uri": "https://localhost:8080/",
          "height": 365
        },
        "outputId": "9fbe659e-fdb8-487a-8350-bf9bacee117c"
      },
      "cell_type": "code",
      "source": [
        "### Plot the losses\n",
        "plt.plot(train_losses, label='Training loss')\n",
        "plt.plot(test_losses, label='Validation loss')\n",
        "plt.legend(frameon=False) "
      ],
      "execution_count": 103,
      "outputs": [
        {
          "output_type": "execute_result",
          "data": {
            "text/plain": [
              "<matplotlib.legend.Legend at 0x7f049947d208>"
            ]
          },
          "metadata": {
            "tags": []
          },
          "execution_count": 103
        },
        {
          "output_type": "display_data",
          "data": {
            "image/png": "[encoded data removed]",
            "text/plain": [
              "<matplotlib.figure.Figure at 0x7f04992169b0>"
            ]
          },
          "metadata": {
            "tags": []
          }
        }
      ]
    },
    {
      "metadata": {
        "id": "RsX8Tr0eBM1B",
        "colab_type": "code",
        "outputId": "c0f1a3c9-cde3-4799-d658-f3ef90433053",
        "colab": {
          "base_uri": "https://localhost:8080/",
          "height": 306
        }
      },
      "cell_type": "code",
      "source": [
        "### View an image and its predicted class\n",
        "model.eval()\n",
        "dataiter = iter(testloader)\n",
        "images, labels = dataiter.next()\n",
        "img = images[0]\n",
        "#img = images\n",
        "\n",
        "### Convert 2D image to 1D vector\n",
        "img = img.view(1, 784)\n",
        "\n",
        "### Calculate class probabilities for the image\n",
        "with torch.no_grad():\n",
        "    output = model.forward(img)\n",
        "ps = torch.exp(output) \n",
        "print(\"Shape of the class probabilities: \", ps.shape)\n",
        "print('')\n",
        "print(ps)\n",
        "print('')\n",
        "\n",
        "### Plot the image and its probabilities\n",
        "view_classify(img.view(1, 28, 28), ps, version='Fashion') "
      ],
      "execution_count": 104,
      "outputs": [
        {
          "output_type": "stream",
          "text": [
            "Shape of the class probabilities:  torch.Size([1, 10])\n",
            "\n",
            "tensor([[2.2659e-01, 3.9417e-02, 1.1242e-03, 7.1560e-01, 4.0206e-04, 5.1847e-05,\n",
            "         1.3929e-02, 6.6271e-06, 2.8670e-03, 1.1707e-05]])\n",
            "\n"
          ],
          "name": "stdout"
        },
        {
          "output_type": "display_data",
          "data": {
            "image/png": "[encoded data removed]",
            "text/plain": [
              "<matplotlib.figure.Figure at 0x7f049918f438>"
            ]
          },
          "metadata": {
            "tags": []
          }
        }
      ]
    }
  ]
}