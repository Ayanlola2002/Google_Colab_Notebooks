{
  "nbformat": 4,
  "nbformat_minor": 0,
  "metadata": {
    "colab": {
      "name": "Single layer neural network in Pytorch.ipynb",
      "version": "0.3.2",
      "provenance": [],
      "collapsed_sections": [],
      "include_colab_link": true
    },
    "kernelspec": {
      "name": "python3",
      "display_name": "Python 3"
    },
    "accelerator": "GPU"
  },
  "cells": [
    {
      "cell_type": "markdown",
      "metadata": {
        "id": "view-in-github",
        "colab_type": "text"
      },
      "source": [
        "<a href=\"https://colab.research.google.com/github/paulgureghian/Google_Colab_Notebooks/blob/master/Single_layer_neural_network_in_Pytorch.ipynb\" target=\"_parent\"><img src=\"https://colab.research.google.com/assets/colab-badge.svg\" alt=\"Open In Colab\"/></a>"
      ]
    },
    {
      "metadata": {
        "id": "wKZAFxEwphlp",
        "colab_type": "text"
      },
      "cell_type": "markdown",
      "source": [
        "** Created by Paul A. Gureghian on 11/19/18.**  \n",
        "** This notebook contains the code for a single layer neural network in Pytorch.**\n"
      ]
    },
    {
      "metadata": {
        "id": "R2cjd2Im2CzI",
        "colab_type": "code",
        "outputId": "29e5d142-e31e-4e39-a991-4bc6a3c25ad0",
        "colab": {
          "base_uri": "https://localhost:8080/",
          "height": 54
        }
      },
      "cell_type": "code",
      "source": [
        "### install pytorch and torchvision\n",
        "!pip3 install -U -q http://download.pytorch.org/whl/cu92/torch-0.4.1-cp36-cp36m-linux_x86_64.whl\n",
        "!pip3 install -U -q torchvision "
      ],
      "execution_count": 174,
      "outputs": [
        {
          "output_type": "stream",
          "text": [
            "tcmalloc: large alloc 1073750016 bytes == 0x5766a000 @  0x7f1156d972a4 0x591a07 0x5b5d56 0x502e9a 0x506859 0x502209 0x502f3d 0x506859 0x504c28 0x502540 0x502f3d 0x506859 0x504c28 0x502540 0x502f3d 0x506859 0x504c28 0x502540 0x502f3d 0x507641 0x502209 0x502f3d 0x506859 0x504c28 0x502540 0x502f3d 0x507641 0x504c28 0x502540 0x502f3d 0x507641\n"
          ],
          "name": "stdout"
        }
      ]
    },
    {
      "metadata": {
        "id": "g-boidbfD56H",
        "colab_type": "code",
        "colab": {}
      },
      "cell_type": "code",
      "source": [
        "### import packages \n",
        "import torch \n",
        "import numpy as np\n",
        "import torchvision"
      ],
      "execution_count": 0,
      "outputs": []
    },
    {
      "metadata": {
        "id": "rQFamqq9fRJA",
        "colab_type": "code",
        "colab": {}
      },
      "cell_type": "code",
      "source": [
        "### define activation function\n",
        "def activation(x):\n",
        "    return 1 /  (1 + torch.exp(-x)) "
      ],
      "execution_count": 0,
      "outputs": []
    },
    {
      "metadata": {
        "id": "dWVS8j7Y0CoB",
        "colab_type": "code",
        "colab": {}
      },
      "cell_type": "code",
      "source": [
        "### generate some data \n",
        "torch.manual_seed(7)\n",
        "features = torch.randn((1, 3))\n",
        "weights = torch.randn_like(features)\n",
        "bias = torch.randn((1, 1))"
      ],
      "execution_count": 0,
      "outputs": []
    },
    {
      "metadata": {
        "id": "LJrW-qpV3YMD",
        "colab_type": "code",
        "colab": {
          "base_uri": "https://localhost:8080/",
          "height": 34
        },
        "outputId": "8648847e-b340-41b3-950d-8718ed72554d"
      },
      "cell_type": "code",
      "source": [
        "### make labels for the data and weights \n",
        "y = activation(torch.sum(features * weights) + bias)\n",
        "print(y) \n",
        "### or \n",
        "### y = activation((weights * features).sum() +  bias) "
      ],
      "execution_count": 178,
      "outputs": [
        {
          "output_type": "stream",
          "text": [
            "tensor([[0.5720]])\n"
          ],
          "name": "stdout"
        }
      ]
    },
    {
      "metadata": {
        "id": "yQVsLH_k7Wg5",
        "colab_type": "code",
        "colab": {
          "base_uri": "https://localhost:8080/",
          "height": 34
        },
        "outputId": "57e5a943-9ff9-416d-d336-1ebb2888bf7a"
      },
      "cell_type": "code",
      "source": [
        "### calculate the output of the network with matrix multiplication\n",
        "y = activation(torch.mm(features, weights.view(3,1)) + bias)  \n",
        "print(y) "
      ],
      "execution_count": 179,
      "outputs": [
        {
          "output_type": "stream",
          "text": [
            "tensor([[0.5720]])\n"
          ],
          "name": "stdout"
        }
      ]
    },
    {
      "metadata": {
        "id": "6XrqC27KBZ7y",
        "colab_type": "code",
        "colab": {}
      },
      "cell_type": "code",
      "source": [
        "### define the size of each layer in the network\n",
        "n_input = features.shape[1]\n",
        "n_hidden = 2\n",
        "n_output = 1"
      ],
      "execution_count": 0,
      "outputs": []
    },
    {
      "metadata": {
        "id": "T5hvSZmnHosY",
        "colab_type": "code",
        "colab": {}
      },
      "cell_type": "code",
      "source": [
        "### weights for inputs to hidden layer\n",
        "W1 = torch.randn((n_input, n_hidden)) \n",
        "### weights for hidden layer to output layer\n",
        "W2 = torch.randn((n_hidden, n_output))  "
      ],
      "execution_count": 0,
      "outputs": []
    },
    {
      "metadata": {
        "id": "GfJBqCdTJ6x2",
        "colab_type": "code",
        "colab": {}
      },
      "cell_type": "code",
      "source": [
        "### bias terms for hidden and output layers \n",
        "B1 = torch.randn((1, n_hidden))\n",
        "B2 = torch.randn((1, n_output))   "
      ],
      "execution_count": 0,
      "outputs": []
    },
    {
      "metadata": {
        "id": "etuTwd2dKs-t",
        "colab_type": "code",
        "outputId": "e756bdd6-1e1e-486b-bb98-09fbe3482704",
        "colab": {
          "base_uri": "https://localhost:8080/",
          "height": 34
        }
      },
      "cell_type": "code",
      "source": [
        "### calculate the network output \n",
        "h = activation(torch.mm(features, W1) + B1)\n",
        "output = activation(torch.mm(h, W2) + B2) \n",
        "print(output) "
      ],
      "execution_count": 183,
      "outputs": [
        {
          "output_type": "stream",
          "text": [
            "tensor([[0.8371]])\n"
          ],
          "name": "stdout"
        }
      ]
    },
    {
      "metadata": {
        "id": "DolF9hUCDXom",
        "colab_type": "code",
        "colab": {
          "base_uri": "https://localhost:8080/",
          "height": 2329
        },
        "outputId": "66330808-7bf3-4514-c588-7f6c5073081a"
      },
      "cell_type": "code",
      "source": [
        "!pip freeze"
      ],
      "execution_count": 184,
      "outputs": [
        {
          "output_type": "stream",
          "text": [
            "absl-py==0.6.1\n",
            "altair==2.2.2\n",
            "astor==0.7.1\n",
            "atomicwrites==1.2.1\n",
            "attrs==18.2.0\n",
            "beautifulsoup4==4.6.3\n",
            "bleach==3.0.2\n",
            "cachetools==3.0.0\n",
            "certifi==2018.10.15\n",
            "chardet==3.0.4\n",
            "crcmod==1.7\n",
            "cycler==0.10.0\n",
            "cymem==2.0.2\n",
            "cytoolz==0.9.0.1\n",
            "decorator==4.3.0\n",
            "defusedxml==0.5.0\n",
            "dill==0.2.8.2\n",
            "entrypoints==0.2.3\n",
            "future==0.16.0\n",
            "gast==0.2.0\n",
            "google-api-core==1.5.2\n",
            "google-api-python-client==1.6.7\n",
            "google-auth==1.4.2\n",
            "google-auth-httplib2==0.0.3\n",
            "google-auth-oauthlib==0.2.0\n",
            "google-cloud-bigquery==1.1.0\n",
            "google-cloud-core==0.28.1\n",
            "google-cloud-language==1.0.2\n",
            "google-cloud-storage==1.8.0\n",
            "google-cloud-translate==1.3.1\n",
            "google-colab==0.0.1a1\n",
            "google-resumable-media==0.3.1\n",
            "googleapis-common-protos==1.5.5\n",
            "grpcio==1.15.0\n",
            "h5py==2.8.0\n",
            "httplib2==0.11.3\n",
            "idna==2.6\n",
            "ipykernel==4.6.1\n",
            "ipython==5.5.0\n",
            "ipython-genutils==0.2.0\n",
            "Jinja2==2.10\n",
            "joblib==0.13.0\n",
            "jsonschema==2.6.0\n",
            "jupyter-client==5.2.3\n",
            "jupyter-core==4.4.0\n",
            "Keras==2.2.4\n",
            "Keras-Applications==1.0.6\n",
            "Keras-Preprocessing==1.0.5\n",
            "Markdown==3.0.1\n",
            "MarkupSafe==1.1.0\n",
            "matplotlib==2.1.2\n",
            "mistune==0.8.4\n",
            "more-itertools==4.3.0\n",
            "mpmath==1.0.0\n",
            "msgpack==0.5.6\n",
            "msgpack-numpy==0.4.3.2\n",
            "murmurhash==1.0.1\n",
            "nbconvert==5.4.0\n",
            "nbformat==4.4.0\n",
            "networkx==2.2\n",
            "nltk==3.2.5\n",
            "notebook==5.2.2\n",
            "numpy==1.14.6\n",
            "oauth2client==4.1.3\n",
            "oauthlib==2.1.0\n",
            "olefile==0.46\n",
            "opencv-python==3.4.3.18\n",
            "pandas==0.22.0\n",
            "pandas-gbq==0.4.1\n",
            "pandocfilters==1.4.2\n",
            "patsy==0.5.1\n",
            "pexpect==4.6.0\n",
            "pickleshare==0.7.5\n",
            "Pillow==5.3.0\n",
            "plac==0.9.6\n",
            "plotly==1.12.12\n",
            "pluggy==0.8.0\n",
            "portpicker==1.2.0\n",
            "preshed==2.0.1\n",
            "prompt-toolkit==1.0.15\n",
            "protobuf==3.6.1\n",
            "psutil==5.4.8\n",
            "ptyprocess==0.6.0\n",
            "py==1.7.0\n",
            "pyasn1==0.4.4\n",
            "pyasn1-modules==0.2.2\n",
            "Pygments==2.1.3\n",
            "pygobject==3.26.1\n",
            "pymc3==3.5\n",
            "pyparsing==2.3.0\n",
            "pystache==0.5.4\n",
            "pytest==3.10.1\n",
            "python-apt==1.6.3\n",
            "python-dateutil==2.5.3\n",
            "pytz==2018.7\n",
            "PyWavelets==1.0.1\n",
            "PyYAML==3.13\n",
            "pyzmq==17.0.0\n",
            "regex==2018.1.10\n",
            "requests==2.18.4\n",
            "requests-oauthlib==1.0.0\n",
            "rsa==4.0\n",
            "scikit-image==0.13.1\n",
            "scikit-learn==0.19.2\n",
            "scipy==1.1.0\n",
            "seaborn==0.7.1\n",
            "simplegeneric==0.8.1\n",
            "six==1.11.0\n",
            "spacy==2.0.16\n",
            "statsmodels==0.8.0\n",
            "sympy==1.1.1\n",
            "tensorboard==1.12.0\n",
            "tensorflow==1.12.0\n",
            "tensorflow-hub==0.1.1\n",
            "tensorflow-probability==0.5.0\n",
            "termcolor==1.1.0\n",
            "terminado==0.8.1\n",
            "testpath==0.4.2\n",
            "Theano==1.0.3\n",
            "thinc==6.12.0\n",
            "toolz==0.9.0\n",
            "torch==0.4.1\n",
            "torchvision==0.2.1\n",
            "tornado==4.5.3\n",
            "tqdm==4.28.1\n",
            "traitlets==4.3.2\n",
            "typing==3.6.6\n",
            "ujson==1.35\n",
            "uritemplate==3.0.0\n",
            "urllib3==1.22\n",
            "vega-datasets==0.5.0\n",
            "wcwidth==0.1.7\n",
            "webencodings==0.5.1\n",
            "Werkzeug==0.14.1\n",
            "wrapt==1.10.11\n",
            "xgboost==0.7.post4\n"
          ],
          "name": "stdout"
        }
      ]
    }
  ]
}