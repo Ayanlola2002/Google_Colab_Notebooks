{
  "nbformat": 4,
  "nbformat_minor": 0,
  "metadata": {
    "colab": {
      "name": "Simple RNN PyTorch.ipynb",
      "version": "0.3.2",
      "provenance": [],
      "collapsed_sections": [],
      "include_colab_link": true
    },
    "kernelspec": {
      "name": "python3",
      "display_name": "Python 3"
    },
    "accelerator": "GPU"
  },
  "cells": [
    {
      "cell_type": "markdown",
      "metadata": {
        "id": "view-in-github",
        "colab_type": "text"
      },
      "source": [
        "<a href=\"https://colab.research.google.com/github/paulgureghian/Google_Colab_Notebooks/blob/master/Simple_RNN_PyTorch.ipynb\" target=\"_parent\"><img src=\"https://colab.research.google.com/assets/colab-badge.svg\" alt=\"Open In Colab\"/></a>"
      ]
    },
    {
      "metadata": {
        "id": "299kFn972QIO",
        "colab_type": "text"
      },
      "cell_type": "markdown",
      "source": [
        "**Created by Paul A. Gureghian on 12/16/18.** "
      ]
    },
    {
      "metadata": {
        "id": "c53TGGEamACF",
        "colab_type": "text"
      },
      "cell_type": "markdown",
      "source": [
        "**Simple RNN in PyTorch.**\n",
        "\n",
        "**In ths notebook, I will train a simple RNN to do time-series prediction.** \n",
        "\n",
        "**Given some set of input data, it should be able to generate a prediction for the next time step.**\n",
        "\n",
        "\n",
        "* **First, I will create the data.**\n",
        "* **Then, define an RNN in PyTorch.**\n",
        "* **Finally, I will train my network and see how it performs.**"
      ]
    },
    {
      "metadata": {
        "id": "YWowVGZO2eQf",
        "colab_type": "code",
        "outputId": "49e1d211-ac49-4c42-f80a-f1e42717f3e7",
        "colab": {
          "base_uri": "https://localhost:8080/",
          "height": 34
        }
      },
      "cell_type": "code",
      "source": [
        "### Mount Google drive\n",
        "from google.colab import drive\n",
        "drive.mount('/content/drive')"
      ],
      "execution_count": 0,
      "outputs": [
        {
          "output_type": "stream",
          "text": [
            "Drive already mounted at /content/drive; to attempt to forcibly remount, call drive.mount(\"/content/drive\", force_remount=True).\n"
          ],
          "name": "stdout"
        }
      ]
    },
    {
      "metadata": {
        "id": "Y8TRsqz02imn",
        "colab_type": "code",
        "colab": {}
      },
      "cell_type": "code",
      "source": [
        "### Install PyTorch\n",
        "from os.path import exists\n",
        "from wheel.pep425tags import get_abbr_impl, get_impl_ver, get_abi_tag\n",
        "platform = '{}{}-{}'.format(get_abbr_impl(), get_impl_ver(), get_abi_tag())\n",
        "cuda_output = !ldconfig -p|grep cudart.so|sed -e 's/.*\\.\\([0-9]*\\)\\.\\([0-9]*\\)$/cu\\1\\2/'\n",
        "accelerator = cuda_output[0] if exists('/dev/nvidia0') else 'cpu'\n",
        "\n",
        "!pip install -q http://download.pytorch.org/whl/{accelerator}/torch-0.4.1-{platform}-linux_x86_64.whl torchvision"
      ],
      "execution_count": 0,
      "outputs": []
    },
    {
      "metadata": {
        "id": "CZd0NUIymACH",
        "colab_type": "text"
      },
      "cell_type": "markdown",
      "source": [
        "### Import resources and create data "
      ]
    },
    {
      "metadata": {
        "id": "JIiI7axomACJ",
        "colab_type": "code",
        "colab": {}
      },
      "cell_type": "code",
      "source": [
        "### Import packages\n",
        "import torch\n",
        "import numpy as np\n",
        "from torch import nn\n",
        "import matplotlib.pyplot as plt\n",
        "import matplotlib.image as mpimg\n",
        "%matplotlib inline"
      ],
      "execution_count": 0,
      "outputs": []
    },
    {
      "metadata": {
        "id": "ok3D3Euu5did",
        "colab_type": "code",
        "outputId": "ffd90ff9-1670-4ece-8a9e-27a5afcdff16",
        "colab": {
          "base_uri": "https://localhost:8080/",
          "height": 264
        }
      },
      "cell_type": "code",
      "source": [
        "### Time prediction image\n",
        "time_prediction = mpimg.imread(\"/content/drive/My Drive/Images/time_prediction.png\") \n",
        "plt.imshow(time_prediction)\n",
        "plt.grid(False)"
      ],
      "execution_count": 0,
      "outputs": [
        {
          "output_type": "display_data",
          "data": {
            "image/png": "[encoded data removed]",
            "text/plain": [
              "<matplotlib.figure.Figure at 0x7f5e779324a8>"
            ]
          },
          "metadata": {
            "tags": []
          }
        }
      ]
    },
    {
      "metadata": {
        "id": "0B02h7GqmACO",
        "colab_type": "code",
        "outputId": "cc265451-47c9-4b57-ad9e-31acf71b6b10",
        "colab": {
          "base_uri": "https://localhost:8080/",
          "height": 320
        }
      },
      "cell_type": "code",
      "source": [
        "### Create and plot the data\n",
        "plt.figure(figsize=(8,5))\n",
        "\n",
        "### How many time steps/data pts are in one batch of data\n",
        "seq_length = 20\n",
        "\n",
        "### Generate evenly spaced data pts\n",
        "time_steps = np.linspace(0, np.pi, seq_length + 1)\n",
        "data = np.sin(time_steps)\n",
        "data.resize((seq_length + 1, 1)) # size becomes (seq_length+1, 1), adds an input_size dimension\n",
        "\n",
        "x = data[:-1] # all but the last piece of data\n",
        "y = data[1:] # all but the first\n",
        "\n",
        "### Display the data\n",
        "plt.plot(time_steps[1:], x, 'r.', label='input, x') # x\n",
        "plt.plot(time_steps[1:], y, 'b.', label='target, y') # y\n",
        "\n",
        "plt.legend(loc='best')\n",
        "plt.show()"
      ],
      "execution_count": 0,
      "outputs": [
        {
          "output_type": "display_data",
          "data": {
            "image/png": "[encoded data removed]",
            "text/plain": [
              "<matplotlib.figure.Figure at 0x7f5e778c57b8>"
            ]
          },
          "metadata": {
            "tags": []
          }
        }
      ]
    },
    {
      "metadata": {
        "id": "ApYZ83IPmACS",
        "colab_type": "text"
      },
      "cell_type": "markdown",
      "source": [
        "---\n",
        "**Define the RNN.**\n",
        "\n",
        "**Next, I will define an RNN in PyTorch. I will use `nn.RNN` to create an RNN layer, then I will add a last, fully-connected layer to get the output size that I want.** \n",
        "\n",
        "**An RNN takes in a number of parameters:**\n",
        "\n",
        "* **input_size** - the size of the input\n",
        "* **hidden_dim** - the number of features in the RNN output and in the hidden state\n",
        "* **n_layers** - the number of layers that make up the RNN, typically 1-3; greater than 1 means that you'll create a stacked RNN\n",
        "* **batch_first** - whether or not the input/output of the RNN will have the batch_size as the first dimension (batch_size, seq_length, hidden_dim)"
      ]
    },
    {
      "metadata": {
        "id": "L5JrgtVimACU",
        "colab_type": "code",
        "colab": {}
      },
      "cell_type": "code",
      "source": [
        "### Define an RNN class with PyTorch\n",
        "class RNN(nn.Module):\n",
        "    def __init__(self, input_size, output_size, hidden_dim, n_layers):\n",
        "        super(RNN, self).__init__()\n",
        "        \n",
        "        self.hidden_dim=hidden_dim\n",
        "\n",
        "        ### Define RNN parameters\n",
        "        ### Batch_first means that the first dim of the input and output will be the batch_size\n",
        "        self.rnn = nn.RNN(input_size, hidden_dim, n_layers, batch_first=True)\n",
        "        \n",
        "        ### Last, fully-connected layer\n",
        "        self.fc = nn.Linear(hidden_dim, output_size)\n",
        "\n",
        "    def forward(self, x, hidden):\n",
        "        ### x (batch_size, seq_length, input_size)\n",
        "        ### Hidden (n_layers, batch_size, hidden_dim)\n",
        "        ### r_out (batch_size, time_step, hidden_size)\n",
        "        batch_size = x.size(0)\n",
        "        \n",
        "        ### Get RNN outputs\n",
        "        r_out, hidden = self.rnn(x, hidden)\n",
        "        \n",
        "        ### Shape output to be (batch_size*seq_length, hidden_dim)\n",
        "        r_out = r_out.view(-1, self.hidden_dim)  \n",
        "        \n",
        "        ### Get final output \n",
        "        output = self.fc(r_out)\n",
        "        \n",
        "        return output, hidden"
      ],
      "execution_count": 0,
      "outputs": []
    },
    {
      "metadata": {
        "id": "NFort7kCmACX",
        "colab_type": "text"
      },
      "cell_type": "markdown",
      "source": [
        "**Check the input and output dimensions.**\n",
        "\n",
        "**As a check that my model is working as expected, test out how it responds to input data.**"
      ]
    },
    {
      "metadata": {
        "id": "AGjv4eyjmACZ",
        "colab_type": "code",
        "outputId": "6779f7de-66ce-4d65-dfa4-027c5d2d1c3e",
        "colab": {
          "base_uri": "https://localhost:8080/",
          "height": 68
        }
      },
      "cell_type": "code",
      "source": [
        "### Test that dimensions are as expected\n",
        "test_rnn = RNN(input_size=1, output_size=1, hidden_dim=10, n_layers=2)\n",
        "\n",
        "### Generate evenly spaced, test data pts\n",
        "time_steps = np.linspace(0, np.pi, seq_length)\n",
        "data = np.sin(time_steps)\n",
        "data.resize((seq_length, 1))\n",
        "\n",
        "test_input = torch.Tensor(data).unsqueeze(0) # give it a batch_size of 1 as first dimension\n",
        "print('Input size: ', test_input.size())\n",
        "\n",
        "### Test out rnn sizes\n",
        "test_out, test_h = test_rnn(test_input, None)\n",
        "print('Output size: ', test_out.size())\n",
        "print('Hidden state size: ', test_h.size())"
      ],
      "execution_count": 0,
      "outputs": [
        {
          "output_type": "stream",
          "text": [
            "Input size:  torch.Size([1, 20, 1])\n",
            "Output size:  torch.Size([20, 1])\n",
            "Hidden state size:  torch.Size([2, 1, 10])\n"
          ],
          "name": "stdout"
        }
      ]
    },
    {
      "metadata": {
        "id": "IXzkcIgnmACd",
        "colab_type": "text"
      },
      "cell_type": "markdown",
      "source": [
        "**Training the RNN.**\n",
        "\n",
        "**Next, I will instantiate an RNN with some specified hyperparameters. Then train it over a series of steps, and see how it performs.**"
      ]
    },
    {
      "metadata": {
        "id": "10qDO5IUmACe",
        "colab_type": "code",
        "outputId": "04ac9f60-dfcb-48cf-9a69-119af1019f9e",
        "colab": {
          "base_uri": "https://localhost:8080/",
          "height": 85
        }
      },
      "cell_type": "code",
      "source": [
        "### Set the hyperparameters\n",
        "input_size=1 \n",
        "output_size=1\n",
        "hidden_dim=32\n",
        "n_layers=1\n",
        "\n",
        "### Instantiate an RNN\n",
        "rnn = RNN(input_size, output_size, hidden_dim, n_layers)\n",
        "print(rnn)"
      ],
      "execution_count": 0,
      "outputs": [
        {
          "output_type": "stream",
          "text": [
            "RNN(\n",
            "  (rnn): RNN(1, 32, batch_first=True)\n",
            "  (fc): Linear(in_features=32, out_features=1, bias=True)\n",
            ")\n"
          ],
          "name": "stdout"
        }
      ]
    },
    {
      "metadata": {
        "id": "5av0j9G2mACi",
        "colab_type": "text"
      },
      "cell_type": "markdown",
      "source": [
        "**Loss and Optimization.**\n",
        "\n",
        "**This is a regression problem: can I train an RNN to accurately predict the next data point, given a current data point?**\n",
        "\n",
        ">*  **The data points are coordinate values, so to compare a predicted and ground_truth point, I will use a regression loss: the mean squared error.**\n",
        "* **It's typical to use an Adam optimizer for recurrent models.**"
      ]
    },
    {
      "metadata": {
        "id": "TEBP1vMYmACj",
        "colab_type": "code",
        "colab": {}
      },
      "cell_type": "code",
      "source": [
        "### Define a loss function\n",
        "criterion = nn.MSELoss()\n",
        "\n",
        "### Define an optimizer\n",
        "optimizer = torch.optim.Adam(rnn.parameters(), lr=0.01) "
      ],
      "execution_count": 0,
      "outputs": []
    },
    {
      "metadata": {
        "id": "Dx8NQZ4kmACn",
        "colab_type": "text"
      },
      "cell_type": "markdown",
      "source": [
        "**Defining the training function.**\n",
        "\n",
        "**This function takes in an rnn, a number of steps to train for, and returns a trained rnn.** \n",
        "\n",
        "**This function is also responsible for displaying the loss and the predictions, every so often.**\n",
        "\n",
        "**Hidden State.**\n",
        "\n",
        "**Pay close attention to the hidden state, here:**\n",
        "* **Before looping over a batch of training data, the hidden state is initialized.**\n",
        "* **After a new hidden state is generated by the rnn, I get the latest hidden state, and use that as input to the rnn for the following steps.**"
      ]
    },
    {
      "metadata": {
        "id": "58bmoxpTmACo",
        "colab_type": "code",
        "colab": {}
      },
      "cell_type": "code",
      "source": [
        "### Training function\n",
        "def train(rnn, n_steps, print_every):\n",
        "    \n",
        "    ### Initialize the hidden state\n",
        "    hidden = None      \n",
        "    \n",
        "    for batch_i, step in enumerate(range(n_steps)):\n",
        "        ### Defining the training data \n",
        "        time_steps = np.linspace(step * np.pi, (step+1)*np.pi, seq_length + 1)\n",
        "        data = np.sin(time_steps)\n",
        "        data.resize((seq_length + 1, 1)) # input_size=1\n",
        "\n",
        "        x = data[:-1]\n",
        "        y = data[1:]\n",
        "        \n",
        "        ### Convert data into Tensors\n",
        "        x_tensor = torch.Tensor(x).unsqueeze(0) # unsqueeze gives a 1, batch_size dimension\n",
        "        y_tensor = torch.Tensor(y)\n",
        "\n",
        "        ### Outputs from the rnn\n",
        "        prediction, hidden = rnn(x_tensor, hidden)\n",
        "\n",
        "        ### Representing Memory ##\n",
        "        ### Make a new variable for hidden and detach the hidden state from its history\n",
        "        ### This way, I don't backpropagate through the entire history\n",
        "        hidden = hidden.data\n",
        "\n",
        "        ### Calculate the loss\n",
        "        loss = criterion(prediction, y_tensor)\n",
        "        \n",
        "        ### Zero the gradients\n",
        "        optimizer.zero_grad()\n",
        "        \n",
        "        ### Perform backprop and update weights\n",
        "        loss.backward()\n",
        "        optimizer.step()\n",
        "\n",
        "        ### Display the loss and predictions\n",
        "        if batch_i%print_every == 0:        \n",
        "            print('Loss: ', loss.item())\n",
        "            plt.plot(time_steps[1:], x, 'r.') # input\n",
        "            plt.plot(time_steps[1:], prediction.data.numpy().flatten(), 'b.') # predictions\n",
        "            plt.show()\n",
        "    \n",
        "    return rnn"
      ],
      "execution_count": 0,
      "outputs": []
    },
    {
      "metadata": {
        "id": "kTskr34LmACz",
        "colab_type": "code",
        "outputId": "21c78047-83eb-4b65-e36d-2908a101b21a",
        "colab": {
          "base_uri": "https://localhost:8080/",
          "height": 1342
        }
      },
      "cell_type": "code",
      "source": [
        "### Train the RNN model and monitor results\n",
        "n_steps = 75\n",
        "print_every = 15\n",
        "\n",
        "trained_rnn = train(rnn, n_steps, print_every)"
      ],
      "execution_count": 0,
      "outputs": [
        {
          "output_type": "stream",
          "text": [
            "Loss:  0.7177762985229492\n"
          ],
          "name": "stdout"
        },
        {
          "output_type": "display_data",
          "data": {
            "image/png": "[encoded data removed]",
            "text/plain": [
              "<matplotlib.figure.Figure at 0x7f5e77843438>"
            ]
          },
          "metadata": {
            "tags": []
          }
        },
        {
          "output_type": "stream",
          "text": [
            "Loss:  0.00943851564079523\n"
          ],
          "name": "stdout"
        },
        {
          "output_type": "display_data",
          "data": {
            "image/png": "[encoded data removed]",
            "text/plain": [
              "<matplotlib.figure.Figure at 0x7f5e777ad4a8>"
            ]
          },
          "metadata": {
            "tags": []
          }
        },
        {
          "output_type": "stream",
          "text": [
            "Loss:  0.001342865522019565\n"
          ],
          "name": "stdout"
        },
        {
          "output_type": "display_data",
          "data": {
            "image/png": "[encoded data removed]",
            "text/plain": [
              "<matplotlib.figure.Figure at 0x7f5e777674a8>"
            ]
          },
          "metadata": {
            "tags": []
          }
        },
        {
          "output_type": "stream",
          "text": [
            "Loss:  0.0007128288852982223\n"
          ],
          "name": "stdout"
        },
        {
          "output_type": "display_data",
          "data": {
            "image/png": "[encoded data removed]",
            "text/plain": [
              "<matplotlib.figure.Figure at 0x7f5e777a1198>"
            ]
          },
          "metadata": {
            "tags": []
          }
        },
        {
          "output_type": "stream",
          "text": [
            "Loss:  0.00012177378812339157\n"
          ],
          "name": "stdout"
        },
        {
          "output_type": "display_data",
          "data": {
            "image/png": "[encoded data removed]",
            "text/plain": [
              "<matplotlib.figure.Figure at 0x7f5e7770ddd8>"
            ]
          },
          "metadata": {
            "tags": []
          }
        }
      ]
    },
    {
      "metadata": {
        "id": "UsGi8EXXmAC3",
        "colab_type": "text"
      },
      "cell_type": "markdown",
      "source": [
        "### Time-Series Prediction\n",
        "\n",
        "Time-series prediction can be applied to many tasks. Think about weather forecasting or predicting the ebb and flow of stock market prices. You can even try to generate predictions much further in the future than just one time step!"
      ]
    },
    {
      "metadata": {
        "id": "x24r-me2mAC5",
        "colab_type": "code",
        "colab": {}
      },
      "cell_type": "code",
      "source": [
        ""
      ],
      "execution_count": 0,
      "outputs": []
    }
  ]
}