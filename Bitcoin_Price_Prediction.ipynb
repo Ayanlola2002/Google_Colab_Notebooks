{
  "nbformat": 4,
  "nbformat_minor": 0,
  "metadata": {
    "colab": {
      "name": "Bitcoin Price Prediction.ipynb",
      "version": "0.3.2",
      "provenance": [],
      "collapsed_sections": [],
      "include_colab_link": true
    },
    "kernelspec": {
      "name": "python3",
      "display_name": "Python 3"
    }
  },
  "cells": [
    {
      "cell_type": "markdown",
      "metadata": {
        "id": "view-in-github",
        "colab_type": "text"
      },
      "source": [
        "[View in Colaboratory](https://colab.research.google.com/github/paulgureghian/Google_Colab_Notebooks/blob/master/Bitcoin_Price_Prediction.ipynb)"
      ]
    },
    {
      "metadata": {
        "id": "YRMRRLse647F",
        "colab_type": "text"
      },
      "cell_type": "markdown",
      "source": [
        "**Click \"File\" > \"Save a copy in Drive\", then press \"Runtime\" > \"Run all\", in the copy.**"
      ]
    },
    {
      "metadata": {
        "id": "4QOK6-txWk-S",
        "colab_type": "text"
      },
      "cell_type": "markdown",
      "source": [
        "**Created by Paul A. Gureghian on 9/26/2018.** \n",
        "\n",
        "**This Python script uses Keras to predict Bitcoin prices.**\n",
        "\n",
        "**I picked a Recurrent Neural Network and a Bitcoin dataset.**"
      ]
    },
    {
      "metadata": {
        "id": "68Qtb-rdj_Zt",
        "colab_type": "code",
        "colab": {}
      },
      "cell_type": "code",
      "source": [
        "### install pydrive \n",
        "!pip install -U -q Pydrive "
      ],
      "execution_count": 0,
      "outputs": []
    },
    {
      "metadata": {
        "id": "eZU11Sf2X01s",
        "colab_type": "code",
        "colab": {}
      },
      "cell_type": "code",
      "source": [
        "### import packages \n",
        "import numpy as np \n",
        "import pandas as pd \n",
        "from matplotlib import pyplot as plt \n",
        "\n",
        "from keras.layers import LSTM\n",
        "from keras.layers import Dense\n",
        "from keras.models import Sequential\n",
        "\n",
        "from sklearn.preprocessing import MinMaxScaler\n",
        "\n",
        "from google.colab import auth\n",
        "from pydrive.auth import GoogleAuth\n",
        "from pydrive.drive import GoogleDrive  \n",
        "from oauth2client.client import GoogleCredentials"
      ],
      "execution_count": 0,
      "outputs": []
    },
    {
      "metadata": {
        "id": "ELIzMbqSYEye",
        "colab_type": "code",
        "colab": {}
      },
      "cell_type": "code",
      "source": [
        "### **Click on the link, login to your google account, copy the verification code, paste the code into the box, hit enter** ###  \n",
        "\n",
        "### instantiate the pydrive client \n",
        "auth.authenticate_user()\n",
        "gauth = GoogleAuth() \n",
        "gauth.credentials = GoogleCredentials.get_application_default() \n",
        "drive = GoogleDrive(gauth)   "
      ],
      "execution_count": 0,
      "outputs": []
    },
    {
      "metadata": {
        "id": "ZAbBsqcY4d9Q",
        "colab_type": "code",
        "colab": {
          "base_uri": "https://localhost:8080/",
          "height": 34
        },
        "outputId": "a053457d-ea20-439d-faa6-e5b4ae739a42"
      },
      "cell_type": "code",
      "source": [
        "### get a list of the csv files and their IDs used in this demo\n",
        "file_list = drive.ListFile({'q' : \"'1GC3wKpqR1QP1B25JStHzI996bEgMgIJL' in parents and trashed=false\"}).GetList()\n",
        "for file1 in file_list:\n",
        "    \n",
        "    print('title: %s, id: %s' % (file1['title'], file1['id']))       "
      ],
      "execution_count": 54,
      "outputs": [
        {
          "output_type": "stream",
          "text": [
            "title: bitstamp.csv, id: 1YYtQOjmVxlTYG5FfqZBsY8CFExk3BMB6\n"
          ],
          "name": "stdout"
        }
      ]
    },
    {
      "metadata": {
        "id": "8ODhIjCM8o7D",
        "colab_type": "code",
        "colab": {
          "base_uri": "https://localhost:8080/",
          "height": 34
        },
        "outputId": "61257279-c868-4873-ca2e-da894fc924de"
      },
      "cell_type": "code",
      "source": [
        "### pull the files into Google Colab, save the files in the notebook, and set the file names\n",
        "bitstamp_downloaded = drive.CreateFile({'id' : '1YYtQOjmVxlTYG5FfqZBsY8CFExk3BMB6'})\n",
        "bitstamp_downloaded.GetContentFile('bitstamp.csv')\n",
        "\n",
        "print(\"File successfully imported.\") "
      ],
      "execution_count": 55,
      "outputs": [
        {
          "output_type": "stream",
          "text": [
            "File successfully imported.\n"
          ],
          "name": "stdout"
        }
      ]
    },
    {
      "metadata": {
        "id": "27gI5R2C4qlD",
        "colab_type": "code",
        "colab": {
          "base_uri": "https://localhost:8080/",
          "height": 170
        },
        "outputId": "9409504d-545d-4f2d-ad82-97f07472d688"
      },
      "cell_type": "code",
      "source": [
        "### read in the dataset to a dataframe \n",
        "pd.set_option('display.max_columns', 8)\n",
        "pd.set_option('display.width', 1000)\n",
        "df = pd.read_csv('bitstamp.csv')\n",
        "\n",
        "print(df.head())\n",
        "print('')\n",
        "print(df.shape) \n",
        "print('') "
      ],
      "execution_count": 56,
      "outputs": [
        {
          "output_type": "stream",
          "text": [
            "    Timestamp  Open  High   Low  Close  Volume_(BTC)  Volume_(Currency)  Weighted_Price\n",
            "0  1325317920  4.39  4.39  4.39   4.39      0.455581                2.0            4.39\n",
            "1  1325317980  4.39  4.39  4.39   4.39      0.455581                2.0            4.39\n",
            "2  1325318040  4.39  4.39  4.39   4.39      0.455581                2.0            4.39\n",
            "3  1325318100  4.39  4.39  4.39   4.39      0.455581                2.0            4.39\n",
            "4  1325318160  4.39  4.39  4.39   4.39      0.455581                2.0            4.39\n",
            "\n",
            "(3405857, 8)\n",
            "\n"
          ],
          "name": "stdout"
        }
      ]
    },
    {
      "metadata": {
        "id": "xttY1Jjp421I",
        "colab_type": "code",
        "colab": {
          "base_uri": "https://localhost:8080/",
          "height": 187
        },
        "outputId": "e3aa627f-3004-4614-831b-08c458e9aed4"
      },
      "cell_type": "code",
      "source": [
        "### encode the date \n",
        "df['date'] = pd.to_datetime(df['Timestamp'], unit ='s').dt.date\n",
        "group = df.groupby('date')\n",
        "Real_Price = group['Weighted_Price'].mean()\n",
        "\n",
        "print(Real_Price.head())\n",
        "print('') \n",
        "print(Real_Price.shape)  \n",
        "print('')"
      ],
      "execution_count": 57,
      "outputs": [
        {
          "output_type": "stream",
          "text": [
            "date\n",
            "2011-12-31    4.472579\n",
            "2012-01-01    4.680778\n",
            "2012-01-02    5.000000\n",
            "2012-01-03    5.145917\n",
            "2012-01-04    5.195443\n",
            "Name: Weighted_Price, dtype: float64\n",
            "\n",
            "(2368,)\n",
            "\n"
          ],
          "name": "stdout"
        }
      ]
    },
    {
      "metadata": {
        "id": "_yUIW35p49jW",
        "colab_type": "code",
        "colab": {
          "base_uri": "https://localhost:8080/",
          "height": 357
        },
        "outputId": "676cfb8f-f6d3-4bc2-9673-4961387d9873"
      },
      "cell_type": "code",
      "source": [
        "### split dataset into train and test sets \n",
        "prediction_days = 30 \n",
        "df_train = Real_Price[:len(Real_Price) - prediction_days]\n",
        "df_test = Real_Price[len(Real_Price) - prediction_days:]\n",
        "\n",
        "print(df_train.head())\n",
        "print('')\n",
        "print(df_train.shape)\n",
        "print('')\n",
        "print(df_test.head())\n",
        "print('')\n",
        "print(df_test.shape)\n",
        "print('')"
      ],
      "execution_count": 58,
      "outputs": [
        {
          "output_type": "stream",
          "text": [
            "date\n",
            "2011-12-31    4.472579\n",
            "2012-01-01    4.680778\n",
            "2012-01-02    5.000000\n",
            "2012-01-03    5.145917\n",
            "2012-01-04    5.195443\n",
            "Name: Weighted_Price, dtype: float64\n",
            "\n",
            "(2338,)\n",
            "\n",
            "date\n",
            "2018-05-29    7292.843307\n",
            "2018-05-30    7432.153648\n",
            "2018-05-31    7499.828363\n",
            "2018-06-01    7480.738075\n",
            "2018-06-02    7596.898291\n",
            "Name: Weighted_Price, dtype: float64\n",
            "\n",
            "(30,)\n",
            "\n"
          ],
          "name": "stdout"
        }
      ]
    },
    {
      "metadata": {
        "id": "AdKnQQxg5Cxo",
        "colab_type": "code",
        "colab": {
          "base_uri": "https://localhost:8080/",
          "height": 221
        },
        "outputId": "fd581f32-bba5-484d-f62e-af38794bc8c5"
      },
      "cell_type": "code",
      "source": [
        "### preprocess the data by reshaping it \n",
        "training_set = df_train.values \n",
        "training_set = np.reshape(training_set, (len(training_set),1))\n",
        "\n",
        "print(\"Training set after reshaping:\")\n",
        "print('')\n",
        "print(training_set)\n",
        "print('')\n",
        "print(training_set.shape)\n",
        "print('')"
      ],
      "execution_count": 59,
      "outputs": [
        {
          "output_type": "stream",
          "text": [
            "Training set after reshaping:\n",
            "\n",
            "[[4.47257894e+00]\n",
            " [4.68077778e+00]\n",
            " [5.00000000e+00]\n",
            " ...\n",
            " [7.48973292e+03]\n",
            " [7.31683633e+03]\n",
            " [7.25498905e+03]]\n",
            "\n",
            "(2338, 1)\n",
            "\n"
          ],
          "name": "stdout"
        }
      ]
    },
    {
      "metadata": {
        "id": "RcaaATWc5IYg",
        "colab_type": "code",
        "colab": {
          "base_uri": "https://localhost:8080/",
          "height": 986
        },
        "outputId": "acab22df-2a57-4070-eb91-90b17ff492df"
      },
      "cell_type": "code",
      "source": [
        "### preprocess the data by scaling it \n",
        "sc = MinMaxScaler() \n",
        "training_set = sc.fit_transform(training_set) \n",
        "X_train = training_set[0 : len(training_set) -1]\n",
        "y_train = training_set[1 : len(training_set)]\n",
        "X_train = np.reshape(X_train, (len(X_train),1, 1)) \n",
        "                       \n",
        "print(\"Scaled training set:\")\n",
        "print('')\n",
        "print(training_set)\n",
        "print('')\n",
        "print(\"Define X_train\")\n",
        "print('')\n",
        "print(X_train)\n",
        "print('')\n",
        "print(X_train.shape)\n",
        "print(\"Define y_train:\")\n",
        "print('')\n",
        "print(y_train)\n",
        "print('')\n",
        "print(y_train.shape)\n",
        "print('')\n",
        "print(\"X_train reshaped:\")\n",
        "print('')\n",
        "print(X_train) \n",
        "print('') \n",
        "print(X_train.shape)\n",
        "print('')"
      ],
      "execution_count": 60,
      "outputs": [
        {
          "output_type": "stream",
          "text": [
            "Scaled training set:\n",
            "\n",
            "[[7.49021754e-06]\n",
            " [1.83441728e-05]\n",
            " [3.49860700e-05]\n",
            " ...\n",
            " [3.90233875e-01]\n",
            " [3.81220319e-01]\n",
            " [3.77996057e-01]]\n",
            "\n",
            "Define X_train\n",
            "\n",
            "[[[7.49021754e-06]]\n",
            "\n",
            " [[1.83441728e-05]]\n",
            "\n",
            " [[3.49860700e-05]]\n",
            "\n",
            " ...\n",
            "\n",
            " [[3.90047749e-01]]\n",
            "\n",
            " [[3.90233875e-01]]\n",
            "\n",
            " [[3.81220319e-01]]]\n",
            "\n",
            "(2337, 1, 1)\n",
            "Define y_train:\n",
            "\n",
            "[[1.83441728e-05]\n",
            " [3.49860700e-05]\n",
            " [4.25930911e-05]\n",
            " ...\n",
            " [3.90233875e-01]\n",
            " [3.81220319e-01]\n",
            " [3.77996057e-01]]\n",
            "\n",
            "(2337, 1)\n",
            "\n",
            "X_train reshaped:\n",
            "\n",
            "[[[7.49021754e-06]]\n",
            "\n",
            " [[1.83441728e-05]]\n",
            "\n",
            " [[3.49860700e-05]]\n",
            "\n",
            " ...\n",
            "\n",
            " [[3.90047749e-01]]\n",
            "\n",
            " [[3.90233875e-01]]\n",
            "\n",
            " [[3.81220319e-01]]]\n",
            "\n",
            "(2337, 1, 1)\n",
            "\n"
          ],
          "name": "stdout"
        }
      ]
    },
    {
      "metadata": {
        "id": "dwh8yAao5UNE",
        "colab_type": "code",
        "colab": {
          "base_uri": "https://localhost:8080/",
          "height": 3434
        },
        "outputId": "dafc3b20-f127-46c2-fa7a-f9a61aad679d"
      },
      "cell_type": "code",
      "source": [
        "### define the RNN model \n",
        "### instantiate the RNN model object \n",
        "regr = Sequential() \n",
        "\n",
        "### add the input and LSTM layers \n",
        "regr.add(LSTM(units =4, activation ='sigmoid', input_shape =(None, 1)))    \n",
        "\n",
        "### add the output layer\n",
        "regr.add(Dense(units =1))\n",
        "\n",
        "### compile the RNN \n",
        "regr.compile(optimizer = 'adam', loss = 'mean_squared_error')\n",
        "\n",
        "### fit the model on the training set \n",
        "regr.fit(X_train, y_train, batch_size =5, epochs =100)  "
      ],
      "execution_count": 61,
      "outputs": [
        {
          "output_type": "stream",
          "text": [
            "Epoch 1/100\n",
            "2337/2337 [==============================] - 2s 686us/step - loss: 0.0314\n",
            "Epoch 2/100\n",
            "2337/2337 [==============================] - 1s 397us/step - loss: 0.0212\n",
            "Epoch 3/100\n",
            "2337/2337 [==============================] - 1s 388us/step - loss: 0.0185\n",
            "Epoch 4/100\n",
            "2337/2337 [==============================] - 1s 390us/step - loss: 0.0155\n",
            "Epoch 5/100\n",
            "2337/2337 [==============================] - 1s 390us/step - loss: 0.0122\n",
            "Epoch 6/100\n",
            "2337/2337 [==============================] - 1s 419us/step - loss: 0.0086\n",
            "Epoch 7/100\n",
            "2337/2337 [==============================] - 1s 433us/step - loss: 0.0051\n",
            "Epoch 8/100\n",
            "2337/2337 [==============================] - 1s 433us/step - loss: 0.0025\n",
            "Epoch 9/100\n",
            "2337/2337 [==============================] - 1s 443us/step - loss: 9.0938e-04\n",
            "Epoch 10/100\n",
            "2337/2337 [==============================] - 1s 447us/step - loss: 2.6972e-04\n",
            "Epoch 11/100\n",
            "2337/2337 [==============================] - 1s 439us/step - loss: 1.0913e-04\n",
            "Epoch 12/100\n",
            "2337/2337 [==============================] - 1s 426us/step - loss: 8.5579e-05\n",
            "Epoch 13/100\n",
            "2337/2337 [==============================] - 1s 431us/step - loss: 8.3924e-05\n",
            "Epoch 14/100\n",
            "2337/2337 [==============================] - 1s 434us/step - loss: 8.3784e-05\n",
            "Epoch 15/100\n",
            "2337/2337 [==============================] - 1s 432us/step - loss: 8.4535e-05\n",
            "Epoch 16/100\n",
            "2337/2337 [==============================] - 1s 410us/step - loss: 8.5255e-05\n",
            "Epoch 17/100\n",
            "2337/2337 [==============================] - 1s 406us/step - loss: 8.5803e-05\n",
            "Epoch 18/100\n",
            "2337/2337 [==============================] - 1s 409us/step - loss: 8.5757e-05\n",
            "Epoch 19/100\n",
            "2337/2337 [==============================] - 1s 406us/step - loss: 8.7912e-05\n",
            "Epoch 20/100\n",
            "2337/2337 [==============================] - 1s 419us/step - loss: 8.6475e-05\n",
            "Epoch 21/100\n",
            "2337/2337 [==============================] - 1s 410us/step - loss: 8.7415e-05\n",
            "Epoch 22/100\n",
            "2337/2337 [==============================] - 1s 395us/step - loss: 8.5974e-05\n",
            "Epoch 23/100\n",
            "2337/2337 [==============================] - 1s 391us/step - loss: 8.4674e-05\n",
            "Epoch 24/100\n",
            "2337/2337 [==============================] - 1s 395us/step - loss: 8.7775e-05\n",
            "Epoch 25/100\n",
            "2337/2337 [==============================] - 1s 385us/step - loss: 8.7047e-05\n",
            "Epoch 26/100\n",
            "2337/2337 [==============================] - 1s 397us/step - loss: 8.6973e-05\n",
            "Epoch 27/100\n",
            "2337/2337 [==============================] - 1s 407us/step - loss: 8.7645e-05\n",
            "Epoch 28/100\n",
            "2337/2337 [==============================] - 1s 394us/step - loss: 8.5877e-05\n",
            "Epoch 29/100\n",
            "2337/2337 [==============================] - 1s 390us/step - loss: 8.5694e-05\n",
            "Epoch 30/100\n",
            "2337/2337 [==============================] - 1s 390us/step - loss: 8.6343e-05\n",
            "Epoch 31/100\n",
            "2337/2337 [==============================] - 1s 396us/step - loss: 8.6472e-05\n",
            "Epoch 32/100\n",
            "2337/2337 [==============================] - 1s 391us/step - loss: 8.6052e-05\n",
            "Epoch 33/100\n",
            "2337/2337 [==============================] - 1s 398us/step - loss: 8.6585e-05\n",
            "Epoch 34/100\n",
            "2337/2337 [==============================] - 1s 396us/step - loss: 8.7284e-05\n",
            "Epoch 35/100\n",
            "2337/2337 [==============================] - 1s 391us/step - loss: 8.6195e-05\n",
            "Epoch 36/100\n",
            "2337/2337 [==============================] - 1s 392us/step - loss: 8.6900e-05\n",
            "Epoch 37/100\n",
            "2337/2337 [==============================] - 1s 393us/step - loss: 8.5578e-05\n",
            "Epoch 38/100\n",
            "2337/2337 [==============================] - 1s 394us/step - loss: 8.4767e-05\n",
            "Epoch 39/100\n",
            "2337/2337 [==============================] - 1s 401us/step - loss: 8.7162e-05\n",
            "Epoch 40/100\n",
            "2337/2337 [==============================] - 1s 396us/step - loss: 8.6101e-05\n",
            "Epoch 41/100\n",
            "2337/2337 [==============================] - 1s 389us/step - loss: 8.3604e-05\n",
            "Epoch 42/100\n",
            "2337/2337 [==============================] - 1s 398us/step - loss: 8.7733e-05\n",
            "Epoch 43/100\n",
            "2337/2337 [==============================] - 1s 398us/step - loss: 8.5103e-05\n",
            "Epoch 44/100\n",
            "2337/2337 [==============================] - 1s 391us/step - loss: 8.6106e-05\n",
            "Epoch 45/100\n",
            "2337/2337 [==============================] - 1s 407us/step - loss: 8.7988e-05\n",
            "Epoch 46/100\n",
            "2337/2337 [==============================] - 1s 398us/step - loss: 8.7693e-05\n",
            "Epoch 47/100\n",
            "2337/2337 [==============================] - 1s 394us/step - loss: 8.6194e-05\n",
            "Epoch 48/100\n",
            "2337/2337 [==============================] - 1s 394us/step - loss: 8.8738e-05\n",
            "Epoch 49/100\n",
            "2337/2337 [==============================] - 1s 394us/step - loss: 8.7614e-05\n",
            "Epoch 50/100\n",
            "2337/2337 [==============================] - 1s 407us/step - loss: 8.5662e-05\n",
            "Epoch 51/100\n",
            "2337/2337 [==============================] - 1s 392us/step - loss: 8.4196e-05\n",
            "Epoch 52/100\n",
            "2337/2337 [==============================] - 1s 389us/step - loss: 8.8588e-05\n",
            "Epoch 53/100\n",
            "2337/2337 [==============================] - 1s 400us/step - loss: 8.5383e-05\n",
            "Epoch 54/100\n",
            "2337/2337 [==============================] - 1s 392us/step - loss: 8.7832e-05\n",
            "Epoch 55/100\n",
            "2337/2337 [==============================] - 1s 403us/step - loss: 8.6147e-05\n",
            "Epoch 56/100\n",
            "2337/2337 [==============================] - 1s 405us/step - loss: 8.6368e-05\n",
            "Epoch 57/100\n",
            "2337/2337 [==============================] - 1s 398us/step - loss: 8.5861e-05\n",
            "Epoch 58/100\n",
            "2337/2337 [==============================] - 1s 395us/step - loss: 8.4663e-05\n",
            "Epoch 59/100\n",
            "2337/2337 [==============================] - 1s 396us/step - loss: 8.7463e-05\n",
            "Epoch 60/100\n",
            "2337/2337 [==============================] - 1s 397us/step - loss: 8.7288e-05\n",
            "Epoch 61/100\n",
            "2337/2337 [==============================] - 1s 391us/step - loss: 8.7866e-05\n",
            "Epoch 62/100\n",
            "2337/2337 [==============================] - 1s 404us/step - loss: 8.6043e-05\n",
            "Epoch 63/100\n",
            "2337/2337 [==============================] - 1s 396us/step - loss: 8.6181e-05\n",
            "Epoch 64/100\n",
            "2337/2337 [==============================] - 1s 397us/step - loss: 8.6500e-05\n",
            "Epoch 65/100\n",
            "2337/2337 [==============================] - 1s 406us/step - loss: 8.5214e-05\n",
            "Epoch 66/100\n",
            "2337/2337 [==============================] - 1s 407us/step - loss: 8.8576e-05\n",
            "Epoch 67/100\n",
            "2337/2337 [==============================] - 1s 401us/step - loss: 8.5701e-05\n",
            "Epoch 68/100\n",
            "2337/2337 [==============================] - 1s 400us/step - loss: 8.6288e-05\n",
            "Epoch 69/100\n",
            "2337/2337 [==============================] - 1s 401us/step - loss: 8.6704e-05\n",
            "Epoch 70/100\n",
            "2337/2337 [==============================] - 1s 397us/step - loss: 8.5541e-05\n",
            "Epoch 71/100\n",
            "2337/2337 [==============================] - 1s 394us/step - loss: 8.6484e-05\n",
            "Epoch 72/100\n",
            "2337/2337 [==============================] - 1s 420us/step - loss: 8.3788e-05\n",
            "Epoch 73/100\n",
            "2337/2337 [==============================] - 1s 408us/step - loss: 8.6657e-05\n",
            "Epoch 74/100\n",
            "2337/2337 [==============================] - 1s 410us/step - loss: 8.4636e-05\n",
            "Epoch 75/100\n",
            "2337/2337 [==============================] - 1s 400us/step - loss: 8.6305e-05\n",
            "Epoch 76/100\n",
            "2337/2337 [==============================] - 1s 398us/step - loss: 8.7359e-05\n",
            "Epoch 77/100\n",
            "2337/2337 [==============================] - 1s 391us/step - loss: 8.6598e-05\n",
            "Epoch 78/100\n",
            "2337/2337 [==============================] - 1s 392us/step - loss: 8.6451e-05\n",
            "Epoch 79/100\n",
            "2337/2337 [==============================] - 1s 403us/step - loss: 8.7269e-05\n",
            "Epoch 80/100\n",
            "2337/2337 [==============================] - 1s 404us/step - loss: 8.5984e-05\n",
            "Epoch 81/100\n",
            "2337/2337 [==============================] - 1s 400us/step - loss: 8.1301e-05\n",
            "Epoch 82/100\n",
            "2337/2337 [==============================] - 1s 396us/step - loss: 8.6170e-05\n",
            "Epoch 83/100\n",
            "2337/2337 [==============================] - 1s 387us/step - loss: 8.8370e-05\n",
            "Epoch 84/100\n",
            "2337/2337 [==============================] - 1s 398us/step - loss: 8.6867e-05\n",
            "Epoch 85/100\n",
            "2337/2337 [==============================] - 1s 403us/step - loss: 8.6032e-05\n",
            "Epoch 86/100\n",
            "2337/2337 [==============================] - 1s 390us/step - loss: 8.6465e-05\n",
            "Epoch 87/100\n",
            "2337/2337 [==============================] - 1s 400us/step - loss: 8.2964e-05\n",
            "Epoch 88/100\n",
            "2337/2337 [==============================] - 1s 403us/step - loss: 8.8106e-05\n",
            "Epoch 89/100\n",
            "2337/2337 [==============================] - 1s 404us/step - loss: 8.7784e-05\n",
            "Epoch 90/100\n",
            "2337/2337 [==============================] - 1s 391us/step - loss: 8.5726e-05\n",
            "Epoch 91/100\n",
            "2337/2337 [==============================] - 1s 396us/step - loss: 8.5219e-05\n",
            "Epoch 92/100\n",
            "2337/2337 [==============================] - 1s 405us/step - loss: 8.7139e-05\n",
            "Epoch 93/100\n",
            "2337/2337 [==============================] - 1s 389us/step - loss: 8.7973e-05\n",
            "Epoch 94/100\n",
            "2337/2337 [==============================] - 1s 397us/step - loss: 8.5740e-05\n",
            "Epoch 95/100\n",
            "2337/2337 [==============================] - 1s 398us/step - loss: 8.6970e-05\n",
            "Epoch 96/100\n",
            "2337/2337 [==============================] - 1s 402us/step - loss: 8.6682e-05\n",
            "Epoch 97/100\n",
            "2337/2337 [==============================] - 1s 400us/step - loss: 8.5274e-05\n",
            "Epoch 98/100\n",
            "2337/2337 [==============================] - 1s 397us/step - loss: 8.5232e-05\n",
            "Epoch 99/100\n",
            "2337/2337 [==============================] - 1s 396us/step - loss: 8.7783e-05\n",
            "Epoch 100/100\n",
            "2337/2337 [==============================] - 1s 402us/step - loss: 8.6166e-05\n"
          ],
          "name": "stdout"
        },
        {
          "output_type": "execute_result",
          "data": {
            "text/plain": [
              "<keras.callbacks.History at 0x7f99daf83a90>"
            ]
          },
          "metadata": {
            "tags": []
          },
          "execution_count": 61
        }
      ]
    },
    {
      "metadata": {
        "id": "iNxy8aQB6YVQ",
        "colab_type": "code",
        "colab": {
          "base_uri": "https://localhost:8080/",
          "height": 4301
        },
        "outputId": "6b4def3c-f97e-42e4-a5e0-b7ef93548f5e"
      },
      "cell_type": "code",
      "source": [
        "### create predictions on the test set \n",
        "test_set = df_test.values\n",
        "inputs = np.reshape(test_set, (len(test_set), 1)) \n",
        "inputs = sc.transform(inputs)\n",
        "inputs = np.reshape(inputs, (len(inputs), 1, 1))\n",
        "predicted_BTC_price = regr.predict(inputs) \n",
        "predicted_BTC_price = sc.inverse_transform(predicted_BTC_price)\n",
        "\n",
        "print(\"Test set after reshaping:\")\n",
        "print('')\n",
        "print(inputs)\n",
        "print('')\n",
        "print(inputs.shape)\n",
        "print('')\n",
        "print(\"Scaled inputs:\")\n",
        "print('')\n",
        "print(inputs) \n",
        "print('')\n",
        "print(\"Reshaped inputs:\")\n",
        "print('')\n",
        "print(inputs)\n",
        "print('')\n",
        "print(inputs.shape)\n",
        "print('')\n",
        "print(\"Predicted BTC price: \", predicted_BTC_price)\n",
        "print('')\n",
        "print(\"Scaled predicted BTC price: \", predicted_BTC_price)\n",
        "print('')"
      ],
      "execution_count": 62,
      "outputs": [
        {
          "output_type": "stream",
          "text": [
            "Test set after reshaping:\n",
            "\n",
            "[[[0.3799695 ]]\n",
            "\n",
            " [[0.38723211]]\n",
            "\n",
            " [[0.39076018]]\n",
            "\n",
            " [[0.38976495]]\n",
            "\n",
            " [[0.39582069]]\n",
            "\n",
            " [[0.4006918 ]]\n",
            "\n",
            " [[0.39468285]]\n",
            "\n",
            " [[0.3903278 ]]\n",
            "\n",
            " [[0.396307  ]]\n",
            "\n",
            " [[0.40079757]]\n",
            "\n",
            " [[0.39751313]]\n",
            "\n",
            " [[0.39754439]]\n",
            "\n",
            " [[0.3716342 ]]\n",
            "\n",
            " [[0.35218174]]\n",
            "\n",
            " [[0.35186076]]\n",
            "\n",
            " [[0.33562138]]\n",
            "\n",
            " [[0.33868236]]\n",
            "\n",
            " [[0.34127403]]\n",
            "\n",
            " [[0.33667128]]\n",
            "\n",
            " [[0.33909474]]\n",
            "\n",
            " [[0.33982241]]\n",
            "\n",
            " [[0.34999305]]\n",
            "\n",
            " [[0.34805214]]\n",
            "\n",
            " [[0.35095706]]\n",
            "\n",
            " [[0.33131082]]\n",
            "\n",
            " [[0.3196336 ]]\n",
            "\n",
            " [[0.31383072]]\n",
            "\n",
            " [[0.32313992]]\n",
            "\n",
            " [[0.32307741]]\n",
            "\n",
            " [[0.31620838]]]\n",
            "\n",
            "(30, 1, 1)\n",
            "\n",
            "Scaled inputs:\n",
            "\n",
            "[[[0.3799695 ]]\n",
            "\n",
            " [[0.38723211]]\n",
            "\n",
            " [[0.39076018]]\n",
            "\n",
            " [[0.38976495]]\n",
            "\n",
            " [[0.39582069]]\n",
            "\n",
            " [[0.4006918 ]]\n",
            "\n",
            " [[0.39468285]]\n",
            "\n",
            " [[0.3903278 ]]\n",
            "\n",
            " [[0.396307  ]]\n",
            "\n",
            " [[0.40079757]]\n",
            "\n",
            " [[0.39751313]]\n",
            "\n",
            " [[0.39754439]]\n",
            "\n",
            " [[0.3716342 ]]\n",
            "\n",
            " [[0.35218174]]\n",
            "\n",
            " [[0.35186076]]\n",
            "\n",
            " [[0.33562138]]\n",
            "\n",
            " [[0.33868236]]\n",
            "\n",
            " [[0.34127403]]\n",
            "\n",
            " [[0.33667128]]\n",
            "\n",
            " [[0.33909474]]\n",
            "\n",
            " [[0.33982241]]\n",
            "\n",
            " [[0.34999305]]\n",
            "\n",
            " [[0.34805214]]\n",
            "\n",
            " [[0.35095706]]\n",
            "\n",
            " [[0.33131082]]\n",
            "\n",
            " [[0.3196336 ]]\n",
            "\n",
            " [[0.31383072]]\n",
            "\n",
            " [[0.32313992]]\n",
            "\n",
            " [[0.32307741]]\n",
            "\n",
            " [[0.31620838]]]\n",
            "\n",
            "Reshaped inputs:\n",
            "\n",
            "[[[0.3799695 ]]\n",
            "\n",
            " [[0.38723211]]\n",
            "\n",
            " [[0.39076018]]\n",
            "\n",
            " [[0.38976495]]\n",
            "\n",
            " [[0.39582069]]\n",
            "\n",
            " [[0.4006918 ]]\n",
            "\n",
            " [[0.39468285]]\n",
            "\n",
            " [[0.3903278 ]]\n",
            "\n",
            " [[0.396307  ]]\n",
            "\n",
            " [[0.40079757]]\n",
            "\n",
            " [[0.39751313]]\n",
            "\n",
            " [[0.39754439]]\n",
            "\n",
            " [[0.3716342 ]]\n",
            "\n",
            " [[0.35218174]]\n",
            "\n",
            " [[0.35186076]]\n",
            "\n",
            " [[0.33562138]]\n",
            "\n",
            " [[0.33868236]]\n",
            "\n",
            " [[0.34127403]]\n",
            "\n",
            " [[0.33667128]]\n",
            "\n",
            " [[0.33909474]]\n",
            "\n",
            " [[0.33982241]]\n",
            "\n",
            " [[0.34999305]]\n",
            "\n",
            " [[0.34805214]]\n",
            "\n",
            " [[0.35095706]]\n",
            "\n",
            " [[0.33131082]]\n",
            "\n",
            " [[0.3196336 ]]\n",
            "\n",
            " [[0.31383072]]\n",
            "\n",
            " [[0.32313992]]\n",
            "\n",
            " [[0.32307741]]\n",
            "\n",
            " [[0.31620838]]]\n",
            "\n",
            "(30, 1, 1)\n",
            "\n",
            "Predicted BTC price:  [[7408.9966]\n",
            " [7548.677 ]\n",
            " [7616.522 ]\n",
            " [7597.3813]\n",
            " [7713.8237]\n",
            " [7807.4736]\n",
            " [7691.948 ]\n",
            " [7608.205 ]\n",
            " [7723.175 ]\n",
            " [7809.5063]\n",
            " [7746.363 ]\n",
            " [7746.964 ]\n",
            " [7248.6543]\n",
            " [6874.343 ]\n",
            " [6868.164 ]\n",
            " [6555.57  ]\n",
            " [6614.4976]\n",
            " [6664.39  ]\n",
            " [6575.782 ]\n",
            " [6622.437 ]\n",
            " [6636.444 ]\n",
            " [6832.218 ]\n",
            " [6794.861 ]\n",
            " [6850.7705]\n",
            " [6472.58  ]\n",
            " [6247.737 ]\n",
            " [6135.9897]\n",
            " [6315.255 ]\n",
            " [6314.051 ]\n",
            " [6181.7783]]\n",
            "\n",
            "Scaled predicted BTC price:  [[7408.9966]\n",
            " [7548.677 ]\n",
            " [7616.522 ]\n",
            " [7597.3813]\n",
            " [7713.8237]\n",
            " [7807.4736]\n",
            " [7691.948 ]\n",
            " [7608.205 ]\n",
            " [7723.175 ]\n",
            " [7809.5063]\n",
            " [7746.363 ]\n",
            " [7746.964 ]\n",
            " [7248.6543]\n",
            " [6874.343 ]\n",
            " [6868.164 ]\n",
            " [6555.57  ]\n",
            " [6614.4976]\n",
            " [6664.39  ]\n",
            " [6575.782 ]\n",
            " [6622.437 ]\n",
            " [6636.444 ]\n",
            " [6832.218 ]\n",
            " [6794.861 ]\n",
            " [6850.7705]\n",
            " [6472.58  ]\n",
            " [6247.737 ]\n",
            " [6135.9897]\n",
            " [6315.255 ]\n",
            " [6314.051 ]\n",
            " [6181.7783]]\n",
            "\n"
          ],
          "name": "stdout"
        }
      ]
    },
    {
      "metadata": {
        "id": "d7HRFBom6i4a",
        "colab_type": "code",
        "colab": {
          "base_uri": "https://localhost:8080/",
          "height": 68
        },
        "outputId": "dba0b71d-3ee9-45a6-edbf-3946720ee538"
      },
      "cell_type": "code",
      "source": [
        "### get evaluation of the model predictions \n",
        "model_evaluation = regr.evaluate(inputs, predicted_BTC_price) \n",
        "\n",
        "print(\"Model evaluation is: \", model_evaluation)  \n",
        "print('') "
      ],
      "execution_count": 63,
      "outputs": [
        {
          "output_type": "stream",
          "text": [
            "\r30/30 [==============================] - 0s 6ms/step\n",
            "Model evaluation is:  49706584.0\n",
            "\n"
          ],
          "name": "stdout"
        }
      ]
    },
    {
      "metadata": {
        "id": "UWhS9mL96oqA",
        "colab_type": "code",
        "colab": {
          "base_uri": "https://localhost:8080/",
          "height": 1187
        },
        "outputId": "82af681e-a552-40d2-842d-b7f997ee462e"
      },
      "cell_type": "code",
      "source": [
        "### visualize the results \n",
        "print(\"Visualize the results:\") \n",
        "print('')\n",
        "\n",
        "### plot the actual and predicted prices \n",
        "plt.figure(figsize =(25, 15), dpi =80, facecolor ='w', edgecolor ='k')\n",
        "ax = plt.gca() \n",
        "plt.plot(test_set, color = 'red', label = \"Real BTC Price\") \n",
        "plt.plot(predicted_BTC_price, color = 'blue', label = \"Predicted BTC Price\") \n",
        "plt.title(\"BTC Price Prediction\", fontsize = 40)\n",
        "\n",
        "### reindex the 'df_test' dataframe \n",
        "df_test = df_test.reset_index() \n",
        "x = df_test.index\n",
        "\n",
        "### set labels\n",
        "labels = df_test['date']\n",
        "\n",
        "### set xticks \n",
        "plt.xticks(x, labels, rotation = 'vertical')\n",
        "\n",
        "### set fontsize for 'x' and 'y' ticks \n",
        "for tick in ax.xaxis.get_major_ticks():\n",
        "    tick.label1.set_fontsize(18)\n",
        "\n",
        "for tick in ax.yaxis.get_major_ticks():\n",
        "    tick.label1.set_fontsize(18)\n",
        "    \n",
        "### set plot labels \n",
        "plt.xlabel('Time', fontsize = 40)\n",
        "plt.ylabel('BTC Price(USD)', fontsize = 40)\n",
        "\n",
        "### set plot legend\n",
        "plt.legend(loc = 2, prop = {'size' : 25})  \n",
        "\n",
        "### show the plot \n",
        "plt.show()    "
      ],
      "execution_count": 64,
      "outputs": [
        {
          "output_type": "stream",
          "text": [
            "Visualize the results:\n",
            "\n"
          ],
          "name": "stdout"
        },
        {
          "output_type": "display_data",
          "data": {
            "image/png": "[encoded data removed]",
            "text/plain": [
              "<matplotlib.figure.Figure at 0x7f99da6bcf60>"
            ]
          },
          "metadata": {
            "tags": []
          }
        }
      ]
    },
    {
      "metadata": {
        "id": "FsTss2xI7EuA",
        "colab_type": "code",
        "colab": {
          "base_uri": "https://localhost:8080/",
          "height": 34
        },
        "outputId": "eeab9f5f-c8e8-4048-a50a-5b4bc23f36f7"
      },
      "cell_type": "code",
      "source": [
        "### end of notebook \n",
        "print(\"This is the end\") "
      ],
      "execution_count": 65,
      "outputs": [
        {
          "output_type": "stream",
          "text": [
            "This is the end\n"
          ],
          "name": "stdout"
        }
      ]
    }
  ]
}