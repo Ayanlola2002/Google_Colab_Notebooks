{
  "nbformat": 4,
  "nbformat_minor": 0,
  "metadata": {
    "colab": {
      "name": "Bitcoin Price Prediction.ipynb",
      "version": "0.3.2",
      "provenance": [],
      "collapsed_sections": [],
      "include_colab_link": true
    },
    "kernelspec": {
      "name": "python3",
      "display_name": "Python 3"
    }
  },
  "cells": [
    {
      "cell_type": "markdown",
      "metadata": {
        "id": "view-in-github",
        "colab_type": "text"
      },
      "source": [
        "[View in Colaboratory](https://colab.research.google.com/github/paulgureghian/Google_Colab_Notebooks/blob/master/Bitcoin_Price_Prediction.ipynb)"
      ]
    },
    {
      "metadata": {
        "id": "YRMRRLse647F",
        "colab_type": "text"
      },
      "cell_type": "markdown",
      "source": [
        "**Click \"File\" > \"Save a copy in Drive\", then press \"Runtime\" > \"Run all\", in the copy.**"
      ]
    },
    {
      "metadata": {
        "id": "4QOK6-txWk-S",
        "colab_type": "text"
      },
      "cell_type": "markdown",
      "source": [
        "**Created by Paul A. Gureghian on 9/26/2018.** \n",
        "\n",
        "**This Python script uses Keras to predict Bitcoin prices.**\n",
        "\n",
        "**I picked a Recurrent Neural Network and a Bitcoin dataset.**"
      ]
    },
    {
      "metadata": {
        "id": "68Qtb-rdj_Zt",
        "colab_type": "code",
        "colab": {}
      },
      "cell_type": "code",
      "source": [
        "### install pydrive \n",
        "!pip install -U -q Pydrive "
      ],
      "execution_count": 0,
      "outputs": []
    },
    {
      "metadata": {
        "id": "eZU11Sf2X01s",
        "colab_type": "code",
        "colab": {}
      },
      "cell_type": "code",
      "source": [
        "### import packages \n",
        "import numpy as np \n",
        "import pandas as pd \n",
        "from matplotlib import pyplot as plt \n",
        "\n",
        "from keras.layers import LSTM\n",
        "from keras.layers import Dense\n",
        "from keras.models import Sequential\n",
        "\n",
        "from sklearn.preprocessing import MinMaxScaler\n",
        "\n",
        "from google.colab import auth\n",
        "from pydrive.auth import GoogleAuth\n",
        "from pydrive.drive import GoogleDrive  \n",
        "from oauth2client.client import GoogleCredentials"
      ],
      "execution_count": 0,
      "outputs": []
    },
    {
      "metadata": {
        "id": "ELIzMbqSYEye",
        "colab_type": "code",
        "colab": {}
      },
      "cell_type": "code",
      "source": [
        "### **Click on the link, login to your google account, copy the verification code, paste the code into the box, hit enter** ###  \n",
        "\n",
        "### instantiate the pydrive client \n",
        "auth.authenticate_user()\n",
        "gauth = GoogleAuth() \n",
        "gauth.credentials = GoogleCredentials.get_application_default() \n",
        "drive = GoogleDrive(gauth)   "
      ],
      "execution_count": 0,
      "outputs": []
    },
    {
      "metadata": {
        "id": "ZAbBsqcY4d9Q",
        "colab_type": "code",
        "colab": {
          "base_uri": "https://localhost:8080/",
          "height": 34
        },
        "outputId": "8aee373d-2918-41fe-c7a0-6faae53b5a66"
      },
      "cell_type": "code",
      "source": [
        "### get a list of the csv files and their IDs used in this demo\n",
        "file_list = drive.ListFile({'q' : \"'1GC3wKpqR1QP1B25JStHzI996bEgMgIJL' in parents and trashed=false\"}).GetList()\n",
        "for file1 in file_list:\n",
        "    \n",
        "    print('title: %s, id: %s' % (file1['title'], file1['id']))       "
      ],
      "execution_count": 35,
      "outputs": [
        {
          "output_type": "stream",
          "text": [
            "title: bitstamp.csv, id: 1YYtQOjmVxlTYG5FfqZBsY8CFExk3BMB6\n"
          ],
          "name": "stdout"
        }
      ]
    },
    {
      "metadata": {
        "id": "8ODhIjCM8o7D",
        "colab_type": "code",
        "colab": {
          "base_uri": "https://localhost:8080/",
          "height": 34
        },
        "outputId": "20ac4c9e-7264-4c1f-94a9-8e8210b43ef0"
      },
      "cell_type": "code",
      "source": [
        "### pull the files into Google Colab, save the files in the notebook, and set the file names\n",
        "bitstamp_downloaded = drive.CreateFile({'id' : '1YYtQOjmVxlTYG5FfqZBsY8CFExk3BMB6'})\n",
        "bitstamp_downloaded.GetContentFile('bitstamp.csv')\n",
        "\n",
        "print(\"File successfully imported.\") "
      ],
      "execution_count": 36,
      "outputs": [
        {
          "output_type": "stream",
          "text": [
            "File successfully imported.\n"
          ],
          "name": "stdout"
        }
      ]
    },
    {
      "metadata": {
        "id": "27gI5R2C4qlD",
        "colab_type": "code",
        "colab": {
          "base_uri": "https://localhost:8080/",
          "height": 170
        },
        "outputId": "226d95d8-2cd1-4324-f790-4f652c0c030f"
      },
      "cell_type": "code",
      "source": [
        "### read in the dataset to a dataframe \n",
        "pd.set_option('display.max_columns', 8)\n",
        "pd.set_option('display.width', 1000)\n",
        "df = pd.read_csv('bitstamp.csv')\n",
        "\n",
        "print(df.head())\n",
        "print('')\n",
        "print(df.shape) \n",
        "print('') "
      ],
      "execution_count": 37,
      "outputs": [
        {
          "output_type": "stream",
          "text": [
            "    Timestamp  Open  High   Low  Close  Volume_(BTC)  Volume_(Currency)  Weighted_Price\n",
            "0  1325317920  4.39  4.39  4.39   4.39      0.455581                2.0            4.39\n",
            "1  1325317980  4.39  4.39  4.39   4.39      0.455581                2.0            4.39\n",
            "2  1325318040  4.39  4.39  4.39   4.39      0.455581                2.0            4.39\n",
            "3  1325318100  4.39  4.39  4.39   4.39      0.455581                2.0            4.39\n",
            "4  1325318160  4.39  4.39  4.39   4.39      0.455581                2.0            4.39\n",
            "\n",
            "(3405857, 8)\n",
            "\n"
          ],
          "name": "stdout"
        }
      ]
    },
    {
      "metadata": {
        "id": "xttY1Jjp421I",
        "colab_type": "code",
        "colab": {
          "base_uri": "https://localhost:8080/",
          "height": 187
        },
        "outputId": "d9ef759b-ad3c-4b8b-eebe-3ae7e68fca24"
      },
      "cell_type": "code",
      "source": [
        "### encode the date \n",
        "df['date'] = pd.to_datetime(df['Timestamp'], unit ='s').dt.date\n",
        "group = df.groupby('date')\n",
        "Real_Price = group['Weighted_Price'].mean()\n",
        "\n",
        "print(Real_Price.head())\n",
        "print('') \n",
        "print(Real_Price.shape)  \n",
        "print('')"
      ],
      "execution_count": 38,
      "outputs": [
        {
          "output_type": "stream",
          "text": [
            "date\n",
            "2011-12-31    4.472579\n",
            "2012-01-01    4.680778\n",
            "2012-01-02    5.000000\n",
            "2012-01-03    5.145917\n",
            "2012-01-04    5.195443\n",
            "Name: Weighted_Price, dtype: float64\n",
            "\n",
            "(2368,)\n",
            "\n"
          ],
          "name": "stdout"
        }
      ]
    },
    {
      "metadata": {
        "id": "_yUIW35p49jW",
        "colab_type": "code",
        "colab": {
          "base_uri": "https://localhost:8080/",
          "height": 357
        },
        "outputId": "03b49cc9-80a2-42dc-f75e-31f689ec5a6b"
      },
      "cell_type": "code",
      "source": [
        "### split dataset into train and test sets \n",
        "prediction_days = 30 \n",
        "df_train = Real_Price[:len(Real_Price) - prediction_days]\n",
        "df_test = Real_Price[len(Real_Price) - prediction_days:]\n",
        "\n",
        "print(df_train.head())\n",
        "print('')\n",
        "print(df_train.shape)\n",
        "print('')\n",
        "print(df_test.head())\n",
        "print('')\n",
        "print(df_test.shape)\n",
        "print('')"
      ],
      "execution_count": 39,
      "outputs": [
        {
          "output_type": "stream",
          "text": [
            "date\n",
            "2011-12-31    4.472579\n",
            "2012-01-01    4.680778\n",
            "2012-01-02    5.000000\n",
            "2012-01-03    5.145917\n",
            "2012-01-04    5.195443\n",
            "Name: Weighted_Price, dtype: float64\n",
            "\n",
            "(2338,)\n",
            "\n",
            "date\n",
            "2018-05-29    7292.843307\n",
            "2018-05-30    7432.153648\n",
            "2018-05-31    7499.828363\n",
            "2018-06-01    7480.738075\n",
            "2018-06-02    7596.898291\n",
            "Name: Weighted_Price, dtype: float64\n",
            "\n",
            "(30,)\n",
            "\n"
          ],
          "name": "stdout"
        }
      ]
    },
    {
      "metadata": {
        "id": "AdKnQQxg5Cxo",
        "colab_type": "code",
        "colab": {
          "base_uri": "https://localhost:8080/",
          "height": 221
        },
        "outputId": "aaa01f46-e643-4894-e5d2-c64713ad045d"
      },
      "cell_type": "code",
      "source": [
        "### preprocess the data by reshaping it \n",
        "training_set = df_train.values \n",
        "training_set = np.reshape(training_set, (len(training_set),1))\n",
        "\n",
        "print(\"Training set after reshaping:\")\n",
        "print('')\n",
        "print(training_set)\n",
        "print('')\n",
        "print(training_set.shape)\n",
        "print('')"
      ],
      "execution_count": 40,
      "outputs": [
        {
          "output_type": "stream",
          "text": [
            "Training set after reshaping:\n",
            "\n",
            "[[4.47257894e+00]\n",
            " [4.68077778e+00]\n",
            " [5.00000000e+00]\n",
            " ...\n",
            " [7.48973292e+03]\n",
            " [7.31683633e+03]\n",
            " [7.25498905e+03]]\n",
            "\n",
            "(2338, 1)\n",
            "\n"
          ],
          "name": "stdout"
        }
      ]
    },
    {
      "metadata": {
        "id": "RcaaATWc5IYg",
        "colab_type": "code",
        "colab": {
          "base_uri": "https://localhost:8080/",
          "height": 986
        },
        "outputId": "5fdb5a82-a5cc-4a16-e18f-0e52ddc79e0d"
      },
      "cell_type": "code",
      "source": [
        "### preprocess the data by scaling it \n",
        "sc = MinMaxScaler() \n",
        "training_set = sc.fit_transform(training_set) \n",
        "X_train = training_set[0 : len(training_set) -1]\n",
        "y_train = training_set[1 : len(training_set)]\n",
        "X_train = np.reshape(X_train, (len(X_train),1, 1)) \n",
        "                       \n",
        "print(\"Scaled training set:\")\n",
        "print('')\n",
        "print(training_set)\n",
        "print('')\n",
        "print(\"Define X_train\")\n",
        "print('')\n",
        "print(X_train)\n",
        "print('')\n",
        "print(X_train.shape)\n",
        "print(\"Define y_train:\")\n",
        "print('')\n",
        "print(y_train)\n",
        "print('')\n",
        "print(y_train.shape)\n",
        "print('')\n",
        "print(\"X_train reshaped:\")\n",
        "print('')\n",
        "print(X_train) \n",
        "print('') \n",
        "print(X_train.shape)\n",
        "print('')"
      ],
      "execution_count": 41,
      "outputs": [
        {
          "output_type": "stream",
          "text": [
            "Scaled training set:\n",
            "\n",
            "[[7.49021754e-06]\n",
            " [1.83441728e-05]\n",
            " [3.49860700e-05]\n",
            " ...\n",
            " [3.90233875e-01]\n",
            " [3.81220319e-01]\n",
            " [3.77996057e-01]]\n",
            "\n",
            "Define X_train\n",
            "\n",
            "[[[7.49021754e-06]]\n",
            "\n",
            " [[1.83441728e-05]]\n",
            "\n",
            " [[3.49860700e-05]]\n",
            "\n",
            " ...\n",
            "\n",
            " [[3.90047749e-01]]\n",
            "\n",
            " [[3.90233875e-01]]\n",
            "\n",
            " [[3.81220319e-01]]]\n",
            "\n",
            "(2337, 1, 1)\n",
            "Define y_train:\n",
            "\n",
            "[[1.83441728e-05]\n",
            " [3.49860700e-05]\n",
            " [4.25930911e-05]\n",
            " ...\n",
            " [3.90233875e-01]\n",
            " [3.81220319e-01]\n",
            " [3.77996057e-01]]\n",
            "\n",
            "(2337, 1)\n",
            "\n",
            "X_train reshaped:\n",
            "\n",
            "[[[7.49021754e-06]]\n",
            "\n",
            " [[1.83441728e-05]]\n",
            "\n",
            " [[3.49860700e-05]]\n",
            "\n",
            " ...\n",
            "\n",
            " [[3.90047749e-01]]\n",
            "\n",
            " [[3.90233875e-01]]\n",
            "\n",
            " [[3.81220319e-01]]]\n",
            "\n",
            "(2337, 1, 1)\n",
            "\n"
          ],
          "name": "stdout"
        }
      ]
    },
    {
      "metadata": {
        "id": "dwh8yAao5UNE",
        "colab_type": "code",
        "colab": {
          "base_uri": "https://localhost:8080/",
          "height": 3434
        },
        "outputId": "77910662-dd62-484e-db52-28dfedaf04c9"
      },
      "cell_type": "code",
      "source": [
        "### define the RNN model \n",
        "### instantiate the RNN model object \n",
        "regr = Sequential() \n",
        "\n",
        "### add the input and LSTM layers \n",
        "regr.add(LSTM(units =4, activation ='sigmoid', input_shape =(None, 1)))    \n",
        "\n",
        "### add the output layer\n",
        "regr.add(Dense(units =1))\n",
        "\n",
        "### compile the RNN \n",
        "regr.compile(optimizer = 'adam', loss = 'mean_squared_error', metrics = ['accuracy']) \n",
        "\n",
        "### fit the model on the training set \n",
        "regr.fit(X_train, y_train, batch_size =5, epochs =100)  "
      ],
      "execution_count": 42,
      "outputs": [
        {
          "output_type": "stream",
          "text": [
            "Epoch 1/100\n",
            "2337/2337 [==============================] - 2s 917us/step - loss: 0.0300 - acc: 4.2790e-04\n",
            "Epoch 2/100\n",
            "2337/2337 [==============================] - 1s 477us/step - loss: 0.0187 - acc: 4.2790e-04\n",
            "Epoch 3/100\n",
            "2337/2337 [==============================] - 1s 477us/step - loss: 0.0148 - acc: 4.2790e-04\n",
            "Epoch 4/100\n",
            "2337/2337 [==============================] - 1s 500us/step - loss: 0.0109 - acc: 4.2790e-04\n",
            "Epoch 5/100\n",
            "2337/2337 [==============================] - 1s 502us/step - loss: 0.0072 - acc: 4.2790e-04\n",
            "Epoch 6/100\n",
            "2337/2337 [==============================] - 1s 479us/step - loss: 0.0040 - acc: 8.5580e-04\n",
            "Epoch 7/100\n",
            "2337/2337 [==============================] - 1s 502us/step - loss: 0.0018 - acc: 8.5580e-04\n",
            "Epoch 8/100\n",
            "2337/2337 [==============================] - 1s 498us/step - loss: 6.0271e-04 - acc: 8.5580e-04\n",
            "Epoch 9/100\n",
            "2337/2337 [==============================] - 1s 502us/step - loss: 1.8795e-04 - acc: 8.5580e-04\n",
            "Epoch 10/100\n",
            "2337/2337 [==============================] - 1s 490us/step - loss: 9.9021e-05 - acc: 8.5580e-04\n",
            "Epoch 11/100\n",
            "2337/2337 [==============================] - 1s 492us/step - loss: 8.8085e-05 - acc: 8.5580e-04\n",
            "Epoch 12/100\n",
            "2337/2337 [==============================] - 1s 498us/step - loss: 8.6530e-05 - acc: 8.5580e-04\n",
            "Epoch 13/100\n",
            "2337/2337 [==============================] - 1s 483us/step - loss: 8.7403e-05 - acc: 8.5580e-04\n",
            "Epoch 14/100\n",
            "2337/2337 [==============================] - 1s 491us/step - loss: 8.8590e-05 - acc: 8.5580e-04\n",
            "Epoch 15/100\n",
            "2337/2337 [==============================] - 1s 471us/step - loss: 8.7428e-05 - acc: 8.5580e-04\n",
            "Epoch 16/100\n",
            "2337/2337 [==============================] - 1s 489us/step - loss: 8.9097e-05 - acc: 8.5580e-04\n",
            "Epoch 17/100\n",
            "2337/2337 [==============================] - 1s 489us/step - loss: 8.8869e-05 - acc: 8.5580e-04\n",
            "Epoch 18/100\n",
            "2337/2337 [==============================] - 1s 478us/step - loss: 9.0767e-05 - acc: 8.5580e-04\n",
            "Epoch 19/100\n",
            "2337/2337 [==============================] - 1s 493us/step - loss: 9.1961e-05 - acc: 8.5580e-04\n",
            "Epoch 20/100\n",
            "2337/2337 [==============================] - 1s 493us/step - loss: 8.7559e-05 - acc: 8.5580e-04\n",
            "Epoch 21/100\n",
            "2337/2337 [==============================] - 1s 502us/step - loss: 8.9011e-05 - acc: 8.5580e-04\n",
            "Epoch 22/100\n",
            "2337/2337 [==============================] - 1s 498us/step - loss: 8.6961e-05 - acc: 8.5580e-04\n",
            "Epoch 23/100\n",
            "2337/2337 [==============================] - 1s 470us/step - loss: 8.8404e-05 - acc: 8.5580e-04\n",
            "Epoch 24/100\n",
            "2337/2337 [==============================] - 1s 479us/step - loss: 8.8639e-05 - acc: 8.5580e-04\n",
            "Epoch 25/100\n",
            "2337/2337 [==============================] - 1s 493us/step - loss: 9.1255e-05 - acc: 8.5580e-04\n",
            "Epoch 26/100\n",
            "2337/2337 [==============================] - 1s 480us/step - loss: 8.9491e-05 - acc: 8.5580e-04\n",
            "Epoch 27/100\n",
            "2337/2337 [==============================] - 1s 512us/step - loss: 9.1623e-05 - acc: 8.5580e-04\n",
            "Epoch 28/100\n",
            "2337/2337 [==============================] - 1s 492us/step - loss: 8.8877e-05 - acc: 8.5580e-04\n",
            "Epoch 29/100\n",
            "2337/2337 [==============================] - 1s 481us/step - loss: 8.7022e-05 - acc: 8.5580e-04\n",
            "Epoch 30/100\n",
            "2337/2337 [==============================] - 1s 479us/step - loss: 8.9690e-05 - acc: 8.5580e-04\n",
            "Epoch 31/100\n",
            "2337/2337 [==============================] - 1s 488us/step - loss: 8.8224e-05 - acc: 8.5580e-04\n",
            "Epoch 32/100\n",
            "2337/2337 [==============================] - 1s 482us/step - loss: 8.8471e-05 - acc: 8.5580e-04\n",
            "Epoch 33/100\n",
            "2337/2337 [==============================] - 1s 504us/step - loss: 8.8716e-05 - acc: 8.5580e-04\n",
            "Epoch 34/100\n",
            "2337/2337 [==============================] - 1s 509us/step - loss: 8.8027e-05 - acc: 8.5580e-04\n",
            "Epoch 35/100\n",
            "2337/2337 [==============================] - 1s 501us/step - loss: 8.6955e-05 - acc: 8.5580e-04\n",
            "Epoch 36/100\n",
            "2337/2337 [==============================] - 1s 498us/step - loss: 8.7550e-05 - acc: 8.5580e-04\n",
            "Epoch 37/100\n",
            "2337/2337 [==============================] - 1s 517us/step - loss: 8.8629e-05 - acc: 8.5580e-04\n",
            "Epoch 38/100\n",
            "2337/2337 [==============================] - 1s 513us/step - loss: 9.0192e-05 - acc: 8.5580e-04\n",
            "Epoch 39/100\n",
            "2337/2337 [==============================] - 1s 489us/step - loss: 8.8890e-05 - acc: 8.5580e-04\n",
            "Epoch 40/100\n",
            "2337/2337 [==============================] - 1s 469us/step - loss: 8.8962e-05 - acc: 8.5580e-04\n",
            "Epoch 41/100\n",
            "2337/2337 [==============================] - 1s 478us/step - loss: 8.6740e-05 - acc: 8.5580e-04\n",
            "Epoch 42/100\n",
            "2337/2337 [==============================] - 1s 494us/step - loss: 8.7600e-05 - acc: 8.5580e-04\n",
            "Epoch 43/100\n",
            "2337/2337 [==============================] - 1s 486us/step - loss: 8.7195e-05 - acc: 8.5580e-04\n",
            "Epoch 44/100\n",
            "2337/2337 [==============================] - 1s 505us/step - loss: 8.6414e-05 - acc: 8.5580e-04\n",
            "Epoch 45/100\n",
            "2337/2337 [==============================] - 1s 496us/step - loss: 8.7668e-05 - acc: 8.5580e-04\n",
            "Epoch 46/100\n",
            "2337/2337 [==============================] - 1s 486us/step - loss: 8.6425e-05 - acc: 8.5580e-04\n",
            "Epoch 47/100\n",
            "2337/2337 [==============================] - 1s 476us/step - loss: 8.7342e-05 - acc: 8.5580e-04\n",
            "Epoch 48/100\n",
            "2337/2337 [==============================] - 1s 487us/step - loss: 8.7733e-05 - acc: 8.5580e-04\n",
            "Epoch 49/100\n",
            "2337/2337 [==============================] - 1s 483us/step - loss: 8.9006e-05 - acc: 8.5580e-04\n",
            "Epoch 50/100\n",
            "2337/2337 [==============================] - 1s 495us/step - loss: 8.8476e-05 - acc: 8.5580e-04\n",
            "Epoch 51/100\n",
            "2337/2337 [==============================] - 1s 491us/step - loss: 8.6948e-05 - acc: 8.5580e-04\n",
            "Epoch 52/100\n",
            "2337/2337 [==============================] - 1s 480us/step - loss: 8.5567e-05 - acc: 8.5580e-04\n",
            "Epoch 53/100\n",
            "2337/2337 [==============================] - 1s 483us/step - loss: 8.8771e-05 - acc: 8.5580e-04\n",
            "Epoch 54/100\n",
            "2337/2337 [==============================] - 1s 487us/step - loss: 8.9583e-05 - acc: 8.5580e-04\n",
            "Epoch 55/100\n",
            "2337/2337 [==============================] - 1s 505us/step - loss: 8.5812e-05 - acc: 8.5580e-04\n",
            "Epoch 56/100\n",
            "2337/2337 [==============================] - 1s 514us/step - loss: 8.8235e-05 - acc: 8.5580e-04\n",
            "Epoch 57/100\n",
            "2337/2337 [==============================] - 1s 518us/step - loss: 8.7067e-05 - acc: 8.5580e-04\n",
            "Epoch 58/100\n",
            "2337/2337 [==============================] - 1s 508us/step - loss: 8.7097e-05 - acc: 8.5580e-04\n",
            "Epoch 59/100\n",
            "2337/2337 [==============================] - 1s 531us/step - loss: 8.7959e-05 - acc: 8.5580e-04\n",
            "Epoch 60/100\n",
            "2337/2337 [==============================] - 1s 554us/step - loss: 8.5401e-05 - acc: 8.5580e-04\n",
            "Epoch 61/100\n",
            "2337/2337 [==============================] - 1s 518us/step - loss: 8.8242e-05 - acc: 8.5580e-04\n",
            "Epoch 62/100\n",
            "2337/2337 [==============================] - 1s 507us/step - loss: 8.7952e-05 - acc: 8.5580e-04\n",
            "Epoch 63/100\n",
            "2337/2337 [==============================] - 1s 506us/step - loss: 8.6657e-05 - acc: 8.5580e-04\n",
            "Epoch 64/100\n",
            "2337/2337 [==============================] - 1s 491us/step - loss: 8.7265e-05 - acc: 8.5580e-04\n",
            "Epoch 65/100\n",
            "2337/2337 [==============================] - 1s 490us/step - loss: 8.7960e-05 - acc: 8.5580e-04\n",
            "Epoch 66/100\n",
            "2337/2337 [==============================] - 1s 512us/step - loss: 8.7213e-05 - acc: 8.5580e-04\n",
            "Epoch 67/100\n",
            "2337/2337 [==============================] - 1s 515us/step - loss: 8.7661e-05 - acc: 8.5580e-04\n",
            "Epoch 68/100\n",
            "2337/2337 [==============================] - 1s 514us/step - loss: 8.6180e-05 - acc: 8.5580e-04\n",
            "Epoch 69/100\n",
            "2337/2337 [==============================] - 1s 519us/step - loss: 8.7259e-05 - acc: 8.5580e-04\n",
            "Epoch 70/100\n",
            "2337/2337 [==============================] - 1s 554us/step - loss: 8.9461e-05 - acc: 8.5580e-04\n",
            "Epoch 71/100\n",
            "2337/2337 [==============================] - 1s 511us/step - loss: 8.5721e-05 - acc: 8.5580e-04\n",
            "Epoch 72/100\n",
            "2337/2337 [==============================] - 1s 495us/step - loss: 8.6382e-05 - acc: 8.5580e-04\n",
            "Epoch 73/100\n",
            "2337/2337 [==============================] - 1s 515us/step - loss: 8.6272e-05 - acc: 8.5580e-04\n",
            "Epoch 74/100\n",
            "2337/2337 [==============================] - 1s 509us/step - loss: 8.6474e-05 - acc: 8.5580e-04\n",
            "Epoch 75/100\n",
            "2337/2337 [==============================] - 1s 513us/step - loss: 8.6188e-05 - acc: 8.5580e-04\n",
            "Epoch 76/100\n",
            "2337/2337 [==============================] - 1s 498us/step - loss: 8.9448e-05 - acc: 8.5580e-04\n",
            "Epoch 77/100\n",
            "2337/2337 [==============================] - 1s 510us/step - loss: 8.6163e-05 - acc: 8.5580e-04\n",
            "Epoch 78/100\n",
            "2337/2337 [==============================] - 1s 493us/step - loss: 8.7101e-05 - acc: 8.5580e-04\n",
            "Epoch 79/100\n",
            "2337/2337 [==============================] - 1s 523us/step - loss: 8.5946e-05 - acc: 8.5580e-04\n",
            "Epoch 80/100\n",
            "2337/2337 [==============================] - 1s 501us/step - loss: 8.7120e-05 - acc: 8.5580e-04\n",
            "Epoch 81/100\n",
            "2337/2337 [==============================] - 1s 495us/step - loss: 8.5988e-05 - acc: 8.5580e-04\n",
            "Epoch 82/100\n",
            "2337/2337 [==============================] - 1s 490us/step - loss: 8.2176e-05 - acc: 8.5580e-04\n",
            "Epoch 83/100\n",
            "2337/2337 [==============================] - 1s 475us/step - loss: 8.7077e-05 - acc: 8.5580e-04\n",
            "Epoch 84/100\n",
            "2337/2337 [==============================] - 1s 479us/step - loss: 8.8031e-05 - acc: 8.5580e-04\n",
            "Epoch 85/100\n",
            "2337/2337 [==============================] - 1s 495us/step - loss: 8.7794e-05 - acc: 8.5580e-04\n",
            "Epoch 86/100\n",
            "2337/2337 [==============================] - 1s 479us/step - loss: 8.8238e-05 - acc: 8.5580e-04\n",
            "Epoch 87/100\n",
            "2337/2337 [==============================] - 1s 470us/step - loss: 8.7257e-05 - acc: 8.5580e-04\n",
            "Epoch 88/100\n",
            "2337/2337 [==============================] - 1s 478us/step - loss: 8.7770e-05 - acc: 8.5580e-04\n",
            "Epoch 89/100\n",
            "2337/2337 [==============================] - 1s 482us/step - loss: 8.5491e-05 - acc: 8.5580e-04\n",
            "Epoch 90/100\n",
            "2337/2337 [==============================] - 1s 480us/step - loss: 8.7227e-05 - acc: 8.5580e-04\n",
            "Epoch 91/100\n",
            "2337/2337 [==============================] - 1s 489us/step - loss: 8.6959e-05 - acc: 8.5580e-04\n",
            "Epoch 92/100\n",
            "2337/2337 [==============================] - 1s 484us/step - loss: 8.6148e-05 - acc: 8.5580e-04\n",
            "Epoch 93/100\n",
            "2337/2337 [==============================] - 1s 493us/step - loss: 8.8008e-05 - acc: 8.5580e-04\n",
            "Epoch 94/100\n",
            "2337/2337 [==============================] - 1s 479us/step - loss: 8.6881e-05 - acc: 8.5580e-04\n",
            "Epoch 95/100\n",
            "2337/2337 [==============================] - 1s 500us/step - loss: 8.4980e-05 - acc: 8.5580e-04\n",
            "Epoch 96/100\n",
            "2337/2337 [==============================] - 1s 490us/step - loss: 8.6420e-05 - acc: 8.5580e-04\n",
            "Epoch 97/100\n",
            "2337/2337 [==============================] - 1s 511us/step - loss: 8.6897e-05 - acc: 8.5580e-04\n",
            "Epoch 98/100\n",
            "2337/2337 [==============================] - 1s 525us/step - loss: 8.7883e-05 - acc: 8.5580e-04\n",
            "Epoch 99/100\n",
            "2337/2337 [==============================] - 1s 501us/step - loss: 8.7108e-05 - acc: 8.5580e-04\n",
            "Epoch 100/100\n",
            "2337/2337 [==============================] - 1s 480us/step - loss: 8.5261e-05 - acc: 8.5580e-04\n"
          ],
          "name": "stdout"
        },
        {
          "output_type": "execute_result",
          "data": {
            "text/plain": [
              "<keras.callbacks.History at 0x7fd4d1511908>"
            ]
          },
          "metadata": {
            "tags": []
          },
          "execution_count": 42
        }
      ]
    },
    {
      "metadata": {
        "id": "iNxy8aQB6YVQ",
        "colab_type": "code",
        "colab": {
          "base_uri": "https://localhost:8080/",
          "height": 4301
        },
        "outputId": "d9859338-43f0-4c34-9094-20c5005f6d58"
      },
      "cell_type": "code",
      "source": [
        "### create predictions on the test set \n",
        "test_set = df_test.values\n",
        "inputs = np.reshape(test_set, (len(test_set), 1)) \n",
        "inputs = sc.transform(inputs)\n",
        "inputs = np.reshape(inputs, (len(inputs), 1, 1))\n",
        "predicted_BTC_price = regr.predict(inputs) \n",
        "predicted_BTC_price = sc.inverse_transform(predicted_BTC_price)\n",
        "\n",
        "print(\"Test set after reshaping:\")\n",
        "print('')\n",
        "print(inputs)\n",
        "print('')\n",
        "print(inputs.shape)\n",
        "print('')\n",
        "print(\"Scaled inputs:\")\n",
        "print('')\n",
        "print(inputs) \n",
        "print('')\n",
        "print(\"Reshaped inputs:\")\n",
        "print('')\n",
        "print(inputs)\n",
        "print('')\n",
        "print(inputs.shape)\n",
        "print('')\n",
        "print(\"Predicted BTC price: \", predicted_BTC_price)\n",
        "print('')\n",
        "print(\"Scaled predicted BTC price: \", predicted_BTC_price)\n",
        "print('')"
      ],
      "execution_count": 43,
      "outputs": [
        {
          "output_type": "stream",
          "text": [
            "Test set after reshaping:\n",
            "\n",
            "[[[0.3799695 ]]\n",
            "\n",
            " [[0.38723211]]\n",
            "\n",
            " [[0.39076018]]\n",
            "\n",
            " [[0.38976495]]\n",
            "\n",
            " [[0.39582069]]\n",
            "\n",
            " [[0.4006918 ]]\n",
            "\n",
            " [[0.39468285]]\n",
            "\n",
            " [[0.3903278 ]]\n",
            "\n",
            " [[0.396307  ]]\n",
            "\n",
            " [[0.40079757]]\n",
            "\n",
            " [[0.39751313]]\n",
            "\n",
            " [[0.39754439]]\n",
            "\n",
            " [[0.3716342 ]]\n",
            "\n",
            " [[0.35218174]]\n",
            "\n",
            " [[0.35186076]]\n",
            "\n",
            " [[0.33562138]]\n",
            "\n",
            " [[0.33868236]]\n",
            "\n",
            " [[0.34127403]]\n",
            "\n",
            " [[0.33667128]]\n",
            "\n",
            " [[0.33909474]]\n",
            "\n",
            " [[0.33982241]]\n",
            "\n",
            " [[0.34999305]]\n",
            "\n",
            " [[0.34805214]]\n",
            "\n",
            " [[0.35095706]]\n",
            "\n",
            " [[0.33131082]]\n",
            "\n",
            " [[0.3196336 ]]\n",
            "\n",
            " [[0.31383072]]\n",
            "\n",
            " [[0.32313992]]\n",
            "\n",
            " [[0.32307741]]\n",
            "\n",
            " [[0.31620838]]]\n",
            "\n",
            "(30, 1, 1)\n",
            "\n",
            "Scaled inputs:\n",
            "\n",
            "[[[0.3799695 ]]\n",
            "\n",
            " [[0.38723211]]\n",
            "\n",
            " [[0.39076018]]\n",
            "\n",
            " [[0.38976495]]\n",
            "\n",
            " [[0.39582069]]\n",
            "\n",
            " [[0.4006918 ]]\n",
            "\n",
            " [[0.39468285]]\n",
            "\n",
            " [[0.3903278 ]]\n",
            "\n",
            " [[0.396307  ]]\n",
            "\n",
            " [[0.40079757]]\n",
            "\n",
            " [[0.39751313]]\n",
            "\n",
            " [[0.39754439]]\n",
            "\n",
            " [[0.3716342 ]]\n",
            "\n",
            " [[0.35218174]]\n",
            "\n",
            " [[0.35186076]]\n",
            "\n",
            " [[0.33562138]]\n",
            "\n",
            " [[0.33868236]]\n",
            "\n",
            " [[0.34127403]]\n",
            "\n",
            " [[0.33667128]]\n",
            "\n",
            " [[0.33909474]]\n",
            "\n",
            " [[0.33982241]]\n",
            "\n",
            " [[0.34999305]]\n",
            "\n",
            " [[0.34805214]]\n",
            "\n",
            " [[0.35095706]]\n",
            "\n",
            " [[0.33131082]]\n",
            "\n",
            " [[0.3196336 ]]\n",
            "\n",
            " [[0.31383072]]\n",
            "\n",
            " [[0.32313992]]\n",
            "\n",
            " [[0.32307741]]\n",
            "\n",
            " [[0.31620838]]]\n",
            "\n",
            "Reshaped inputs:\n",
            "\n",
            "[[[0.3799695 ]]\n",
            "\n",
            " [[0.38723211]]\n",
            "\n",
            " [[0.39076018]]\n",
            "\n",
            " [[0.38976495]]\n",
            "\n",
            " [[0.39582069]]\n",
            "\n",
            " [[0.4006918 ]]\n",
            "\n",
            " [[0.39468285]]\n",
            "\n",
            " [[0.3903278 ]]\n",
            "\n",
            " [[0.396307  ]]\n",
            "\n",
            " [[0.40079757]]\n",
            "\n",
            " [[0.39751313]]\n",
            "\n",
            " [[0.39754439]]\n",
            "\n",
            " [[0.3716342 ]]\n",
            "\n",
            " [[0.35218174]]\n",
            "\n",
            " [[0.35186076]]\n",
            "\n",
            " [[0.33562138]]\n",
            "\n",
            " [[0.33868236]]\n",
            "\n",
            " [[0.34127403]]\n",
            "\n",
            " [[0.33667128]]\n",
            "\n",
            " [[0.33909474]]\n",
            "\n",
            " [[0.33982241]]\n",
            "\n",
            " [[0.34999305]]\n",
            "\n",
            " [[0.34805214]]\n",
            "\n",
            " [[0.35095706]]\n",
            "\n",
            " [[0.33131082]]\n",
            "\n",
            " [[0.3196336 ]]\n",
            "\n",
            " [[0.31383072]]\n",
            "\n",
            " [[0.32313992]]\n",
            "\n",
            " [[0.32307741]]\n",
            "\n",
            " [[0.31620838]]]\n",
            "\n",
            "(30, 1, 1)\n",
            "\n",
            "Predicted BTC price:  [[7301.1094]\n",
            " [7438.224 ]\n",
            " [7504.808 ]\n",
            " [7486.0254]\n",
            " [7600.2803]\n",
            " [7692.148 ]\n",
            " [7578.818 ]\n",
            " [7496.647 ]\n",
            " [7609.453 ]\n",
            " [7694.144 ]\n",
            " [7632.203 ]\n",
            " [7632.792 ]\n",
            " [7143.6562]\n",
            " [6775.8325]\n",
            " [6769.7593]\n",
            " [6462.291 ]\n",
            " [6520.274 ]\n",
            " [6569.357 ]\n",
            " [6482.1807]\n",
            " [6528.083 ]\n",
            " [6541.865 ]\n",
            " [6734.4146]\n",
            " [6697.6807]\n",
            " [6752.6567]\n",
            " [6380.6157]\n",
            " [6159.2397]\n",
            " [6049.161 ]\n",
            " [6225.7305]\n",
            " [6224.547 ]\n",
            " [6094.2686]]\n",
            "\n",
            "Scaled predicted BTC price:  [[7301.1094]\n",
            " [7438.224 ]\n",
            " [7504.808 ]\n",
            " [7486.0254]\n",
            " [7600.2803]\n",
            " [7692.148 ]\n",
            " [7578.818 ]\n",
            " [7496.647 ]\n",
            " [7609.453 ]\n",
            " [7694.144 ]\n",
            " [7632.203 ]\n",
            " [7632.792 ]\n",
            " [7143.6562]\n",
            " [6775.8325]\n",
            " [6769.7593]\n",
            " [6462.291 ]\n",
            " [6520.274 ]\n",
            " [6569.357 ]\n",
            " [6482.1807]\n",
            " [6528.083 ]\n",
            " [6541.865 ]\n",
            " [6734.4146]\n",
            " [6697.6807]\n",
            " [6752.6567]\n",
            " [6380.6157]\n",
            " [6159.2397]\n",
            " [6049.161 ]\n",
            " [6225.7305]\n",
            " [6224.547 ]\n",
            " [6094.2686]]\n",
            "\n"
          ],
          "name": "stdout"
        }
      ]
    },
    {
      "metadata": {
        "id": "d7HRFBom6i4a",
        "colab_type": "code",
        "colab": {
          "base_uri": "https://localhost:8080/",
          "height": 68
        },
        "outputId": "76d47490-bcc8-4e7c-975a-67d0faa39851"
      },
      "cell_type": "code",
      "source": [
        "### get evaluation of the model predictions \n",
        "model_evaluation = regr.evaluate(inputs, predicted_BTC_price) \n",
        "\n",
        "print(\"Model evaluation is: \", model_evaluation)  \n",
        "print('') "
      ],
      "execution_count": 44,
      "outputs": [
        {
          "output_type": "stream",
          "text": [
            "\r30/30 [==============================] - 0s 8ms/step\n",
            "Model evaluation is:  [48278708.0, 0.0]\n",
            "\n"
          ],
          "name": "stdout"
        }
      ]
    },
    {
      "metadata": {
        "id": "UWhS9mL96oqA",
        "colab_type": "code",
        "colab": {
          "base_uri": "https://localhost:8080/",
          "height": 1187
        },
        "outputId": "309b0651-859d-43a8-83b8-5abb4c1ec4d7"
      },
      "cell_type": "code",
      "source": [
        "### visualize the results \n",
        "print(\"Visualize the results:\") \n",
        "print('')\n",
        "\n",
        "### plot the actual and predicted prices \n",
        "plt.figure(figsize =(25, 15), dpi =80, facecolor ='w', edgecolor ='k')\n",
        "ax = plt.gca() \n",
        "plt.plot(test_set, color = 'red', label = \"Real BTC Price\") \n",
        "plt.plot(predicted_BTC_price, color = 'blue', label = \"Predicted BTC Price\") \n",
        "plt.title(\"BTC Price Prediction\", fontsize = 40)\n",
        "\n",
        "### reindex the 'df_test' dataframe \n",
        "df_test = df_test.reset_index() \n",
        "x = df_test.index\n",
        "\n",
        "### set labels\n",
        "labels = df_test['date']\n",
        "\n",
        "### set xticks \n",
        "plt.xticks(x, labels, rotation = 'vertical')\n",
        "\n",
        "### set fontsize for 'x' and 'y' ticks \n",
        "for tick in ax.xaxis.get_major_ticks():\n",
        "    tick.label1.set_fontsize(18)\n",
        "\n",
        "for tick in ax.yaxis.get_major_ticks():\n",
        "    tick.label1.set_fontsize(18)\n",
        "    \n",
        "### set plot labels \n",
        "plt.xlabel('Time', fontsize = 40)\n",
        "plt.ylabel('BTC Price(USD)', fontsize = 40)\n",
        "\n",
        "### set plot legend\n",
        "plt.legend(loc = 2, prop = {'size' : 25})  \n",
        "\n",
        "### show the plot \n",
        "plt.show()    "
      ],
      "execution_count": 45,
      "outputs": [
        {
          "output_type": "stream",
          "text": [
            "Visualize the results:\n",
            "\n"
          ],
          "name": "stdout"
        },
        {
          "output_type": "display_data",
          "data": {
            "image/png": "[encoded data removed]",
            "text/plain": [
              "<matplotlib.figure.Figure at 0x7fd4cd182ef0>"
            ]
          },
          "metadata": {
            "tags": []
          }
        }
      ]
    },
    {
      "metadata": {
        "id": "FsTss2xI7EuA",
        "colab_type": "code",
        "colab": {
          "base_uri": "https://localhost:8080/",
          "height": 34
        },
        "outputId": "8cce2483-7221-487e-ae28-79a470a73f58"
      },
      "cell_type": "code",
      "source": [
        "### end of notebook \n",
        "print(\"This is the end\") "
      ],
      "execution_count": 46,
      "outputs": [
        {
          "output_type": "stream",
          "text": [
            "This is the end\n"
          ],
          "name": "stdout"
        }
      ]
    }
  ]
}