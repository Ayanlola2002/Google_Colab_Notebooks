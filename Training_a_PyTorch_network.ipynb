{
  "nbformat": 4,
  "nbformat_minor": 0,
  "metadata": {
    "colab": {
      "name": "Training a PyTorch network.ipynb",
      "version": "0.3.2",
      "provenance": [],
      "collapsed_sections": [],
      "include_colab_link": true
    },
    "kernelspec": {
      "name": "python3",
      "display_name": "Python 3"
    },
    "accelerator": "GPU"
  },
  "cells": [
    {
      "cell_type": "markdown",
      "metadata": {
        "id": "view-in-github",
        "colab_type": "text"
      },
      "source": [
        "<a href=\"https://colab.research.google.com/github/paulgureghian/Google_Colab_Notebooks/blob/master/Training_a_PyTorch_network.ipynb\" target=\"_parent\"><img src=\"https://colab.research.google.com/assets/colab-badge.svg\" alt=\"Open In Colab\"/></a>"
      ]
    },
    {
      "metadata": {
        "id": "U8zIDwQqFxBq",
        "colab_type": "text"
      },
      "cell_type": "markdown",
      "source": [
        "**Created by Paul A. Gureghian on 11/24/18.**\n",
        "\n",
        "**This notebook has the code to train a PyTorch deep learning network,**\n",
        "\n",
        "**which makes it a 'smart' network.**\n",
        "\n",
        "**I will show it real data, then adjust the network parameters.**"
      ]
    },
    {
      "metadata": {
        "id": "ClNkEiwV9k_Z",
        "colab_type": "code",
        "outputId": "ed23db83-e385-4a38-df37-6fa29533316a",
        "colab": {
          "base_uri": "https://localhost:8080/",
          "height": 54
        }
      },
      "cell_type": "code",
      "source": [
        "### Install PyTorch and Torchvision \n",
        "!pip3 install -U -q torchvision \n",
        "!pip3 install -U -q http://download.pytorch.org/whl/cu92/torch-0.4.1-cp36-cp36m-linux_x86_64.whl"
      ],
      "execution_count": 25,
      "outputs": [
        {
          "output_type": "stream",
          "text": [
            "tcmalloc: large alloc 1073750016 bytes == 0x57f54000 @  0x7fdd1cc082a4 0x591a07 0x5b5d56 0x502e9a 0x506859 0x502209 0x502f3d 0x506859 0x504c28 0x502540 0x502f3d 0x506859 0x504c28 0x502540 0x502f3d 0x506859 0x504c28 0x502540 0x502f3d 0x507641 0x502209 0x502f3d 0x506859 0x504c28 0x502540 0x502f3d 0x507641 0x504c28 0x502540 0x502f3d 0x507641\n"
          ],
          "name": "stdout"
        }
      ]
    },
    {
      "metadata": {
        "id": "laYvMkqzNNDz",
        "colab_type": "code",
        "colab": {}
      },
      "cell_type": "code",
      "source": [
        "### Import packages\n",
        "import torch\n",
        "from torch import nn\n",
        "from torch import optim\n",
        "import torch.nn.functional as F\n",
        "from torchvision import  datasets, transforms"
      ],
      "execution_count": 0,
      "outputs": []
    },
    {
      "metadata": {
        "id": "1DIlAZYbOuev",
        "colab_type": "code",
        "colab": {}
      },
      "cell_type": "code",
      "source": [
        "### Define a transform to normalize the data\n",
        "transform = transforms.Compose([transforms.ToTensor(), transforms.Normalize((0.5, 0.5, 0.5), (0.5, 0.5, 0.5)),])\n",
        "\n",
        "### Download and load the training data\n",
        "trainset = datasets.MNIST('~/.pytorch/MNIST_data/', download=True, train=True, transform=transform)\n",
        "trainloader = torch.utils.data.DataLoader(trainset, batch_size=64, shuffle=True)"
      ],
      "execution_count": 0,
      "outputs": []
    },
    {
      "metadata": {
        "id": "Jox_kTMlP0XE",
        "colab_type": "code",
        "colab": {}
      },
      "cell_type": "code",
      "source": [
        "### Build a feed-forward network\n",
        "model = nn.Sequential(nn.Linear(784, 128),\n",
        "                      nn.ReLU(),\n",
        "                      nn.Linear(128, 64),\n",
        "                      nn.ReLU(),\n",
        "                      nn.Linear(64, 10),\n",
        "                      nn.LogSoftmax(dim=1))                       "
      ],
      "execution_count": 0,
      "outputs": []
    },
    {
      "metadata": {
        "id": "-aLtbjYF7qOv",
        "colab_type": "code",
        "colab": {
          "base_uri": "https://localhost:8080/",
          "height": 170
        },
        "outputId": "7d4bab96-78b4-4d8d-85d3-d920c444b194"
      },
      "cell_type": "code",
      "source": [
        "### Print the 'weights' before training\n",
        "\n",
        "print(\"Initial weights - \", model[0].weight)"
      ],
      "execution_count": 29,
      "outputs": [
        {
          "output_type": "stream",
          "text": [
            "Initial weights -  Parameter containing:\n",
            "tensor([[ 0.0213,  0.0127,  0.0309,  ...,  0.0017,  0.0326, -0.0152],\n",
            "        [ 0.0212,  0.0312,  0.0068,  ..., -0.0157, -0.0008, -0.0136],\n",
            "        [ 0.0085,  0.0251,  0.0048,  ..., -0.0320, -0.0143,  0.0060],\n",
            "        ...,\n",
            "        [ 0.0179, -0.0135,  0.0323,  ...,  0.0085, -0.0206, -0.0239],\n",
            "        [-0.0248,  0.0152, -0.0054,  ...,  0.0306,  0.0276, -0.0026],\n",
            "        [-0.0215, -0.0163, -0.0134,  ..., -0.0115, -0.0143, -0.0100]],\n",
            "       requires_grad=True)\n"
          ],
          "name": "stdout"
        }
      ]
    },
    {
      "metadata": {
        "id": "-xnTDK-aR519",
        "colab_type": "code",
        "colab": {}
      },
      "cell_type": "code",
      "source": [
        "### Define an optimizer and a learning rate\n",
        "optimizer = optim.SGD(model.parameters(), lr=0.003)\n",
        "\n",
        "### Define the loss\n",
        "criterion = nn.NLLLoss() "
      ],
      "execution_count": 0,
      "outputs": []
    },
    {
      "metadata": {
        "id": "vkAlelzaSRle",
        "colab_type": "code",
        "colab": {
          "base_uri": "https://localhost:8080/",
          "height": 34
        },
        "outputId": "91eace33-b1b0-474f-94ed-3403742b42f3"
      },
      "cell_type": "code",
      "source": [
        "### Iterate over all the dataset images\n",
        "epochs = 5\n",
        "for e in range(epochs):\n",
        "    running_loss = 0\n",
        "    for images, labels in trainloader:\n",
        "      \n",
        "        ### flatten images into a 784 long vector\n",
        "        images = images.view(images.shape[0], -1)\n",
        "\n",
        "        ### clear the gradients\n",
        "        optimizer.zero_grad()\n",
        "\n",
        "        ### forward pass through the network\n",
        "        ### get the network output\n",
        "        output = model(images)\n",
        "\n",
        "        ### calculate the loss with the logps and labels\n",
        "        loss = criterion(output, labels)\n",
        " \n",
        "        ### backward pass through the network \n",
        "        loss.backward()\n",
        "      \n",
        "        ### update the weights\n",
        "        optimizer.step()\n",
        "\n",
        "        running_loss += loss.item()\n",
        "else:\n",
        "        print(f\"Training loss:  {running_loss/len(trainloader)}\") "
      ],
      "execution_count": 31,
      "outputs": [
        {
          "output_type": "stream",
          "text": [
            "Training loss:  0.37537118576482925\n"
          ],
          "name": "stdout"
        }
      ]
    },
    {
      "metadata": {
        "id": "oCA3MPO4q-Ki",
        "colab_type": "text"
      },
      "cell_type": "markdown",
      "source": [
        "**Autograd.** "
      ]
    },
    {
      "metadata": {
        "id": "A70GZm7ZrGIp",
        "colab_type": "code",
        "outputId": "406b2bce-1101-422b-ec74-fba596a5e218",
        "colab": {
          "base_uri": "https://localhost:8080/",
          "height": 51
        }
      },
      "cell_type": "code",
      "source": [
        "### some autograd examples\n",
        "\n",
        "x = torch.randn(2, 2, requires_grad=True)\n",
        "print(x)"
      ],
      "execution_count": 32,
      "outputs": [
        {
          "output_type": "stream",
          "text": [
            "tensor([[-1.3703, -0.7818],\n",
            "        [-0.1143,  1.0356]], requires_grad=True)\n"
          ],
          "name": "stdout"
        }
      ]
    },
    {
      "metadata": {
        "id": "6D4NCx-Pv2uY",
        "colab_type": "code",
        "outputId": "f478c384-6bc4-4c3c-de5f-141c5fa6d640",
        "colab": {
          "base_uri": "https://localhost:8080/",
          "height": 51
        }
      },
      "cell_type": "code",
      "source": [
        "y = x**2\n",
        "print(y)  "
      ],
      "execution_count": 33,
      "outputs": [
        {
          "output_type": "stream",
          "text": [
            "tensor([[1.8778, 0.6112],\n",
            "        [0.0131, 1.0724]], grad_fn=<PowBackward0>)\n"
          ],
          "name": "stdout"
        }
      ]
    },
    {
      "metadata": {
        "id": "f1U0rt6DyO3-",
        "colab_type": "code",
        "outputId": "e5eab8aa-1075-494c-b600-eaca39d3de43",
        "colab": {
          "base_uri": "https://localhost:8080/",
          "height": 34
        }
      },
      "cell_type": "code",
      "source": [
        "### grad_fn shows the function that generated the 'y' variable\n",
        "\n",
        "print(y.grad_fn)"
      ],
      "execution_count": 34,
      "outputs": [
        {
          "output_type": "stream",
          "text": [
            "<PowBackward0 object at 0x7fb46f54f860>\n"
          ],
          "name": "stdout"
        }
      ]
    },
    {
      "metadata": {
        "id": "0uzMWUkjzDF8",
        "colab_type": "code",
        "outputId": "5e1c2e99-0a08-4354-d732-17d31b64dd3d",
        "colab": {
          "base_uri": "https://localhost:8080/",
          "height": 34
        }
      },
      "cell_type": "code",
      "source": [
        "### scale the 'y' tensor to a scalar\n",
        "\n",
        "z = y.mean()\n",
        "print(z)"
      ],
      "execution_count": 35,
      "outputs": [
        {
          "output_type": "stream",
          "text": [
            "tensor(0.8936, grad_fn=<MeanBackward1>)\n"
          ],
          "name": "stdout"
        }
      ]
    },
    {
      "metadata": {
        "id": "BaVQgjVSzpNG",
        "colab_type": "code",
        "outputId": "51f577ba-4af1-4fd4-c7eb-bc1fd5bac7d4",
        "colab": {
          "base_uri": "https://localhost:8080/",
          "height": 34
        }
      },
      "cell_type": "code",
      "source": [
        "### check the gradient for 'x'\n",
        "\n",
        "print(x.grad)"
      ],
      "execution_count": 36,
      "outputs": [
        {
          "output_type": "stream",
          "text": [
            "None\n"
          ],
          "name": "stdout"
        }
      ]
    },
    {
      "metadata": {
        "id": "LGR9r9_10ANc",
        "colab_type": "code",
        "outputId": "37034cdd-7d69-4780-d4b5-6ce57aec5a5c",
        "colab": {
          "base_uri": "https://localhost:8080/",
          "height": 85
        }
      },
      "cell_type": "code",
      "source": [
        "### calculate the gradient for 'z' with respect to 'x'\n",
        "\n",
        "z.backward()\n",
        "print(x.grad)\n",
        "print(x/2) "
      ],
      "execution_count": 37,
      "outputs": [
        {
          "output_type": "stream",
          "text": [
            "tensor([[-0.6852, -0.3909],\n",
            "        [-0.0571,  0.5178]])\n",
            "tensor([[-0.6852, -0.3909],\n",
            "        [-0.0571,  0.5178]], grad_fn=<DivBackward0>)\n"
          ],
          "name": "stdout"
        }
      ]
    }
  ]
}