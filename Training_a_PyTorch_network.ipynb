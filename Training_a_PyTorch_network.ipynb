{
  "nbformat": 4,
  "nbformat_minor": 0,
  "metadata": {
    "colab": {
      "name": "Training a PyTorch network.ipynb",
      "version": "0.3.2",
      "provenance": [],
      "collapsed_sections": [],
      "include_colab_link": true
    },
    "kernelspec": {
      "name": "python3",
      "display_name": "Python 3"
    },
    "accelerator": "GPU"
  },
  "cells": [
    {
      "cell_type": "markdown",
      "metadata": {
        "id": "view-in-github",
        "colab_type": "text"
      },
      "source": [
        "<a href=\"https://colab.research.google.com/github/paulgureghian/Google_Colab_Notebooks/blob/master/Training_a_PyTorch_network.ipynb\" target=\"_parent\"><img src=\"https://colab.research.google.com/assets/colab-badge.svg\" alt=\"Open In Colab\"/></a>"
      ]
    },
    {
      "metadata": {
        "id": "U8zIDwQqFxBq",
        "colab_type": "text"
      },
      "cell_type": "markdown",
      "source": [
        "**Created by Paul A. Gureghian on 11/24/18.**\n",
        "\n",
        "**This notebook has the code to train a PyTorch deep learning network,**\n",
        "\n",
        "**which makes it a 'smart' network.**\n",
        "\n",
        "**I will show it real data, then adjust the network parameters.**"
      ]
    },
    {
      "metadata": {
        "id": "ClNkEiwV9k_Z",
        "colab_type": "code",
        "outputId": "4c3b1c83-714d-45ea-b575-1577efe73378",
        "colab": {
          "base_uri": "https://localhost:8080/",
          "height": 54
        }
      },
      "cell_type": "code",
      "source": [
        "### Install PyTorch and Torchvision \n",
        "!pip3 install -U -q torchvision \n",
        "!pip3 install -U -q http://download.pytorch.org/whl/cu92/torch-0.4.1-cp36-cp36m-linux_x86_64.whl"
      ],
      "execution_count": 60,
      "outputs": [
        {
          "output_type": "stream",
          "text": [
            "tcmalloc: large alloc 1073750016 bytes == 0x583d4000 @  0x7efe1a1062a4 0x591a07 0x5b5d56 0x502e9a 0x506859 0x502209 0x502f3d 0x506859 0x504c28 0x502540 0x502f3d 0x506859 0x504c28 0x502540 0x502f3d 0x506859 0x504c28 0x502540 0x502f3d 0x507641 0x502209 0x502f3d 0x506859 0x504c28 0x502540 0x502f3d 0x507641 0x504c28 0x502540 0x502f3d 0x507641\n"
          ],
          "name": "stdout"
        }
      ]
    },
    {
      "metadata": {
        "id": "laYvMkqzNNDz",
        "colab_type": "code",
        "colab": {}
      },
      "cell_type": "code",
      "source": [
        "### Import packages\n",
        "import torch\n",
        "import numpy as np\n",
        "from torch import nn\n",
        "from torch import optim\n",
        "import torch.nn.functional as F\n",
        "import matplotlib.pyplot as plt\n",
        "from torchvision import  datasets, transforms"
      ],
      "execution_count": 0,
      "outputs": []
    },
    {
      "metadata": {
        "id": "1DIlAZYbOuev",
        "colab_type": "code",
        "colab": {}
      },
      "cell_type": "code",
      "source": [
        "### Define a transform to normalize the data\n",
        "transform = transforms.Compose([transforms.ToTensor(), transforms.Normalize((0.5, 0.5, 0.5), (0.5, 0.5, 0.5)),])\n",
        "\n",
        "### Download and load the training data\n",
        "trainset = datasets.MNIST('~/.pytorch/MNIST_data/', download=True, train=True, transform=transform)\n",
        "trainloader = torch.utils.data.DataLoader(trainset, batch_size=64, shuffle=True)"
      ],
      "execution_count": 0,
      "outputs": []
    },
    {
      "metadata": {
        "id": "Jox_kTMlP0XE",
        "colab_type": "code",
        "colab": {
          "base_uri": "https://localhost:8080/",
          "height": 238
        },
        "outputId": "ba08ede1-2443-4112-97ca-7324ee165f68"
      },
      "cell_type": "code",
      "source": [
        "### Build a feed-forward network\n",
        "model = nn.Sequential(nn.Linear(784, 128),\n",
        "                      nn.ReLU(),\n",
        "                      nn.Linear(128, 64),\n",
        "                      nn.ReLU(),\n",
        "                      nn.Linear(64, 10),\n",
        "                      nn.LogSoftmax(dim=1))\n",
        "\n",
        "criterion = nn.NLLLoss()\n",
        "images, labels = next(iter(trainloader))\n",
        "images = images.view(images.shape[0], -1)\n",
        "\n",
        "logps = model(images)\n",
        "loss = criterion(logps, labels)\n",
        "print(\"Loss: \", loss)\n",
        "print('')\n",
        "print(\"Before backward pass:\\n \", model[0].weight.grad)\n",
        "print('')\n",
        "loss.backward()\n",
        "print(\"After backward pass:\\n \", model[0].weight.grad)"
      ],
      "execution_count": 63,
      "outputs": [
        {
          "output_type": "stream",
          "text": [
            "Loss:  tensor(2.3109, grad_fn=<NllLossBackward>)\n",
            "\n",
            "Before backward pass:\n",
            "  None\n",
            "\n",
            "After backward pass:\n",
            "  tensor([[-0.0019, -0.0019, -0.0019,  ..., -0.0019, -0.0019, -0.0019],\n",
            "        [-0.0022, -0.0022, -0.0022,  ..., -0.0022, -0.0022, -0.0022],\n",
            "        [ 0.0022,  0.0022,  0.0022,  ...,  0.0022,  0.0022,  0.0022],\n",
            "        ...,\n",
            "        [-0.0033, -0.0033, -0.0033,  ..., -0.0033, -0.0033, -0.0033],\n",
            "        [ 0.0000,  0.0000,  0.0000,  ...,  0.0000,  0.0000,  0.0000],\n",
            "        [-0.0023, -0.0023, -0.0023,  ..., -0.0023, -0.0023, -0.0023]])\n"
          ],
          "name": "stdout"
        }
      ]
    },
    {
      "metadata": {
        "id": "-aLtbjYF7qOv",
        "colab_type": "code",
        "outputId": "4f35acda-3278-4f11-831e-beffb3492c76",
        "colab": {
          "base_uri": "https://localhost:8080/",
          "height": 187
        }
      },
      "cell_type": "code",
      "source": [
        "### Print initial weights before training\n",
        "print(\"Initial weights:\\n \", model[0].weight)"
      ],
      "execution_count": 64,
      "outputs": [
        {
          "output_type": "stream",
          "text": [
            "Initial weights:\n",
            "  Parameter containing:\n",
            "tensor([[-0.0024,  0.0289,  0.0081,  ..., -0.0298,  0.0322,  0.0336],\n",
            "        [-0.0073, -0.0066,  0.0160,  ..., -0.0236, -0.0068, -0.0120],\n",
            "        [ 0.0217, -0.0166,  0.0234,  ..., -0.0029, -0.0205,  0.0110],\n",
            "        ...,\n",
            "        [-0.0184, -0.0003,  0.0324,  ...,  0.0317, -0.0014, -0.0170],\n",
            "        [-0.0013,  0.0272,  0.0309,  ...,  0.0091, -0.0249, -0.0026],\n",
            "        [ 0.0287, -0.0345,  0.0188,  ..., -0.0343, -0.0223, -0.0139]],\n",
            "       requires_grad=True)\n"
          ],
          "name": "stdout"
        }
      ]
    },
    {
      "metadata": {
        "id": "ppJLl63yzrqK",
        "colab_type": "text"
      },
      "cell_type": "markdown",
      "source": [
        "**Now I will put this algorithm into a loop.**"
      ]
    },
    {
      "metadata": {
        "id": "vkAlelzaSRle",
        "colab_type": "code",
        "outputId": "55b9f0d5-fce1-4213-9055-201531f26c77",
        "colab": {
          "base_uri": "https://localhost:8080/",
          "height": 102
        }
      },
      "cell_type": "code",
      "source": [
        "### Iterate over all the dataset images\n",
        "epochs = 5\n",
        "### Define an optimizer and a learning rate\n",
        "optimizer = optim.SGD(model.parameters(), lr=0.003)\n",
        "\n",
        "for e in range(epochs):\n",
        "    running_loss = 0\n",
        "    for images, labels in trainloader:\n",
        "      \n",
        "        ### flatten images into a 784 long vector\n",
        "        images = images.view(images.shape[0], -1)\n",
        "\n",
        "        ### clear the gradients\n",
        "        optimizer.zero_grad()\n",
        "\n",
        "        ### forward pass through the network\n",
        "        ### get the network output\n",
        "        output = model(images)\n",
        "\n",
        "        ### calculate the loss with the logps and labels\n",
        "        loss = criterion(output, labels)       \n",
        "              \n",
        "        ### backward pass through the network \n",
        "        loss.backward()\n",
        "      \n",
        "        ### update the weights\n",
        "        optimizer.step()\n",
        "\n",
        "        running_loss += loss.item()\n",
        "    else:\n",
        "        print(f\"Training loss: {running_loss/len(trainloader)}\") "
      ],
      "execution_count": 65,
      "outputs": [
        {
          "output_type": "stream",
          "text": [
            "Training loss: 1.8310978416440837\n",
            "Training loss: 0.8072923103184588\n",
            "Training loss: 0.5230883436321195\n",
            "Training loss: 0.43013259770074636\n",
            "Training loss: 0.3854167649645541\n"
          ],
          "name": "stdout"
        }
      ]
    },
    {
      "metadata": {
        "id": "2aD4Ep8Tew5E",
        "colab_type": "code",
        "colab": {
          "base_uri": "https://localhost:8080/",
          "height": 187
        },
        "outputId": "d6db137f-8342-4f4f-85da-16b51b85c0ae"
      },
      "cell_type": "code",
      "source": [
        "### After optimizer step\n",
        "print(\"Updated weights:\\n \", model[0].weight)"
      ],
      "execution_count": 66,
      "outputs": [
        {
          "output_type": "stream",
          "text": [
            "Updated weights:\n",
            "  Parameter containing:\n",
            "tensor([[-0.0017,  0.0295,  0.0087,  ..., -0.0291,  0.0329,  0.0343],\n",
            "        [-0.0114, -0.0107,  0.0119,  ..., -0.0277, -0.0109, -0.0161],\n",
            "        [ 0.0150, -0.0233,  0.0167,  ..., -0.0096, -0.0272,  0.0043],\n",
            "        ...,\n",
            "        [-0.0207, -0.0027,  0.0301,  ...,  0.0293, -0.0038, -0.0194],\n",
            "        [-0.0036,  0.0248,  0.0286,  ...,  0.0067, -0.0273, -0.0050],\n",
            "        [ 0.0238, -0.0394,  0.0139,  ..., -0.0392, -0.0272, -0.0188]],\n",
            "       requires_grad=True)\n"
          ],
          "name": "stdout"
        }
      ]
    },
    {
      "metadata": {
        "id": "qCJPdXHmq2Pq",
        "colab_type": "code",
        "colab": {}
      },
      "cell_type": "code",
      "source": [
        "### Define a function 'view_classify'\n",
        "### for viewing an image and its predicted class\n",
        "def view_classify(img, ps, version=\"MNIST\"):\n",
        "    ''' Function for viewing an image and it's predicted classes.\n",
        "    '''\n",
        "    ps = ps.data.numpy().squeeze()\n",
        "\n",
        "    fig, (ax1, ax2) = plt.subplots(figsize=(6,9), ncols=2)\n",
        "    ax1.imshow(img.resize_(1, 28, 28).numpy().squeeze())\n",
        "    ax1.axis('off')\n",
        "    ax2.barh(np.arange(10), ps)\n",
        "    ax2.set_aspect(0.1)\n",
        "    ax2.set_yticks(np.arange(10))\n",
        "    if version == \"MNIST\":\n",
        "        ax2.set_yticklabels(np.arange(10))\n",
        "    elif version == \"Fashion\":\n",
        "        ax2.set_yticklabels(['T-shirt/top',\n",
        "                            'Trouser',\n",
        "                            'Pullover',\n",
        "                            'Dress',\n",
        "                            'Coat',\n",
        "                            'Sandal',\n",
        "                            'Shirt',\n",
        "                            'Sneaker',\n",
        "                            'Bag',\n",
        "                            'Ankle Boot'], size='small');\n",
        "    ax2.set_title('Class Probability')\n",
        "    ax2.set_xlim(0, 1.1)\n",
        "\n",
        "    plt.tight_layout()"
      ],
      "execution_count": 0,
      "outputs": []
    },
    {
      "metadata": {
        "id": "tABKjHVrsIwf",
        "colab_type": "code",
        "outputId": "a2f2c53d-a9ba-4415-8236-97429006b945",
        "colab": {
          "base_uri": "https://localhost:8080/",
          "height": 242
        }
      },
      "cell_type": "code",
      "source": [
        "### Get the predictions of the trained network\n",
        "images, labels = next(iter(trainloader))\n",
        "\n",
        "img = images[0].view(1, 784)\n",
        "\n",
        "with torch.no_grad():\n",
        "  output = model(img)\n",
        "\n",
        "### Get the exponential of the network output   \n",
        "ps = torch.exp(output)  \n",
        "view_classify(img.view(1 ,28, 28), ps)\n"
      ],
      "execution_count": 68,
      "outputs": [
        {
          "output_type": "display_data",
          "data": {
            "image/png": "[encoded data removed]",
            "text/plain": [
              "<matplotlib.figure.Figure at 0x7faedc4c1080>"
            ]
          },
          "metadata": {
            "tags": []
          }
        }
      ]
    },
    {
      "metadata": {
        "id": "oCA3MPO4q-Ki",
        "colab_type": "text"
      },
      "cell_type": "markdown",
      "source": [
        "**Autograd.** "
      ]
    },
    {
      "metadata": {
        "id": "A70GZm7ZrGIp",
        "colab_type": "code",
        "outputId": "964dabc6-9839-42fc-dc00-68751feed6ff",
        "colab": {
          "base_uri": "https://localhost:8080/",
          "height": 51
        }
      },
      "cell_type": "code",
      "source": [
        "### some autograd examples\n",
        "\n",
        "x = torch.randn(2, 2, requires_grad=True)\n",
        "print(x)"
      ],
      "execution_count": 69,
      "outputs": [
        {
          "output_type": "stream",
          "text": [
            "tensor([[ 0.9551,  0.3717],\n",
            "        [-0.5094,  0.1403]], requires_grad=True)\n"
          ],
          "name": "stdout"
        }
      ]
    },
    {
      "metadata": {
        "id": "6D4NCx-Pv2uY",
        "colab_type": "code",
        "outputId": "a176f9e8-36a9-49e3-db8c-9b44b8b26e98",
        "colab": {
          "base_uri": "https://localhost:8080/",
          "height": 51
        }
      },
      "cell_type": "code",
      "source": [
        "y = x**2\n",
        "print(y)  "
      ],
      "execution_count": 70,
      "outputs": [
        {
          "output_type": "stream",
          "text": [
            "tensor([[0.9122, 0.1381],\n",
            "        [0.2595, 0.0197]], grad_fn=<PowBackward0>)\n"
          ],
          "name": "stdout"
        }
      ]
    },
    {
      "metadata": {
        "id": "f1U0rt6DyO3-",
        "colab_type": "code",
        "outputId": "c6a312b3-def9-40f2-d9d8-b6f23ffc78a2",
        "colab": {
          "base_uri": "https://localhost:8080/",
          "height": 34
        }
      },
      "cell_type": "code",
      "source": [
        "### grad_fn shows the function that generated the 'y' variable\n",
        "\n",
        "print(y.grad_fn)"
      ],
      "execution_count": 71,
      "outputs": [
        {
          "output_type": "stream",
          "text": [
            "<PowBackward0 object at 0x7fae901a15f8>\n"
          ],
          "name": "stdout"
        }
      ]
    },
    {
      "metadata": {
        "id": "0uzMWUkjzDF8",
        "colab_type": "code",
        "outputId": "e2a13c6f-98cd-4304-ebb6-e3df98a68ce6",
        "colab": {
          "base_uri": "https://localhost:8080/",
          "height": 34
        }
      },
      "cell_type": "code",
      "source": [
        "### scale the 'y' tensor to a scalar\n",
        "\n",
        "z = y.mean()\n",
        "print(z)"
      ],
      "execution_count": 72,
      "outputs": [
        {
          "output_type": "stream",
          "text": [
            "tensor(0.3324, grad_fn=<MeanBackward1>)\n"
          ],
          "name": "stdout"
        }
      ]
    },
    {
      "metadata": {
        "id": "BaVQgjVSzpNG",
        "colab_type": "code",
        "outputId": "f3984467-d5ae-4a9c-d1d4-28ffed24b136",
        "colab": {
          "base_uri": "https://localhost:8080/",
          "height": 34
        }
      },
      "cell_type": "code",
      "source": [
        "### check the gradient for 'x'\n",
        "\n",
        "print(x.grad)"
      ],
      "execution_count": 73,
      "outputs": [
        {
          "output_type": "stream",
          "text": [
            "None\n"
          ],
          "name": "stdout"
        }
      ]
    },
    {
      "metadata": {
        "id": "LGR9r9_10ANc",
        "colab_type": "code",
        "outputId": "08775207-f886-43aa-ce66-597faef36f22",
        "colab": {
          "base_uri": "https://localhost:8080/",
          "height": 85
        }
      },
      "cell_type": "code",
      "source": [
        "### calculate the gradient for 'z' with respect to 'x'\n",
        "\n",
        "z.backward()\n",
        "print(x.grad)\n",
        "print(x/2) "
      ],
      "execution_count": 74,
      "outputs": [
        {
          "output_type": "stream",
          "text": [
            "tensor([[ 0.4776,  0.1858],\n",
            "        [-0.2547,  0.0702]])\n",
            "tensor([[ 0.4776,  0.1858],\n",
            "        [-0.2547,  0.0702]], grad_fn=<DivBackward0>)\n"
          ],
          "name": "stdout"
        }
      ]
    }
  ]
}