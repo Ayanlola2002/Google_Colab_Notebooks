{
  "nbformat": 4,
  "nbformat_minor": 0,
  "metadata": {
    "colab": {
      "name": "Training a PyTorch network.ipynb",
      "version": "0.3.2",
      "provenance": [],
      "collapsed_sections": [],
      "include_colab_link": true
    },
    "kernelspec": {
      "name": "python3",
      "display_name": "Python 3"
    },
    "accelerator": "GPU"
  },
  "cells": [
    {
      "cell_type": "markdown",
      "metadata": {
        "id": "view-in-github",
        "colab_type": "text"
      },
      "source": [
        "<a href=\"https://colab.research.google.com/github/paulgureghian/Google_Colab_Notebooks/blob/master/Training_a_PyTorch_network.ipynb\" target=\"_parent\"><img src=\"https://colab.research.google.com/assets/colab-badge.svg\" alt=\"Open In Colab\"/></a>"
      ]
    },
    {
      "metadata": {
        "id": "U8zIDwQqFxBq",
        "colab_type": "text"
      },
      "cell_type": "markdown",
      "source": [
        "**Created by Paul A. Gureghian on 11/24/18.**\n",
        "\n",
        "**This notebook has the code to train a PyTorch deep learning network,**\n",
        "\n",
        "**which makes it a 'smart' network.**\n",
        "\n",
        "**I will show it real data, then adjust the network parameters.**"
      ]
    },
    {
      "metadata": {
        "id": "ClNkEiwV9k_Z",
        "colab_type": "code",
        "outputId": "9dc3e3f1-1a9e-4dc7-c7ee-c02f8f8f272d",
        "colab": {
          "base_uri": "https://localhost:8080/",
          "height": 54
        }
      },
      "cell_type": "code",
      "source": [
        "### Install PyTorch and Torchvision \n",
        "!pip3 install -U -q torchvision \n",
        "!pip3 install -U -q http://download.pytorch.org/whl/cu92/torch-0.4.1-cp36-cp36m-linux_x86_64.whl"
      ],
      "execution_count": 58,
      "outputs": [
        {
          "output_type": "stream",
          "text": [
            "tcmalloc: large alloc 1073750016 bytes == 0x58e90000 @  0x7f33afc022a4 0x591a07 0x5b5d56 0x502e9a 0x506859 0x502209 0x502f3d 0x506859 0x504c28 0x502540 0x502f3d 0x506859 0x504c28 0x502540 0x502f3d 0x506859 0x504c28 0x502540 0x502f3d 0x507641 0x502209 0x502f3d 0x506859 0x504c28 0x502540 0x502f3d 0x507641 0x504c28 0x502540 0x502f3d 0x507641\n"
          ],
          "name": "stdout"
        }
      ]
    },
    {
      "metadata": {
        "id": "laYvMkqzNNDz",
        "colab_type": "code",
        "colab": {}
      },
      "cell_type": "code",
      "source": [
        "### Import packages\n",
        "import torch\n",
        "import numpy as np\n",
        "from torch import nn\n",
        "from torch import optim\n",
        "import torch.nn.functional as F\n",
        "import matplotlib.pyplot as plt\n",
        "from torchvision import  datasets, transforms"
      ],
      "execution_count": 0,
      "outputs": []
    },
    {
      "metadata": {
        "id": "1DIlAZYbOuev",
        "colab_type": "code",
        "colab": {}
      },
      "cell_type": "code",
      "source": [
        "### Define a transform to normalize the data\n",
        "transform = transforms.Compose([transforms.ToTensor(), transforms.Normalize((0.5, 0.5, 0.5), (0.5, 0.5, 0.5)),])\n",
        "\n",
        "### Download and load the training data\n",
        "trainset = datasets.MNIST('~/.pytorch/MNIST_data/', download=True, train=True, transform=transform)\n",
        "trainloader = torch.utils.data.DataLoader(trainset, batch_size=64, shuffle=True)"
      ],
      "execution_count": 0,
      "outputs": []
    },
    {
      "metadata": {
        "id": "Jox_kTMlP0XE",
        "colab_type": "code",
        "colab": {}
      },
      "cell_type": "code",
      "source": [
        "### Build a feed-forward network\n",
        "model = nn.Sequential(nn.Linear(784, 128),\n",
        "                      nn.ReLU(),\n",
        "                      nn.Linear(128, 64),\n",
        "                      nn.ReLU(),\n",
        "                      nn.Linear(64, 10),\n",
        "                      nn.LogSoftmax(dim=1))                       "
      ],
      "execution_count": 0,
      "outputs": []
    },
    {
      "metadata": {
        "id": "-aLtbjYF7qOv",
        "colab_type": "code",
        "colab": {
          "base_uri": "https://localhost:8080/",
          "height": 170
        },
        "outputId": "5919445c-e3a4-4e03-eaeb-3ca65f0d88b2"
      },
      "cell_type": "code",
      "source": [
        "### Print the 'weights' before training\n",
        "\n",
        "print(\"Initial weights - \", model[0].weight)"
      ],
      "execution_count": 62,
      "outputs": [
        {
          "output_type": "stream",
          "text": [
            "Initial weights -  Parameter containing:\n",
            "tensor([[ 0.0152, -0.0055, -0.0056,  ...,  0.0319, -0.0027, -0.0100],\n",
            "        [-0.0183,  0.0057, -0.0058,  ...,  0.0181,  0.0061,  0.0169],\n",
            "        [ 0.0125, -0.0026, -0.0042,  ...,  0.0281,  0.0014, -0.0305],\n",
            "        ...,\n",
            "        [ 0.0096, -0.0295,  0.0030,  ...,  0.0069,  0.0168, -0.0251],\n",
            "        [ 0.0037, -0.0268,  0.0205,  ..., -0.0140, -0.0267,  0.0197],\n",
            "        [-0.0024, -0.0287,  0.0064,  ...,  0.0124, -0.0014,  0.0201]],\n",
            "       requires_grad=True)\n"
          ],
          "name": "stdout"
        }
      ]
    },
    {
      "metadata": {
        "id": "-xnTDK-aR519",
        "colab_type": "code",
        "colab": {}
      },
      "cell_type": "code",
      "source": [
        "### Define an optimizer and a learning rate\n",
        "optimizer = optim.SGD(model.parameters(), lr=0.003)\n",
        "\n",
        "### Define the loss\n",
        "criterion = nn.NLLLoss() "
      ],
      "execution_count": 0,
      "outputs": []
    },
    {
      "metadata": {
        "id": "vkAlelzaSRle",
        "colab_type": "code",
        "colab": {
          "base_uri": "https://localhost:8080/",
          "height": 102
        },
        "outputId": "addeafe1-9d5e-4a10-955c-8bce67db5319"
      },
      "cell_type": "code",
      "source": [
        "### Iterate over all the dataset images\n",
        "epochs = 5\n",
        "for e in range(epochs):\n",
        "    running_loss = 0\n",
        "    for images, labels in trainloader:\n",
        "      \n",
        "        ### flatten images into a 784 long vector\n",
        "        images = images.view(images.shape[0], -1)\n",
        "\n",
        "        ### clear the gradients\n",
        "        optimizer.zero_grad()\n",
        "\n",
        "        ### forward pass through the network\n",
        "        ### get the network output\n",
        "        output = model(images)\n",
        "\n",
        "        ### calculate the loss with the logps and labels\n",
        "        loss = criterion(output, labels)\n",
        " \n",
        "        ### backward pass through the network \n",
        "        loss.backward()\n",
        "      \n",
        "        ### update the weights\n",
        "        optimizer.step()\n",
        "\n",
        "        running_loss += loss.item()\n",
        "    else:\n",
        "        print(f\"Training loss: {running_loss/len(trainloader)}\") "
      ],
      "execution_count": 64,
      "outputs": [
        {
          "output_type": "stream",
          "text": [
            "Training loss: 1.8938712077354318\n",
            "Training loss: 0.8219142381125676\n",
            "Training loss: 0.5223294295259376\n",
            "Training loss: 0.4328203913150057\n",
            "Training loss: 0.3876909602489044\n"
          ],
          "name": "stdout"
        }
      ]
    },
    {
      "metadata": {
        "id": "qCJPdXHmq2Pq",
        "colab_type": "code",
        "colab": {}
      },
      "cell_type": "code",
      "source": [
        "### Define a function 'view_classify'\n",
        "### for viewing an image and its predicted classe\n",
        "def view_classify(img, ps, version=\"MNIST\"):\n",
        "    ''' Function for viewing an image and it's predicted classes.\n",
        "    '''\n",
        "    ps = ps.data.numpy().squeeze()\n",
        "\n",
        "    fig, (ax1, ax2) = plt.subplots(figsize=(6,9), ncols=2)\n",
        "    ax1.imshow(img.resize_(1, 28, 28).numpy().squeeze())\n",
        "    ax1.axis('off')\n",
        "    ax2.barh(np.arange(10), ps)\n",
        "    ax2.set_aspect(0.1)\n",
        "    ax2.set_yticks(np.arange(10))\n",
        "    if version == \"MNIST\":\n",
        "        ax2.set_yticklabels(np.arange(10))\n",
        "    elif version == \"Fashion\":\n",
        "        ax2.set_yticklabels(['T-shirt/top',\n",
        "                            'Trouser',\n",
        "                            'Pullover',\n",
        "                            'Dress',\n",
        "                            'Coat',\n",
        "                            'Sandal',\n",
        "                            'Shirt',\n",
        "                            'Sneaker',\n",
        "                            'Bag',\n",
        "                            'Ankle Boot'], size='small');\n",
        "    ax2.set_title('Class Probability')\n",
        "    ax2.set_xlim(0, 1.1)\n",
        "\n",
        "    plt.tight_layout()"
      ],
      "execution_count": 0,
      "outputs": []
    },
    {
      "metadata": {
        "id": "tABKjHVrsIwf",
        "colab_type": "code",
        "colab": {
          "base_uri": "https://localhost:8080/",
          "height": 242
        },
        "outputId": "744f80ac-53ee-44c6-ac8f-ce7968e7b6ce"
      },
      "cell_type": "code",
      "source": [
        "### get the predictions of the trained network\n",
        "images, labels = next(iter(trainloader))\n",
        "\n",
        "img = images[0].view(1, 784)\n",
        "\n",
        "with torch.no_grad():\n",
        "  output = model(img)\n",
        "\n",
        "### Get the exponential of the network output   \n",
        "ps = torch.exp(output)  \n",
        "view_classify(img.view(1 ,28, 28), ps)\n"
      ],
      "execution_count": 66,
      "outputs": [
        {
          "output_type": "display_data",
          "data": {
            "image/png": "[encoded data removed]",
            "text/plain": [
              "<matplotlib.figure.Figure at 0x7fb46f438518>"
            ]
          },
          "metadata": {
            "tags": []
          }
        }
      ]
    },
    {
      "metadata": {
        "id": "oCA3MPO4q-Ki",
        "colab_type": "text"
      },
      "cell_type": "markdown",
      "source": [
        "**Autograd.** "
      ]
    },
    {
      "metadata": {
        "id": "A70GZm7ZrGIp",
        "colab_type": "code",
        "outputId": "89b2572b-f6c5-4321-9c4b-5ea32f29a24a",
        "colab": {
          "base_uri": "https://localhost:8080/",
          "height": 51
        }
      },
      "cell_type": "code",
      "source": [
        "### some autograd examples\n",
        "\n",
        "x = torch.randn(2, 2, requires_grad=True)\n",
        "print(x)"
      ],
      "execution_count": 67,
      "outputs": [
        {
          "output_type": "stream",
          "text": [
            "tensor([[ 0.4736, -0.2627],\n",
            "        [-0.2746, -0.6587]], requires_grad=True)\n"
          ],
          "name": "stdout"
        }
      ]
    },
    {
      "metadata": {
        "id": "6D4NCx-Pv2uY",
        "colab_type": "code",
        "outputId": "2ebb5fa6-40e2-4e6e-f281-07dec232caba",
        "colab": {
          "base_uri": "https://localhost:8080/",
          "height": 51
        }
      },
      "cell_type": "code",
      "source": [
        "y = x**2\n",
        "print(y)  "
      ],
      "execution_count": 68,
      "outputs": [
        {
          "output_type": "stream",
          "text": [
            "tensor([[0.2243, 0.0690],\n",
            "        [0.0754, 0.4338]], grad_fn=<PowBackward0>)\n"
          ],
          "name": "stdout"
        }
      ]
    },
    {
      "metadata": {
        "id": "f1U0rt6DyO3-",
        "colab_type": "code",
        "outputId": "7ce79bd1-5e7c-48f6-f547-d7f9a29fc9ca",
        "colab": {
          "base_uri": "https://localhost:8080/",
          "height": 34
        }
      },
      "cell_type": "code",
      "source": [
        "### grad_fn shows the function that generated the 'y' variable\n",
        "\n",
        "print(y.grad_fn)"
      ],
      "execution_count": 69,
      "outputs": [
        {
          "output_type": "stream",
          "text": [
            "<PowBackward0 object at 0x7fb46f457be0>\n"
          ],
          "name": "stdout"
        }
      ]
    },
    {
      "metadata": {
        "id": "0uzMWUkjzDF8",
        "colab_type": "code",
        "outputId": "235cc36f-0ce7-48a9-9624-5d81137429ff",
        "colab": {
          "base_uri": "https://localhost:8080/",
          "height": 34
        }
      },
      "cell_type": "code",
      "source": [
        "### scale the 'y' tensor to a scalar\n",
        "\n",
        "z = y.mean()\n",
        "print(z)"
      ],
      "execution_count": 70,
      "outputs": [
        {
          "output_type": "stream",
          "text": [
            "tensor(0.2006, grad_fn=<MeanBackward1>)\n"
          ],
          "name": "stdout"
        }
      ]
    },
    {
      "metadata": {
        "id": "BaVQgjVSzpNG",
        "colab_type": "code",
        "outputId": "23f30e14-d3b6-41ed-b5eb-3e6f89b28a21",
        "colab": {
          "base_uri": "https://localhost:8080/",
          "height": 34
        }
      },
      "cell_type": "code",
      "source": [
        "### check the gradient for 'x'\n",
        "\n",
        "print(x.grad)"
      ],
      "execution_count": 71,
      "outputs": [
        {
          "output_type": "stream",
          "text": [
            "None\n"
          ],
          "name": "stdout"
        }
      ]
    },
    {
      "metadata": {
        "id": "LGR9r9_10ANc",
        "colab_type": "code",
        "outputId": "8332a681-d1f2-4807-eb47-83c704664501",
        "colab": {
          "base_uri": "https://localhost:8080/",
          "height": 85
        }
      },
      "cell_type": "code",
      "source": [
        "### calculate the gradient for 'z' with respect to 'x'\n",
        "\n",
        "z.backward()\n",
        "print(x.grad)\n",
        "print(x/2) "
      ],
      "execution_count": 72,
      "outputs": [
        {
          "output_type": "stream",
          "text": [
            "tensor([[ 0.2368, -0.1314],\n",
            "        [-0.1373, -0.3293]])\n",
            "tensor([[ 0.2368, -0.1314],\n",
            "        [-0.1373, -0.3293]], grad_fn=<DivBackward0>)\n"
          ],
          "name": "stdout"
        }
      ]
    }
  ]
}