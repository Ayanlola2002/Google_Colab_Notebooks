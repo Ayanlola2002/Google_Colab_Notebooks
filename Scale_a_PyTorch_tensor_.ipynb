{
  "nbformat": 4,
  "nbformat_minor": 0,
  "metadata": {
    "colab": {
      "name": "Scale a PyTorch tensor .ipynb",
      "version": "0.3.2",
      "provenance": [],
      "collapsed_sections": [],
      "include_colab_link": true
    },
    "kernelspec": {
      "name": "python3",
      "display_name": "Python 3"
    },
    "accelerator": "GPU"
  },
  "cells": [
    {
      "cell_type": "markdown",
      "metadata": {
        "id": "view-in-github",
        "colab_type": "text"
      },
      "source": [
        "<a href=\"https://colab.research.google.com/github/paulgureghian/Google_Colab_Notebooks/blob/master/Scale_a_PyTorch_tensor_.ipynb\" target=\"_parent\"><img src=\"https://colab.research.google.com/assets/colab-badge.svg\" alt=\"Open In Colab\"/></a>"
      ]
    },
    {
      "metadata": {
        "id": "p5zoIooclyBf",
        "colab_type": "text"
      },
      "cell_type": "markdown",
      "source": [
        "**Created by Paul A. Gureghian on 11/29/18.**\n",
        "\n",
        "**This notebook tutorial shows how to fill a PyTorch tensor**\n",
        "\n",
        "**with a certain scalar using the PyTorch fill operation.**"
      ]
    },
    {
      "metadata": {
        "id": "GG3Pdl4emiFf",
        "colab_type": "code",
        "colab": {}
      },
      "cell_type": "code",
      "source": [
        "### Install PyTorch and CUDA\n",
        "# http://pytorch.org/\n",
        "from os.path import exists\n",
        "from wheel.pep425tags import get_abbr_impl, get_impl_ver, get_abi_tag\n",
        "platform = '{}{}-{}'.format(get_abbr_impl(), get_impl_ver(), get_abi_tag())\n",
        "cuda_output = !ldconfig -p|grep cudart.so|sed -e 's/.*\\.\\([0-9]*\\)\\.\\([0-9]*\\)$/cu\\1\\2/'\n",
        "accelerator = cuda_output[0] if exists('/dev/nvidia0') else 'cpu'\n",
        "\n",
        "!pip install -q http://download.pytorch.org/whl/{accelerator}/torch-0.4.1-{platform}-linux_x86_64.whl torchvision\n",
        "import torch"
      ],
      "execution_count": 0,
      "outputs": []
    },
    {
      "metadata": {
        "id": "RfqnMgJOqNAm",
        "colab_type": "code",
        "colab": {}
      },
      "cell_type": "code",
      "source": [
        "### Import Torch\n",
        "import torch"
      ],
      "execution_count": 0,
      "outputs": []
    },
    {
      "metadata": {
        "id": "UamGZs1aqWx_",
        "colab_type": "code",
        "colab": {
          "base_uri": "https://localhost:8080/",
          "height": 34
        },
        "outputId": "55fac735-e055-4172-c970-f8c7d0c7eb88"
      },
      "cell_type": "code",
      "source": [
        "### Print the Torch version \n",
        "print(torch.__version__)"
      ],
      "execution_count": 12,
      "outputs": [
        {
          "output_type": "stream",
          "text": [
            "0.4.1\n"
          ],
          "name": "stdout"
        }
      ]
    },
    {
      "metadata": {
        "id": "iQEYZGVCqjuD",
        "colab_type": "code",
        "colab": {}
      },
      "cell_type": "code",
      "source": [
        "### Initialize a PyTorch tensor \n",
        "pt_tensor_empty_ex = torch.Tensor(2, 4, 6)"
      ],
      "execution_count": 0,
      "outputs": []
    },
    {
      "metadata": {
        "id": "CUyOmK9Nq_dK",
        "colab_type": "code",
        "colab": {
          "base_uri": "https://localhost:8080/",
          "height": 306
        },
        "outputId": "99b233cd-f7bc-439f-8ccf-4f6159d153db"
      },
      "cell_type": "code",
      "source": [
        "### Print the Tensor \n",
        "print(pt_tensor_empty_ex)"
      ],
      "execution_count": 14,
      "outputs": [
        {
          "output_type": "stream",
          "text": [
            "tensor([[[ 2.2136e-37,  0.0000e+00,  0.0000e+00,  1.4013e-45,  0.0000e+00,\n",
            "           0.0000e+00],\n",
            "         [ 7.2051e-37,  0.0000e+00, -9.0871e-09,  4.5736e-41,  7.2532e-37,\n",
            "           0.0000e+00],\n",
            "         [-1.6912e-37,  4.5736e-41,  0.0000e+00,  0.0000e+00,  0.0000e+00,\n",
            "           0.0000e+00],\n",
            "         [ 0.0000e+00,  0.0000e+00,  0.0000e+00,  0.0000e+00,  7.8435e-37,\n",
            "           0.0000e+00]],\n",
            "\n",
            "        [[ 7.8435e-37,  0.0000e+00,  0.0000e+00,  0.0000e+00,  0.0000e+00,\n",
            "           0.0000e+00],\n",
            "         [ 0.0000e+00,  0.0000e+00,  7.5514e+28,  0.0000e+00,  0.0000e+00,\n",
            "           0.0000e+00],\n",
            "         [ 0.0000e+00,  0.0000e+00,  0.0000e+00,  0.0000e+00,  0.0000e+00,\n",
            "           0.0000e+00],\n",
            "         [ 0.0000e+00,  0.0000e+00,  0.0000e+00,  0.0000e+00,  0.0000e+00,\n",
            "           0.0000e+00]]])\n"
          ],
          "name": "stdout"
        }
      ]
    },
    {
      "metadata": {
        "id": "_YDsZoHdrp17",
        "colab_type": "code",
        "colab": {}
      },
      "cell_type": "code",
      "source": [
        "### Fill the Tensor with the scalar 12345\n",
        "pt_tensor_filled_ex = pt_tensor_empty_ex.fill_(12345) "
      ],
      "execution_count": 0,
      "outputs": []
    },
    {
      "metadata": {
        "id": "DXMShgmJsKxx",
        "colab_type": "code",
        "colab": {
          "base_uri": "https://localhost:8080/",
          "height": 170
        },
        "outputId": "d11280b8-8a3f-43b9-c663-cc3cc3a4cc48"
      },
      "cell_type": "code",
      "source": [
        "### Print the filled Tensor\n",
        "print(pt_tensor_filled_ex)"
      ],
      "execution_count": 16,
      "outputs": [
        {
          "output_type": "stream",
          "text": [
            "tensor([[[12345., 12345., 12345., 12345., 12345., 12345.],\n",
            "         [12345., 12345., 12345., 12345., 12345., 12345.],\n",
            "         [12345., 12345., 12345., 12345., 12345., 12345.],\n",
            "         [12345., 12345., 12345., 12345., 12345., 12345.]],\n",
            "\n",
            "        [[12345., 12345., 12345., 12345., 12345., 12345.],\n",
            "         [12345., 12345., 12345., 12345., 12345., 12345.],\n",
            "         [12345., 12345., 12345., 12345., 12345., 12345.],\n",
            "         [12345., 12345., 12345., 12345., 12345., 12345.]]])\n"
          ],
          "name": "stdout"
        }
      ]
    },
    {
      "metadata": {
        "id": "EKmQ7NILspdj",
        "colab_type": "code",
        "colab": {
          "base_uri": "https://localhost:8080/",
          "height": 170
        },
        "outputId": "eb68eaa8-edee-4eec-ebbf-92829da470b6"
      },
      "cell_type": "code",
      "source": [
        "### Since we did an in-place operation with 'fill_'\n",
        "### The empty Tensor also gets filled with the scalar\n",
        "print(pt_tensor_empty_ex)"
      ],
      "execution_count": 17,
      "outputs": [
        {
          "output_type": "stream",
          "text": [
            "tensor([[[12345., 12345., 12345., 12345., 12345., 12345.],\n",
            "         [12345., 12345., 12345., 12345., 12345., 12345.],\n",
            "         [12345., 12345., 12345., 12345., 12345., 12345.],\n",
            "         [12345., 12345., 12345., 12345., 12345., 12345.]],\n",
            "\n",
            "        [[12345., 12345., 12345., 12345., 12345., 12345.],\n",
            "         [12345., 12345., 12345., 12345., 12345., 12345.],\n",
            "         [12345., 12345., 12345., 12345., 12345., 12345.],\n",
            "         [12345., 12345., 12345., 12345., 12345., 12345.]]])\n"
          ],
          "name": "stdout"
        }
      ]
    }
  ]
}