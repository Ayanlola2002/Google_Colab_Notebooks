{
  "nbformat": 4,
  "nbformat_minor": 0,
  "metadata": {
    "colab": {
      "name": "Save and load PyTorch model.ipynb",
      "version": "0.3.2",
      "provenance": [],
      "collapsed_sections": [],
      "include_colab_link": true
    },
    "kernelspec": {
      "name": "python3",
      "display_name": "Python 3"
    },
    "accelerator": "GPU"
  },
  "cells": [
    {
      "cell_type": "markdown",
      "metadata": {
        "id": "view-in-github",
        "colab_type": "text"
      },
      "source": [
        "<a href=\"https://colab.research.google.com/github/paulgureghian/Google_Colab_Notebooks/blob/master/Save_and_load_PyTorch_model.ipynb\" target=\"_parent\"><img src=\"https://colab.research.google.com/assets/colab-badge.svg\" alt=\"Open In Colab\"/></a>"
      ]
    },
    {
      "metadata": {
        "id": "2eb-DdE08VLM",
        "colab_type": "text"
      },
      "cell_type": "markdown",
      "source": [
        "**Created by Paul A. Gureghian on 11/28/18.**\n",
        "\n",
        "**This notebook contains a blueprint for,**\n",
        "\n",
        "**saving and loading PyTorch models.**"
      ]
    },
    {
      "metadata": {
        "id": "AKC699DV7yyo",
        "colab_type": "code",
        "colab": {}
      },
      "cell_type": "code",
      "source": [
        "### Install CUDA driver\n",
        "# http://pytorch.org/\n",
        "from os.path import exists\n",
        "from wheel.pep425tags import get_abbr_impl, get_impl_ver, get_abi_tag\n",
        "platform = '{}{}-{}'.format(get_abbr_impl(), get_impl_ver(), get_abi_tag())\n",
        "cuda_output = !ldconfig -p|grep cudart.so|sed -e 's/.*\\.\\([0-9]*\\)\\.\\([0-9]*\\)$/cu\\1\\2/'\n",
        "accelerator = cuda_output[0] if exists('/dev/nvidia0') else 'cpu'\n",
        "\n",
        "!pip install -q http://download.pytorch.org/whl/{accelerator}/torch-0.4.1-{platform}-linux_x86_64.whl torchvision"
      ],
      "execution_count": 0,
      "outputs": []
    },
    {
      "metadata": {
        "id": "QdUXJgq63J06",
        "colab_type": "code",
        "outputId": "3df65954-710a-4259-dc64-1507bd9a62ed",
        "colab": {
          "base_uri": "https://localhost:8080/",
          "height": 34
        }
      },
      "cell_type": "code",
      "source": [
        "### Mount Google drive\n",
        "from google.colab import drive\n",
        "drive.mount('/content/drive')"
      ],
      "execution_count": 4,
      "outputs": [
        {
          "output_type": "stream",
          "text": [
            "Drive already mounted at /content/drive; to attempt to forcibly remount, call drive.mount(\"/content/drive\", force_remount=True).\n"
          ],
          "name": "stdout"
        }
      ]
    },
    {
      "metadata": {
        "id": "eldP1LUW2QTB",
        "colab_type": "code",
        "colab": {}
      },
      "cell_type": "code",
      "source": [
        "### Import 'fc_model' module\n",
        "import imp \n",
        "fc_model = imp.new_module('fc_model')\n",
        "exec(open(\"/content/drive/My Drive/Pytorch/pytorch/fc_model.py\").read(), fc_model.__dict__)"
      ],
      "execution_count": 0,
      "outputs": []
    },
    {
      "metadata": {
        "id": "1apreKz0G81O",
        "colab_type": "code",
        "colab": {}
      },
      "cell_type": "code",
      "source": [
        "### Import packages\n",
        "import torch\n",
        "#import fc_model\n",
        "import numpy as np\n",
        "from torch import nn, optim\n",
        "import torch.nn.functional as F\n",
        "import matplotlib.pyplot as plt\n",
        "from torchvision import  datasets, transforms"
      ],
      "execution_count": 0,
      "outputs": []
    },
    {
      "metadata": {
        "id": "5CdYBgalHntu",
        "colab_type": "code",
        "colab": {}
      },
      "cell_type": "code",
      "source": [
        "### Define a transform to normalize the data\n",
        "transform = transforms.Compose([transforms.ToTensor(), transforms.Normalize((0.5,0.5,0.5),(0.5,0.5,0.5))])"
      ],
      "execution_count": 0,
      "outputs": []
    },
    {
      "metadata": {
        "id": "08AhbiAZHvWj",
        "colab_type": "code",
        "outputId": "37409c49-aa92-4b6e-e80f-13d6b3896fe3",
        "colab": {
          "base_uri": "https://localhost:8080/",
          "height": 119
        }
      },
      "cell_type": "code",
      "source": [
        "### Download and load the training data\n",
        "trainset = datasets.FashionMNIST('~/.pytorch/F_MNIST_data/', download=True, train=True, transform=transform)\n",
        "trainloader = torch.utils.data.DataLoader(trainset, batch_size=64, shuffle=True)"
      ],
      "execution_count": 8,
      "outputs": [
        {
          "output_type": "stream",
          "text": [
            "Downloading http://fashion-mnist.s3-website.eu-central-1.amazonaws.com/train-images-idx3-ubyte.gz\n",
            "Downloading http://fashion-mnist.s3-website.eu-central-1.amazonaws.com/train-labels-idx1-ubyte.gz\n",
            "Downloading http://fashion-mnist.s3-website.eu-central-1.amazonaws.com/t10k-images-idx3-ubyte.gz\n",
            "Downloading http://fashion-mnist.s3-website.eu-central-1.amazonaws.com/t10k-labels-idx1-ubyte.gz\n",
            "Processing...\n",
            "Done!\n"
          ],
          "name": "stdout"
        }
      ]
    },
    {
      "metadata": {
        "id": "7-Jz8p4FHeJ9",
        "colab_type": "code",
        "colab": {}
      },
      "cell_type": "code",
      "source": [
        "### ### Download and load the testing data\n",
        "testset = datasets.FashionMNIST('~/.pytorch/F_MNIST_data/', download=True, train=False, transform=transform)\n",
        "testloader = torch.utils.data.DataLoader(testset, batch_size=64, shuffle=True)"
      ],
      "execution_count": 0,
      "outputs": []
    },
    {
      "metadata": {
        "id": "wSSBe0QZOJ_N",
        "colab_type": "code",
        "colab": {}
      },
      "cell_type": "code",
      "source": [
        "def imshow(image, ax=None, title=None, normalize=True):\n",
        "    \"\"\"Imshow for Tensor.\"\"\"\n",
        "    if ax is None:\n",
        "        fig, ax = plt.subplots()\n",
        "    image = image.numpy().transpose((1, 2, 0))\n",
        "\n",
        "    if normalize:\n",
        "        mean = np.array([0.485, 0.456, 0.406])\n",
        "        std = np.array([0.229, 0.224, 0.225])\n",
        "        image = std * image + mean\n",
        "        image = np.clip(image, 0, 1)\n",
        "\n",
        "    ax.imshow(image)\n",
        "    ax.spines['top'].set_visible(False)\n",
        "    ax.spines['right'].set_visible(False)\n",
        "    ax.spines['left'].set_visible(False)\n",
        "    ax.spines['bottom'].set_visible(False)\n",
        "    ax.tick_params(axis='both', length=0)\n",
        "    ax.set_xticklabels('')\n",
        "    ax.set_yticklabels('')\n",
        "\n",
        "    return ax"
      ],
      "execution_count": 0,
      "outputs": []
    },
    {
      "metadata": {
        "id": "0raUHHkUNzIw",
        "colab_type": "code",
        "outputId": "24171568-925e-4bca-9273-748e112a539f",
        "colab": {
          "base_uri": "https://localhost:8080/",
          "height": 330
        }
      },
      "cell_type": "code",
      "source": [
        "### View one of the images \n",
        "image, label = next(iter(trainloader))\n",
        "imshow(image[0,:]);"
      ],
      "execution_count": 11,
      "outputs": [
        {
          "output_type": "display_data",
          "data": {
            "image/png": "[encoded data removed]",
            "text/plain": [
              "<matplotlib.figure.Figure at 0x7fb94d3f1e80>"
            ]
          },
          "metadata": {
            "tags": []
          }
        }
      ]
    },
    {
      "metadata": {
        "id": "krI_0Kh1OoJS",
        "colab_type": "code",
        "colab": {}
      },
      "cell_type": "code",
      "source": [
        "### Create a network with hyperparams and metrics\n",
        "model = fc_model.Network(784, 10, [512, 256, 128])\n",
        "criterion = nn.NLLLoss()\n",
        "optimizer = optim.Adam(model.parameters(), lr=0.001)"
      ],
      "execution_count": 0,
      "outputs": []
    },
    {
      "metadata": {
        "id": "XzChxwG3RJ1s",
        "colab_type": "code",
        "outputId": "2812655a-354f-4d73-bc20-6f8ad02b1d0f",
        "colab": {
          "base_uri": "https://localhost:8080/",
          "height": 799
        }
      },
      "cell_type": "code",
      "source": [
        "### Train the network \n",
        "fc_model.train(model, trainloader, testloader, criterion, optimizer, epochs=2)"
      ],
      "execution_count": 13,
      "outputs": [
        {
          "output_type": "stream",
          "text": [
            "Epoch: 1/2..  Training Loss: 1.704..  Test Loss: 1.033..  Test Accuracy: 0.632\n",
            "Epoch: 1/2..  Training Loss: 1.069..  Test Loss: 0.775..  Test Accuracy: 0.698\n",
            "Epoch: 1/2..  Training Loss: 0.897..  Test Loss: 0.681..  Test Accuracy: 0.740\n",
            "Epoch: 1/2..  Training Loss: 0.826..  Test Loss: 0.658..  Test Accuracy: 0.753\n",
            "Epoch: 1/2..  Training Loss: 0.739..  Test Loss: 0.624..  Test Accuracy: 0.761\n",
            "Epoch: 1/2..  Training Loss: 0.729..  Test Loss: 0.588..  Test Accuracy: 0.772\n",
            "Epoch: 1/2..  Training Loss: 0.662..  Test Loss: 0.592..  Test Accuracy: 0.779\n",
            "Epoch: 1/2..  Training Loss: 0.716..  Test Loss: 0.578..  Test Accuracy: 0.783\n",
            "Epoch: 1/2..  Training Loss: 0.665..  Test Loss: 0.585..  Test Accuracy: 0.780\n",
            "Epoch: 1/2..  Training Loss: 0.629..  Test Loss: 0.562..  Test Accuracy: 0.790\n",
            "Epoch: 1/2..  Training Loss: 0.674..  Test Loss: 0.545..  Test Accuracy: 0.800\n",
            "Epoch: 1/2..  Training Loss: 0.641..  Test Loss: 0.523..  Test Accuracy: 0.809\n",
            "Epoch: 1/2..  Training Loss: 0.592..  Test Loss: 0.527..  Test Accuracy: 0.801\n",
            "Epoch: 1/2..  Training Loss: 0.633..  Test Loss: 0.521..  Test Accuracy: 0.809\n",
            "Epoch: 1/2..  Training Loss: 0.615..  Test Loss: 0.503..  Test Accuracy: 0.814\n",
            "Epoch: 1/2..  Training Loss: 0.563..  Test Loss: 0.503..  Test Accuracy: 0.814\n",
            "Epoch: 1/2..  Training Loss: 0.622..  Test Loss: 0.511..  Test Accuracy: 0.815\n",
            "Epoch: 1/2..  Training Loss: 0.603..  Test Loss: 0.505..  Test Accuracy: 0.818\n",
            "Epoch: 1/2..  Training Loss: 0.582..  Test Loss: 0.503..  Test Accuracy: 0.819\n",
            "Epoch: 1/2..  Training Loss: 0.547..  Test Loss: 0.484..  Test Accuracy: 0.822\n",
            "Epoch: 1/2..  Training Loss: 0.540..  Test Loss: 0.488..  Test Accuracy: 0.817\n",
            "Epoch: 1/2..  Training Loss: 0.569..  Test Loss: 0.477..  Test Accuracy: 0.822\n",
            "Epoch: 1/2..  Training Loss: 0.547..  Test Loss: 0.503..  Test Accuracy: 0.810\n",
            "Epoch: 2/2..  Training Loss: 0.569..  Test Loss: 0.485..  Test Accuracy: 0.822\n",
            "Epoch: 2/2..  Training Loss: 0.562..  Test Loss: 0.477..  Test Accuracy: 0.825\n",
            "Epoch: 2/2..  Training Loss: 0.578..  Test Loss: 0.482..  Test Accuracy: 0.821\n",
            "Epoch: 2/2..  Training Loss: 0.591..  Test Loss: 0.478..  Test Accuracy: 0.824\n",
            "Epoch: 2/2..  Training Loss: 0.577..  Test Loss: 0.471..  Test Accuracy: 0.825\n",
            "Epoch: 2/2..  Training Loss: 0.548..  Test Loss: 0.485..  Test Accuracy: 0.826\n",
            "Epoch: 2/2..  Training Loss: 0.506..  Test Loss: 0.469..  Test Accuracy: 0.826\n",
            "Epoch: 2/2..  Training Loss: 0.506..  Test Loss: 0.461..  Test Accuracy: 0.832\n",
            "Epoch: 2/2..  Training Loss: 0.546..  Test Loss: 0.483..  Test Accuracy: 0.825\n",
            "Epoch: 2/2..  Training Loss: 0.541..  Test Loss: 0.460..  Test Accuracy: 0.832\n",
            "Epoch: 2/2..  Training Loss: 0.494..  Test Loss: 0.462..  Test Accuracy: 0.833\n",
            "Epoch: 2/2..  Training Loss: 0.545..  Test Loss: 0.453..  Test Accuracy: 0.834\n",
            "Epoch: 2/2..  Training Loss: 0.501..  Test Loss: 0.485..  Test Accuracy: 0.827\n",
            "Epoch: 2/2..  Training Loss: 0.527..  Test Loss: 0.457..  Test Accuracy: 0.835\n",
            "Epoch: 2/2..  Training Loss: 0.521..  Test Loss: 0.466..  Test Accuracy: 0.824\n",
            "Epoch: 2/2..  Training Loss: 0.545..  Test Loss: 0.473..  Test Accuracy: 0.827\n",
            "Epoch: 2/2..  Training Loss: 0.511..  Test Loss: 0.449..  Test Accuracy: 0.834\n",
            "Epoch: 2/2..  Training Loss: 0.519..  Test Loss: 0.438..  Test Accuracy: 0.840\n",
            "Epoch: 2/2..  Training Loss: 0.517..  Test Loss: 0.444..  Test Accuracy: 0.838\n",
            "Epoch: 2/2..  Training Loss: 0.520..  Test Loss: 0.447..  Test Accuracy: 0.836\n",
            "Epoch: 2/2..  Training Loss: 0.549..  Test Loss: 0.450..  Test Accuracy: 0.837\n",
            "Epoch: 2/2..  Training Loss: 0.569..  Test Loss: 0.443..  Test Accuracy: 0.836\n",
            "Epoch: 2/2..  Training Loss: 0.529..  Test Loss: 0.486..  Test Accuracy: 0.824\n"
          ],
          "name": "stdout"
        }
      ]
    },
    {
      "metadata": {
        "id": "MY4lKjRZ1olX",
        "colab_type": "code",
        "outputId": "41a86261-28ae-45de-a386-1b59d1de6227",
        "colab": {
          "base_uri": "https://localhost:8080/",
          "height": 258
        }
      },
      "cell_type": "code",
      "source": [
        "### Print the model.state dictionary keys\n",
        "print(\"Model :\\n\", model, '\\n')\n",
        "print(\"The state dict keys:\\n \", model.state_dict().keys())"
      ],
      "execution_count": 14,
      "outputs": [
        {
          "output_type": "stream",
          "text": [
            "Model :\n",
            " Network(\n",
            "  (hidden_layers): ModuleList(\n",
            "    (0): Linear(in_features=784, out_features=512, bias=True)\n",
            "    (1): Linear(in_features=512, out_features=256, bias=True)\n",
            "    (2): Linear(in_features=256, out_features=128, bias=True)\n",
            "  )\n",
            "  (output): Linear(in_features=128, out_features=10, bias=True)\n",
            "  (dropout): Dropout(p=0.5)\n",
            ") \n",
            "\n",
            "The state dict keys:\n",
            "  odict_keys(['hidden_layers.0.weight', 'hidden_layers.0.bias', 'hidden_layers.1.weight', 'hidden_layers.1.bias', 'hidden_layers.2.weight', 'hidden_layers.2.bias', 'output.weight', 'output.bias'])\n"
          ],
          "name": "stdout"
        }
      ]
    },
    {
      "metadata": {
        "id": "njqiUxZh3RRc",
        "colab_type": "code",
        "colab": {}
      },
      "cell_type": "code",
      "source": [
        "### Save the model to a file \n",
        "torch.save(model.state_dict(), 'checkpoint.pth')"
      ],
      "execution_count": 0,
      "outputs": []
    },
    {
      "metadata": {
        "id": "m1g6xXpp3pRP",
        "colab_type": "code",
        "outputId": "b3df0b8e-3344-4a9c-b0f2-422b07c175e0",
        "colab": {
          "base_uri": "https://localhost:8080/",
          "height": 54
        }
      },
      "cell_type": "code",
      "source": [
        "### Load the model from a file \n",
        "state_dict = torch.load('checkpoint.pth')\n",
        "print(state_dict.keys())"
      ],
      "execution_count": 16,
      "outputs": [
        {
          "output_type": "stream",
          "text": [
            "odict_keys(['hidden_layers.0.weight', 'hidden_layers.0.bias', 'hidden_layers.1.weight', 'hidden_layers.1.bias', 'hidden_layers.2.weight', 'hidden_layers.2.bias', 'output.weight', 'output.bias'])\n"
          ],
          "name": "stdout"
        }
      ]
    },
    {
      "metadata": {
        "id": "N2GyzbyK36X8",
        "colab_type": "code",
        "colab": {}
      },
      "cell_type": "code",
      "source": [
        "### Load the 'state_dict' into the network\n",
        "model.load_state_dict(state_dict)"
      ],
      "execution_count": 0,
      "outputs": []
    },
    {
      "metadata": {
        "id": "E4LaFiCP47x0",
        "colab_type": "code",
        "outputId": "55cbb9d6-763f-4f5d-fbc7-051e5af831a9",
        "colab": {
          "base_uri": "https://localhost:8080/",
          "height": 438
        }
      },
      "cell_type": "code",
      "source": [
        "### Model architecture must match the checkpoint architecture \n",
        "model = fc_model.Network(784, 10, [400, 200, 100])\n",
        "model.load_state_dict(state_dict)"
      ],
      "execution_count": 18,
      "outputs": [
        {
          "output_type": "error",
          "ename": "RuntimeError",
          "evalue": "ignored",
          "traceback": [
            "\u001b[0;31m---------------------------------------------------------------------------\u001b[0m",
            "\u001b[0;31mRuntimeError\u001b[0m                              Traceback (most recent call last)",
            "\u001b[0;32m<ipython-input-18-5530b1a255ab>\u001b[0m in \u001b[0;36m<module>\u001b[0;34m()\u001b[0m\n\u001b[1;32m      1\u001b[0m \u001b[0mmodel\u001b[0m \u001b[0;34m=\u001b[0m \u001b[0mfc_model\u001b[0m\u001b[0;34m.\u001b[0m\u001b[0mNetwork\u001b[0m\u001b[0;34m(\u001b[0m\u001b[0;36m784\u001b[0m\u001b[0;34m,\u001b[0m \u001b[0;36m10\u001b[0m\u001b[0;34m,\u001b[0m \u001b[0;34m[\u001b[0m\u001b[0;36m400\u001b[0m\u001b[0;34m,\u001b[0m \u001b[0;36m200\u001b[0m\u001b[0;34m,\u001b[0m \u001b[0;36m100\u001b[0m\u001b[0;34m]\u001b[0m\u001b[0;34m)\u001b[0m\u001b[0;34m\u001b[0m\u001b[0;34m\u001b[0m\u001b[0m\n\u001b[0;32m----> 2\u001b[0;31m \u001b[0mmodel\u001b[0m\u001b[0;34m.\u001b[0m\u001b[0mload_state_dict\u001b[0m\u001b[0;34m(\u001b[0m\u001b[0mstate_dict\u001b[0m\u001b[0;34m)\u001b[0m\u001b[0;34m\u001b[0m\u001b[0;34m\u001b[0m\u001b[0m\n\u001b[0m",
            "\u001b[0;32m/usr/local/lib/python3.6/dist-packages/torch/nn/modules/module.py\u001b[0m in \u001b[0;36mload_state_dict\u001b[0;34m(self, state_dict, strict)\u001b[0m\n\u001b[1;32m    717\u001b[0m         \u001b[0;32mif\u001b[0m \u001b[0mlen\u001b[0m\u001b[0;34m(\u001b[0m\u001b[0merror_msgs\u001b[0m\u001b[0;34m)\u001b[0m \u001b[0;34m>\u001b[0m \u001b[0;36m0\u001b[0m\u001b[0;34m:\u001b[0m\u001b[0;34m\u001b[0m\u001b[0;34m\u001b[0m\u001b[0m\n\u001b[1;32m    718\u001b[0m             raise RuntimeError('Error(s) in loading state_dict for {}:\\n\\t{}'.format(\n\u001b[0;32m--> 719\u001b[0;31m                                self.__class__.__name__, \"\\n\\t\".join(error_msgs)))\n\u001b[0m\u001b[1;32m    720\u001b[0m \u001b[0;34m\u001b[0m\u001b[0m\n\u001b[1;32m    721\u001b[0m     \u001b[0;32mdef\u001b[0m \u001b[0mparameters\u001b[0m\u001b[0;34m(\u001b[0m\u001b[0mself\u001b[0m\u001b[0;34m)\u001b[0m\u001b[0;34m:\u001b[0m\u001b[0;34m\u001b[0m\u001b[0;34m\u001b[0m\u001b[0m\n",
            "\u001b[0;31mRuntimeError\u001b[0m: Error(s) in loading state_dict for Network:\n\tsize mismatch for hidden_layers.0.weight: copying a param of torch.Size([400, 784]) from checkpoint, where the shape is torch.Size([512, 784]) in current model.\n\tsize mismatch for hidden_layers.0.bias: copying a param of torch.Size([400]) from checkpoint, where the shape is torch.Size([512]) in current model.\n\tsize mismatch for hidden_layers.1.weight: copying a param of torch.Size([200, 400]) from checkpoint, where the shape is torch.Size([256, 512]) in current model.\n\tsize mismatch for hidden_layers.1.bias: copying a param of torch.Size([200]) from checkpoint, where the shape is torch.Size([256]) in current model.\n\tsize mismatch for hidden_layers.2.weight: copying a param of torch.Size([100, 200]) from checkpoint, where the shape is torch.Size([128, 256]) in current model.\n\tsize mismatch for hidden_layers.2.bias: copying a param of torch.Size([100]) from checkpoint, where the shape is torch.Size([128]) in current model.\n\tsize mismatch for output.weight: copying a param of torch.Size([10, 100]) from checkpoint, where the shape is torch.Size([10, 128]) in current model."
          ]
        }
      ]
    },
    {
      "metadata": {
        "id": "rpKhFIQkGMpg",
        "colab_type": "code",
        "colab": {}
      },
      "cell_type": "code",
      "source": [
        "### Rebuild the model\n",
        "checkpoint = {'input_size': 784, 'output_size':10, 'hidden_layers': [each.out_features for each in model.hidden_layers], 'state_dict':model.state_dict()}\n",
        "torch.save(checkpoint, 'checkpoint.pth')"
      ],
      "execution_count": 0,
      "outputs": []
    },
    {
      "metadata": {
        "id": "QBUUay-vKT8w",
        "colab_type": "code",
        "colab": {}
      },
      "cell_type": "code",
      "source": [
        "### Define a function to 'load_checkpoint'\n",
        "def load_checkpoint(filepath):\n",
        "    checkpoint = torch.load(filepath)\n",
        "    model = fc_model.Network(checkpoint['input_size'],checkpoint['output_size'],checkpoint['hidden_layers'])\n",
        "    model.load_state_dict(checkpoint['state_dict'])\n",
        "  \n",
        "    return model"
      ],
      "execution_count": 0,
      "outputs": []
    },
    {
      "metadata": {
        "id": "pW1BzrbLOQVi",
        "colab_type": "code",
        "colab": {}
      },
      "cell_type": "code",
      "source": [
        "### Load matched checkpoint architecture \n",
        "model = load_checkpoint('checkpoint.pth')"
      ],
      "execution_count": 0,
      "outputs": []
    },
    {
      "metadata": {
        "id": "j483IVSpLG2X",
        "colab_type": "code",
        "outputId": "4f50eba4-327c-41b9-b3d4-1cf393b8fd0d",
        "colab": {
          "base_uri": "https://localhost:8080/",
          "height": 34
        }
      },
      "cell_type": "code",
      "source": [
        "!pwd"
      ],
      "execution_count": 22,
      "outputs": [
        {
          "output_type": "stream",
          "text": [
            "/content\n"
          ],
          "name": "stdout"
        }
      ]
    }
  ]
}